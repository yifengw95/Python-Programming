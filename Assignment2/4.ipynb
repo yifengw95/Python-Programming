{
 "cells": [
  {
   "cell_type": "code",
   "execution_count": 64,
   "metadata": {},
   "outputs": [],
   "source": [
    "import csv\n",
    "def read_csv_dict(filename):\n",
    "    with open(filename, 'r') as file_handle:\n",
    "        reader = csv.DictReader(file_handle, delimiter=\",\")\n",
    "        csv_list = list(reader)\n",
    "    return csv_list"
   ]
  },
  {
   "cell_type": "code",
   "execution_count": 65,
   "metadata": {},
   "outputs": [],
   "source": [
    "class players():\n",
    "    total_player = dict()\n",
    "    def __init__(self,playerId):\n",
    "        self.playerId = playerId\n",
    "        self.games = []\n",
    "        self.numberGames = 0\n",
    "        self.firstName = None\n",
    "        self.lastName = None\n",
    "        self.totalQBR = None\n",
    "    \n",
    "    def set_team(self,team):\n",
    "        self.team = team\n",
    "    def add_games(self,gameId):\n",
    "        self.games.append(gameId)\n",
    "        self.numberGames = self.numberGames + 1\n",
    "    def set_name(self, firstName, lastName):\n",
    "        self.firstName = firstName\n",
    "        self.lastName = lastName\n",
    "    \n",
    "    def get_games(self):\n",
    "        return self.games\n",
    "    def get_numberGames(self):\n",
    "        return self.numberGames\n",
    "    def get_id(self):\n",
    "        return self.playerId\n",
    "    def get_name(self):\n",
    "        self.fullName = self.firstName + ' ' + self.lastName\n",
    "        return self.fullName\n",
    "    def get_team(self):\n",
    "        return self.team\n",
    "    def get_QBR(self):\n",
    "        return self.totalQBR"
   ]
  },
  {
   "cell_type": "code",
   "execution_count": 66,
   "metadata": {},
   "outputs": [],
   "source": [
    "class games():\n",
    "    total_games = dict()\n",
    "    def __init__(self, gameId):\n",
    "        self.gameId = gameId\n",
    "        self.player = []\n",
    "        self.totalQBR = dict()\n",
    "        self.outcome = dict()\n",
    "        self.homeAway = dict()\n",
    "        self.actionPlays = dict()\n",
    "        \n",
    "    def set_place(self, place):\n",
    "        self.place = place\n",
    "    def add_player(self, player):\n",
    "        self.player.append(player)\n",
    "    def set_QBR(self, player_id, QBR):\n",
    "        self.totalQBR[player_id] = QBR\n",
    "    def set_outcome(self, player_id, outcome):\n",
    "        self.outcome[player_id] = outcome\n",
    "    def set_homeAway(self, player_id, homeAway):\n",
    "        self.homeAway[player_id] = homeAway\n",
    "    def set_actionPlays(self, player_id, actionPlays):\n",
    "        self.actionPlays[player_id] = actionPlays\n",
    "        \n",
    "    def get_place(self):\n",
    "        return self.place\n",
    "    def get_player(self):\n",
    "        return self.player\n",
    "    def get_id(self):\n",
    "        return self.gameId\n",
    "    def get_QBR(self, player_id):\n",
    "        return self.totalQBR[player_id]\n",
    "    def get_outcome(self, player_id):\n",
    "        return self.outcome[player_id]\n",
    "    def get_homeAway(self, player_id):\n",
    "        return self.homeAway[player_id]\n",
    "    def get_actionPlays(self, player_id):\n",
    "        return self.actionPlays[player_id]"
   ]
  },
  {
   "cell_type": "code",
   "execution_count": 67,
   "metadata": {},
   "outputs": [
    {
     "data": {
      "text/plain": [
       "'temp_list = read_csv_dict(temp_name)\\nfor record in temp_list:\\n    print (record)'"
      ]
     },
     "execution_count": 67,
     "metadata": {},
     "output_type": "execute_result"
    }
   ],
   "source": [
    "'''temp_list = read_csv_dict(temp_name)\n",
    "for record in temp_list:\n",
    "    print (record)'''"
   ]
  },
  {
   "cell_type": "code",
   "execution_count": 68,
   "metadata": {
    "scrolled": true
   },
   "outputs": [],
   "source": [
    "temp_year = list(range(2004, 2018))\n",
    "for i in temp_year:\n",
    "    temp_name = str(i) + '.csv'\n",
    "    temp_list = []\n",
    "    temp_list = read_csv_dict(temp_name)\n",
    "    for records in temp_list:\n",
    "        game_id =  records['espn_game_id']\n",
    "        player_id = records['espn_player_id']\n",
    "\n",
    "        if game_id in games.total_games:\n",
    "            pass \n",
    "        else:\n",
    "            games.total_games[game_id] = games(game_id)\n",
    "\n",
    "        games.total_games[game_id].set_QBR(player_id, records['total_QBR'])\n",
    "        games.total_games[game_id].set_outcome(player_id, records['won_lost'])\n",
    "        games.total_games[game_id].add_player(player_id) \n",
    "        games.total_games[game_id].set_homeAway(player_id, records['home_away'])\n",
    "        games.total_games[game_id].set_actionPlays(player_id, records['action_plays'])\n",
    "\n",
    "        if player_id in players.total_player:\n",
    "            pass\n",
    "        else:\n",
    "            players.total_player[player_id] = players(player_id)\n",
    "\n",
    "        players.total_player[player_id].set_name(records['first_name'], records['last_name']) \n",
    "        players.total_player[player_id].add_games(game_id)\n",
    "\n",
    "\n",
    "\n",
    "\n"
   ]
  },
  {
   "cell_type": "markdown",
   "metadata": {},
   "source": [
    "(7 points) Which player (in which game) had the highest total_QBR in a loss?  What was the value?"
   ]
  },
  {
   "cell_type": "code",
   "execution_count": 69,
   "metadata": {},
   "outputs": [
    {
     "name": "stdout",
     "output_type": "stream",
     "text": [
      "highest total_QBR 99.2\n",
      "player Kevin Ellison\n",
      "game 400547773.0\n"
     ]
    }
   ],
   "source": [
    "player = None\n",
    "game = None\n",
    "highest_value = None\n",
    "\n",
    "for i_game in games.total_games:\n",
    "    for i_player in games.total_games[i_game].totalQBR.keys():\n",
    "        if (highest_value == None or \\\n",
    "        highest_value <= games.total_games[i_game].get_QBR(i_player) )and \\\n",
    "        games.total_games[i_game].get_outcome(i_player) == 'L':\n",
    "            highest_value = games.total_games[i_game].get_QBR(i_player)\n",
    "            player = i_player\n",
    "            game = i_game\n",
    "            \n",
    "print('highest total_QBR', highest_value)\n",
    "print('player', players.total_player[player].get_name())\n",
    "print('game', game)\n"
   ]
  },
  {
   "cell_type": "markdown",
   "metadata": {},
   "source": [
    "(7 points) Which player (in which game) had the lowesttotal_QBR in a win?  What was the value?"
   ]
  },
  {
   "cell_type": "code",
   "execution_count": 70,
   "metadata": {},
   "outputs": [
    {
     "name": "stdout",
     "output_type": "stream",
     "text": [
      "lowesttotal_QBR 1.0\n",
      "player Ricky Stanzi\n",
      "game 282572294.0\n"
     ]
    }
   ],
   "source": [
    "player = None\n",
    "game = None\n",
    "lowest_value = None\n",
    "\n",
    "for i_game in games.total_games:\n",
    "    for i_player in games.total_games[i_game].totalQBR.keys():\n",
    "        if (lowest_value == None or \\\n",
    "        lowest_value >= games.total_games[i_game].get_QBR(i_player) )\\\n",
    "        and games.total_games[i_game].get_outcome(i_player) == 'W':\n",
    "            lowest_value = games.total_games[i_game].get_QBR(i_player)\n",
    "            player = i_player\n",
    "            game = i_game\n",
    "print('lowesttotal_QBR', lowest_value)\n",
    "print('player', players.total_player[player].get_name())\n",
    "print('game', game)"
   ]
  },
  {
   "cell_type": "code",
   "execution_count": 71,
   "metadata": {},
   "outputs": [
    {
     "name": "stdout",
     "output_type": "stream",
     "text": [
      "Object `action_plays` not found.\n"
     ]
    }
   ],
   "source": [
    "(4 points) Which player (in which game) had the highest number of action_plays?"
   ]
  },
  {
   "cell_type": "code",
   "execution_count": null,
   "metadata": {},
   "outputs": [],
   "source": [
    "(4 points) Which player (in which game) had the highest number of action_plays"
   ]
  },
  {
   "cell_type": "code",
   "execution_count": 72,
   "metadata": {},
   "outputs": [
    {
     "ename": "SyntaxError",
     "evalue": "invalid syntax (<ipython-input-72-526dfa0955cd>, line 1)",
     "output_type": "error",
     "traceback": [
      "\u001b[0;36m  File \u001b[0;32m\"<ipython-input-72-526dfa0955cd>\"\u001b[0;36m, line \u001b[0;32m1\u001b[0m\n\u001b[0;31m    (4 points) Which player (in which game) had the highest number of action_plays\u001b[0m\n\u001b[0m            ^\u001b[0m\n\u001b[0;31mSyntaxError\u001b[0m\u001b[0;31m:\u001b[0m invalid syntax\n"
     ]
    }
   ],
   "source": [
    "(4 points) Which player (in which game) had the highest number of action_plays"
   ]
  },
  {
   "cell_type": "code",
   "execution_count": 73,
   "metadata": {},
   "outputs": [
    {
     "ename": "SyntaxError",
     "evalue": "invalid syntax (<ipython-input-73-526dfa0955cd>, line 1)",
     "output_type": "error",
     "traceback": [
      "\u001b[0;36m  File \u001b[0;32m\"<ipython-input-73-526dfa0955cd>\"\u001b[0;36m, line \u001b[0;32m1\u001b[0m\n\u001b[0;31m    (4 points) Which player (in which game) had the highest number of action_plays\u001b[0m\n\u001b[0m            ^\u001b[0m\n\u001b[0;31mSyntaxError\u001b[0m\u001b[0;31m:\u001b[0m invalid syntax\n"
     ]
    }
   ],
   "source": [
    "(4 points) Which player (in which game) had the highest number of action_plays"
   ]
  },
  {
   "cell_type": "markdown",
   "metadata": {},
   "source": [
    "(4 points) Which player (in which game) had the highest number of action_plays"
   ]
  },
  {
   "cell_type": "code",
   "execution_count": 74,
   "metadata": {},
   "outputs": [
    {
     "name": "stdout",
     "output_type": "stream",
     "text": [
      "highest action_plays 97\n",
      "player Connor Halliday\n",
      "game 332922483.0\n"
     ]
    }
   ],
   "source": [
    "player = None\n",
    "game = None\n",
    "highest_action_plays = None\n",
    "\n",
    "for i_game in games.total_games:\n",
    "    for i_player in games.total_games[i_game].actionPlays.keys():\n",
    "        if (highest_action_plays == None or \\\n",
    "        highest_action_plays <= games.total_games[i_game].get_actionPlays(i_player) ):\n",
    "            highest_action_plays = games.total_games[i_game].get_actionPlays(i_player)\n",
    "            player = i_player\n",
    "            game = i_game\n",
    "            \n",
    "print('highest action_plays', highest_action_plays)\n",
    "print('player', players.total_player[player].get_name())\n",
    "print('game', game)\n"
   ]
  },
  {
   "cell_type": "markdown",
   "metadata": {},
   "source": [
    "The player with the highest average total_QBR"
   ]
  },
  {
   "cell_type": "code",
   "execution_count": 75,
   "metadata": {},
   "outputs": [
    {
     "name": "stdout",
     "output_type": "stream",
     "text": [
      "highest average total_QBR action_plays 99.9\n",
      "player Tommy Stevens\n"
     ]
    }
   ],
   "source": [
    "player = None\n",
    "highest_total_QBR = None\n",
    "\n",
    "for i_player in players.total_player:\n",
    "    temp_sum = 0.0\n",
    "    for i_game in players.total_player[i_player].get_games():\n",
    "        temp_sum = temp_sum + float(games.total_games[i_game].get_QBR(i_player))\n",
    "    temp_ave = temp_sum / len(players.total_player[i_player].get_games())   \n",
    "        \n",
    "    if (highest_total_QBR == None or \\\n",
    "    highest_total_QBR <= temp_ave ):\n",
    "        highest_total_QBR = temp_ave\n",
    "        player = i_player\n",
    "\n",
    "print('highest average total_QBR action_plays', highest_total_QBR)\n",
    "print('player', players.total_player[player].get_name())"
   ]
  },
  {
   "cell_type": "markdown",
   "metadata": {},
   "source": [
    "What are the highest total_QBR values for a player who only started 1 game?  "
   ]
  },
  {
   "cell_type": "code",
   "execution_count": 76,
   "metadata": {},
   "outputs": [
    {
     "name": "stdout",
     "output_type": "stream",
     "text": [
      "highest_total_QBR action_plays 99.9\n",
      "player Tommy Stevens\n"
     ]
    }
   ],
   "source": [
    "player = None\n",
    "highest_total_QBR = None\n",
    "\n",
    "for i_player in players.total_player:\n",
    "    temp_sum = 0.0\n",
    "    for i_game in players.total_player[i_player].get_games():\n",
    "        temp_sum = temp_sum + float(games.total_games[i_game].get_QBR(i_player))\n",
    "    if len(players.total_player[i_player].get_games()) == 1:   \n",
    "        temp_ave = temp_sum / len(players.total_player[i_player].get_games())   \n",
    "        if (highest_total_QBR == None or \\\n",
    "        highest_total_QBR <= temp_ave ):\n",
    "            highest_total_QBR = temp_ave\n",
    "            player = i_player\n",
    "        \n",
    "    else:\n",
    "        pass\n",
    "        \n",
    "    \n",
    "print('highest_total_QBR action_plays', highest_total_QBR)\n",
    "print('player', players.total_player[player].get_name())"
   ]
  },
  {
   "cell_type": "code",
   "execution_count": 77,
   "metadata": {},
   "outputs": [
    {
     "ename": "SyntaxError",
     "evalue": "invalid syntax (<ipython-input-77-a41c3fe66abc>, line 1)",
     "output_type": "error",
     "traceback": [
      "\u001b[0;36m  File \u001b[0;32m\"<ipython-input-77-a41c3fe66abc>\"\u001b[0;36m, line \u001b[0;32m1\u001b[0m\n\u001b[0;31m    What are the lowest total_QBR values for a player who only started 1 game?\u001b[0m\n\u001b[0m           ^\u001b[0m\n\u001b[0;31mSyntaxError\u001b[0m\u001b[0;31m:\u001b[0m invalid syntax\n"
     ]
    }
   ],
   "source": [
    "What are the lowest total_QBR values for a player who only started 1 game?  "
   ]
  },
  {
   "cell_type": "code",
   "execution_count": 78,
   "metadata": {},
   "outputs": [
    {
     "name": "stdout",
     "output_type": "stream",
     "text": [
      "lowest_total_QBR action_plays 0.8\n",
      "player Cedric McCloud\n"
     ]
    }
   ],
   "source": [
    "player = None\n",
    "lowest_total_QBR = None\n",
    "\n",
    "for i_player in players.total_player:\n",
    "    temp_sum = 0.0\n",
    "    for i_game in players.total_player[i_player].get_games():\n",
    "        temp_sum = temp_sum + float(games.total_games[i_game].get_QBR(i_player))\n",
    "    if len(players.total_player[i_player].get_games()) == 1:   \n",
    "        temp_ave = temp_sum / len(players.total_player[i_player].get_games())   \n",
    "        if (lowest_total_QBR == None or \\\n",
    "        lowest_total_QBR >= temp_ave ):\n",
    "            lowest_total_QBR = temp_ave\n",
    "            player = i_player\n",
    "        \n",
    "    else:\n",
    "        pass\n",
    "        \n",
    "    \n",
    "print('lowest_total_QBR action_plays', lowest_total_QBR)\n",
    "print('player', players.total_player[player].get_name())"
   ]
  },
  {
   "cell_type": "code",
   "execution_count": null,
   "metadata": {},
   "outputs": [],
   "source": []
  },
  {
   "cell_type": "code",
   "execution_count": null,
   "metadata": {},
   "outputs": [],
   "source": []
  },
  {
   "cell_type": "code",
   "execution_count": null,
   "metadata": {},
   "outputs": [],
   "source": []
  }
 ],
 "metadata": {
  "kernelspec": {
   "display_name": "Python 3",
   "language": "python",
   "name": "python3"
  },
  "language_info": {
   "codemirror_mode": {
    "name": "ipython",
    "version": 3
   },
   "file_extension": ".py",
   "mimetype": "text/x-python",
   "name": "python",
   "nbconvert_exporter": "python",
   "pygments_lexer": "ipython3",
   "version": "3.7.1"
  }
 },
 "nbformat": 4,
 "nbformat_minor": 2
}
