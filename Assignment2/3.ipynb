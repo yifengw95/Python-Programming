{
 "cells": [
  {
   "cell_type": "markdown",
   "metadata": {},
   "source": [
    "Exercise 10.2 This program counts the distribution of the hour of the day for each of the messages. You can pull the hour from the “From” line by finding the time string and then splitting that string into parts using the colon character. Once you have accumulated the counts for each hour, print out the counts, one per line, sorted by hour as shown below.\n"
   ]
  },
  {
   "cell_type": "code",
   "execution_count": 27,
   "metadata": {},
   "outputs": [
    {
     "name": "stdout",
     "output_type": "stream",
     "text": [
      "please enter the file namembox-short.txt\n",
      "04 3\n",
      "06 1\n",
      "07 1\n",
      "09 2\n",
      "10 3\n",
      "11 6\n",
      "14 1\n",
      "15 2\n",
      "16 4\n",
      "17 2\n",
      "18 1\n",
      "19 1\n"
     ]
    }
   ],
   "source": [
    "input_name = input('please enter the file name')\n",
    "fhandle = open(input_name)\n",
    "output = dict()\n",
    "for line in fhandle:\n",
    "    if line.startswith('From '):\n",
    "        line = line.rstrip()\n",
    "        words = line.split(' ')\n",
    "        times = words[6]\n",
    "        time = times.split(':')\n",
    "        hour = time[0]\n",
    "        output[hour] = output.get(hour,0) + 1\n",
    "        \n",
    "output = sorted(output.items())\n",
    "for key, value in output:\n",
    "    print(key, value)\n"
   ]
  },
  {
   "cell_type": "code",
   "execution_count": null,
   "metadata": {},
   "outputs": [],
   "source": []
  },
  {
   "cell_type": "code",
   "execution_count": null,
   "metadata": {},
   "outputs": [],
   "source": []
  },
  {
   "cell_type": "code",
   "execution_count": null,
   "metadata": {},
   "outputs": [],
   "source": []
  },
  {
   "cell_type": "code",
   "execution_count": null,
   "metadata": {},
   "outputs": [],
   "source": []
  },
  {
   "cell_type": "code",
   "execution_count": null,
   "metadata": {},
   "outputs": [],
   "source": []
  }
 ],
 "metadata": {
  "kernelspec": {
   "display_name": "Python 3",
   "language": "python",
   "name": "python3"
  },
  "language_info": {
   "codemirror_mode": {
    "name": "ipython",
    "version": 3
   },
   "file_extension": ".py",
   "mimetype": "text/x-python",
   "name": "python",
   "nbconvert_exporter": "python",
   "pygments_lexer": "ipython3",
   "version": "3.7.1"
  }
 },
 "nbformat": 4,
 "nbformat_minor": 2
}
