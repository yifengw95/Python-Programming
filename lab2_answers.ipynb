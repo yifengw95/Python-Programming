{
 "cells": [
  {
   "cell_type": "markdown",
   "metadata": {},
   "source": [
    "INF 510, Lab #2 - With *Extra Credit*\n",
    "---------------\n",
    "\n",
    "Thursday, January 17 2019 (4:30 - 6:20pm)\n",
    "\n",
    " \n",
    "\n",
    "### Lab rules\n",
    "\n",
    "1.  This lab is to be done *individually*. You may talk to your fellow classmates about general issues (*\"Remind me again: What's the difference between a parameter and an argument?\"*) but not about the specifics of how to do these exercises.\n",
    "\n",
    "2.  Along a similar vein, you can ask the TA for help, but ask questions about **concepts**.  (i.e. *\"I don’t understand how the else block works\"*, not \"*my program isn’t doing what I want\"*).  The TA is there to help, but not to do your work for you.\n",
    "\n",
    "3.  You are welcome to use the class resources and the Internet. But try to google for *concepts*, not your specific tasks.  The goal for you to begin to start thinking algorithmically, and hopefully memorize a little syntax by osmosis. If you just blindly do the exercises, without actually *thinking* about them, the next time you see something related but slightly altered — like, say, on an exam — you won’t be able to solve the problem. So avoid brainlessly cutting and pasting code snippets.\n",
    "\n",
    "4.  Play with variations. Solve one of the problems, and then copy the code to a new cell and play around with it. Experiment! Break stuff! Doing this is **the single most important thing** when learning a programming language.\n",
    "\n",
    "5.  When you have finished all the exercises, let the TA know, and he will check your work.  Presuming you’ve done things correctly, you’re free to go.\n",
    "\n",
    "6.  Have fun!\n",
    "\n"
   ]
  },
  {
   "cell_type": "markdown",
   "metadata": {},
   "source": [
    "### Problem 1\n",
    "\n",
    "Write a program that asks the user \"How many cents do you have?\", and accepts an input.  Then, the program computes the number of dollars and cents you have, and outputs the appropriate values.  You should verify the user has typed in an appropriate input by catching exceptions.  You’ll need to look in the Python 3 \"integer division\" and \"modulus\" operators to do the math to compute dollars and cents from just cents.  The following code might be helpful:\n",
    "~~~~~~~~~~~~~~~~~~~~~~~~~~~~~~~~~~~~~~~~~~~~~~~~~~~~~~~~~~~~~~~~~~~~~~~~~~~~~~~~\n",
    "# One potential output string  \n",
    "print(\"You have \", dollars, \"dollars and \", cents, \"cents\")\n",
    "~~~~~~~~~~~~~~~~~~~~~~~~~~~~~~~~~~~~~~~~~~~~~~~~~~~~~~~~~~~~~~~~~~~~~~~~~~~~~~~~\n",
    "\n"
   ]
  },
  {
   "cell_type": "code",
   "execution_count": 2,
   "metadata": {},
   "outputs": [
    {
     "name": "stdout",
     "output_type": "stream",
     "text": [
      "324234\n"
     ]
    },
    {
     "data": {
      "text/plain": [
       "False"
      ]
     },
     "execution_count": 2,
     "metadata": {},
     "output_type": "execute_result"
    }
   ],
   "source": [
    "cents = input(\"Enter how many cents\")\n",
    "try:\n",
    "    cents = int(cents)\n",
    "    dollars = cents // 100\n",
    "    cents = cents % 100\n",
    "    print(\"You have\", dollars, \"dollars and \", cents, \"cents\")\n",
    "except ValueError:\n",
    "    print(\"You didn't enter an integer\")"
   ]
  },
  {
   "cell_type": "markdown",
   "metadata": {},
   "source": [
    "### Problem 2\n",
    "\n",
    "Take your code from above and convert it into a function.  It should take one argument (and *have* one parameter), which is the number of cents, **so you no longer need to collect user input**.  The function should also catch exceptions for valid user input as above, and print out the same output.  The function should return `\"You don't have enough money to survive a week!\"` if the number of dollars is less than 20. Otherwise, it should return `\"You can spend ${dollars} a day for a week\"`. You will want to [look at this page for help](https://docs.python.org/3.4/library/string.html#format-examples). After defining your function in a cell, invoke your function in the cell after that, and have it print out the return value.\n",
    "\n",
    "\n"
   ]
  },
  {
   "cell_type": "code",
   "execution_count": 1,
   "metadata": {},
   "outputs": [],
   "source": [
    "def rich_or_poor(number_of_cents):\n",
    "    try:\n",
    "        cents = int(number_of_cents)\n",
    "        dollars = cents // 100\n",
    "        cents = cents % 100\n",
    "        print(\"You have\", dollars, \"dollars and\", cents, \"cents\")\n",
    "    except ValueError:\n",
    "        print(\"You didn't enter an integer\")\n",
    "    if dollars < 20:\n",
    "        return \"You don't have enough money to survive a week!\"\n",
    "    else:\n",
    "        return \"You can spend ${dollars} a day for a week\".format(dollars=dollars/7)\n",
    "    # Note, could have also done an elif or else if"
   ]
  },
  {
   "cell_type": "code",
   "execution_count": 2,
   "metadata": {},
   "outputs": [
    {
     "name": "stdout",
     "output_type": "stream",
     "text": [
      "You have 49 dollars and 0 cents\n",
      "You can spend $7.0 a day for a week\n"
     ]
    }
   ],
   "source": [
    "print(rich_or_poor(4900))"
   ]
  },
  {
   "cell_type": "markdown",
   "metadata": {},
   "source": [
    "### Problem 3\n",
    "\n",
    "Define a function called \"dispatch\" that takes three arguments, *first, middle* and *last.*  Dispatch then calls one of three functions:\n",
    "\n",
    "1.  If the length (use the `len(string)` function to determine the length) of first is greater than middle and last, call *first_bigger*, with first as an argument, and then print out the returned value (see below).  Use boolean operators here to simplify your conditional clauses.\n",
    "\n",
    "2.  If the length of middle is greater than first and last, call *middle_bigger*, with middle as an argument, and then print out the returned value (see below)\n",
    "\n",
    "3.  If the length of last is greater than first and middle, call *last_bigger*, with last as an argument, and then print out the returned value (see below)\n",
    "\n",
    "4.  If — and only if! — none of these happen, \n",
    "- call *first_bigger* with first as an argument, \n",
    "- call *middle_bigger* with middle as an argument, and \n",
    "- call *last_bigger* and last as an argument.\n",
    "concatenate the results of these three function calls in that order, and print the result.\n",
    "\n",
    " \n",
    "\n",
    "*First_bigger* should take its argument, covert it to uppercase, and return the new string.  This conversion can be done by using the following syntax (try it out on your own!:\n",
    "\n",
    "~~~~~~~~~~~~~~~~~~~~~~~~~~~~~~~~~~~~~~~~~~~~~~~~~~~~~~~~~~~~~~~~~~~~~~~~~~~~~~~~\n",
    "lower_case = \"heya\"\n",
    "upper_case = lower_case.upper()\n",
    "print(upper_case) # Prints \"HEYA\"\n",
    "~~~~~~~~~~~~~~~~~~~~~~~~~~~~~~~~~~~~~~~~~~~~~~~~~~~~~~~~~~~~~~~~~~~~~~~~~~~~~~~~\n",
    "\n",
    " \n",
    "\n",
    "*middle_bigger* should do the same thing, but use the .lower() function and return the new string.\n",
    "\n",
    " \n",
    "\n",
    "*last_bigger *should do the same thing, but it should concatenate the string \" :)\" to the argument and return the new string.\n",
    "\n",
    " \n",
    "\n",
    "In each case, the calling function — dispatch — should print out the return value from the other function before terminating.  You do not need to catch exceptions here.  **The dispatch function itself should not return anything, only print**\n",
    "\n",
    "Here’s a sample output:\n",
    "\n",
    "~~~~~~~~~~~~~~~~~~~~~~~~~~~~~~~~~~~~~~~~~~~~~~~~~~~~~~~~~~~~~~~~~~~~~~~~~~~~~~~~\n",
    "[IN] dispatch(\"Tobi\", \"T\", \"Akomolede\")\n",
    "[OUT] Akomolede :)\n",
    "[IN] dispatch(\"small\", \"REALLY BIG\", \"small\")\n",
    "[OUT] really big\n",
    "[IN] dispatch(\"Eff\", \"Dee\", \"Are\")\n",
    "[OUT] EFFdeeAre :)\n",
    "[IN] dispatch(\"longest\", \"longer\", \"long\")\n",
    "[OUT] LONGEST\n",
    "~~~~~~~~~~~~~~~~~~~~~~~~~~~~~~~~~~~~~~~~~~~~~~~~~~~~~~~~~~~~~~~~~~~~~~~~~~~~~~~~\n",
    "\n",
    "Include a number of sample invocations of the dispatch function to show various outputs. \n"
   ]
  },
  {
   "cell_type": "code",
   "execution_count": 4,
   "metadata": {},
   "outputs": [],
   "source": [
    "def first_bigger(first):\n",
    "    return first.upper()\n",
    "def middle_bigger(middle):\n",
    "    return middle.lower()\n",
    "def last_bigger(last):\n",
    "    return last+\" :)\"\n",
    "\n",
    "def dispatch(first, middle, last):\n",
    "    firstLen, middleLen, lastLen = len(first), len(middle), len(last)\n",
    "    if (firstLen > middleLen) and (firstLen > lastLen):\n",
    "        print(first_bigger(first))\n",
    "    elif (middleLen > firstLen) and (middleLen > lastLen):\n",
    "        print(middle_bigger(middle))\n",
    "    elif (lastLen > firstLen) and (lastLen > middleLen):\n",
    "        print(last_bigger(last))\n",
    "    else:\n",
    "        print(first_bigger(first) + middle_bigger(middle) + last_bigger(last))"
   ]
  },
  {
   "cell_type": "code",
   "execution_count": 5,
   "metadata": {},
   "outputs": [
    {
     "name": "stdout",
     "output_type": "stream",
     "text": [
      "Akomolede :)\n"
     ]
    }
   ],
   "source": [
    "dispatch(\"Tobi\", \"T\", \"Akomolede\")"
   ]
  },
  {
   "cell_type": "code",
   "execution_count": 6,
   "metadata": {},
   "outputs": [
    {
     "name": "stdout",
     "output_type": "stream",
     "text": [
      "really big\n"
     ]
    }
   ],
   "source": [
    "dispatch(\"small\", \"REALLY BIG\", \"small\")"
   ]
  },
  {
   "cell_type": "code",
   "execution_count": 7,
   "metadata": {},
   "outputs": [
    {
     "name": "stdout",
     "output_type": "stream",
     "text": [
      "EFFdeeAre :)\n"
     ]
    }
   ],
   "source": [
    "dispatch(\"Eff\", \"Dee\", \"Are\")"
   ]
  },
  {
   "cell_type": "markdown",
   "metadata": {},
   "source": [
    "### Extra Credit Problem 1\n",
    "\n",
    "Modify your Problem 2 code such that the user is repeatedly asked for input until they enter a valid number."
   ]
  },
  {
   "cell_type": "code",
   "execution_count": 8,
   "metadata": {},
   "outputs": [],
   "source": [
    "def rich_or_poor(number_of_cents):\n",
    "    entered_cents = number_of_cents\n",
    "    while True:\n",
    "        try:\n",
    "            cents = int(entered_cents)\n",
    "            dollars = cents // 100\n",
    "            cents = cents % 100\n",
    "            print(\"You have\", dollars, \"dollars and\", cents, \"cents\")\n",
    "            if dollars < 20:\n",
    "                return \"You don't have enough money to survive a week!\"\n",
    "            else:\n",
    "                return \"You can spend ${dollars} a day for a week\".format(dollars=dollars/7)\n",
    "        except ValueError:\n",
    "            print(\"You didn't enter an integer. Please enter an integer: \")\n",
    "            entered_cents = input()"
   ]
  },
  {
   "cell_type": "code",
   "execution_count": 10,
   "metadata": {},
   "outputs": [
    {
     "name": "stdout",
     "output_type": "stream",
     "text": [
      "You didn't enter an integer. Please enter an integer: \n",
      "dsafasf\n",
      "You didn't enter an integer. Please enter an integer: \n",
      "dsafdsaf\n",
      "You didn't enter an integer. Please enter an integer: \n",
      "dsafsadf\n",
      "You didn't enter an integer. Please enter an integer: \n",
      "4900\n",
      "You have 49 dollars and 0 cents\n"
     ]
    },
    {
     "data": {
      "text/plain": [
       "'You can spend $7.0 a day for a week'"
      ]
     },
     "execution_count": 10,
     "metadata": {},
     "output_type": "execute_result"
    }
   ],
   "source": [
    "rich_or_poor(\"fdsfds\")"
   ]
  },
  {
   "cell_type": "markdown",
   "metadata": {},
   "source": [
    "### Extra Credit Problem 2\n",
    "You are to write a function called `interest` that calculates the simple interest on given an inital sum of money, a number of years, and an interest rate. This function should **print** the new sum using the following format: `The new sum is: $[amount]!' where  [amount] is the new sum, *rounded to two decimal points*. This function should **return** the new sum *as a string*."
   ]
  },
  {
   "cell_type": "code",
   "execution_count": 15,
   "metadata": {},
   "outputs": [],
   "source": [
    "def interest(principle, no_years, rate):\n",
    "    new_sum = principle * (1. + rate*no_years)\n",
    "    print(\"The new sum is ${:.2f}\".format(new_sum))\n",
    "    return str(new_sum)"
   ]
  },
  {
   "cell_type": "code",
   "execution_count": 20,
   "metadata": {},
   "outputs": [
    {
     "name": "stdout",
     "output_type": "stream",
     "text": [
      "The new sum is $15.00\n"
     ]
    },
    {
     "data": {
      "text/plain": [
       "'15.0'"
      ]
     },
     "execution_count": 20,
     "metadata": {},
     "output_type": "execute_result"
    }
   ],
   "source": [
    "interest(10,1,0.5)"
   ]
  },
  {
   "cell_type": "code",
   "execution_count": null,
   "metadata": {},
   "outputs": [],
   "source": []
  }
 ],
 "metadata": {
  "kernelspec": {
   "display_name": "Python 3",
   "language": "python",
   "name": "python3"
  },
  "language_info": {
   "codemirror_mode": {
    "name": "ipython",
    "version": 3
   },
   "file_extension": ".py",
   "mimetype": "text/x-python",
   "name": "python",
   "nbconvert_exporter": "python",
   "pygments_lexer": "ipython3",
   "version": "3.6.5"
  }
 },
 "nbformat": 4,
 "nbformat_minor": 2
}
