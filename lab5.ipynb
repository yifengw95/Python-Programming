{
 "cells": [
  {
   "cell_type": "markdown",
   "metadata": {},
   "source": [
    "INF 510, Lab #5\n",
    "---------------\n",
    "\n",
    "Thursday, February 7th 2019 (4:30 - 6:20pm)\n",
    "\n",
    "\n",
    "\n",
    "### Lab rules\n",
    "\n",
    "1.  Please read the instructions and problem prompts **carefully**.  Be sure to solve the problem the way it is asked (i.e. are you supposed to define a function?  Catch exceptions?  Use a particular construct?)  Solutions that \"work\", but are not composed according to the directions will not receive [full] credit\n",
    "\n",
    "2.  This lab is to be done *individually*. You may talk to your fellow classmates about general issues (*\"Remind me again: What's the difference between a parameter and an argument?\"*) but not about the specifics of how to do these exercises.\n",
    "\n",
    "3.  Along a similar vein, you can ask the TA for help, but ask questions about **concepts**.  (i.e. *\"I donâ€™t understand how the else block works\"*, not \"*my program isnâ€™t doing what I want\"*).  The TA is there to help, but not to do your work for you.\n",
    "\n",
    "4.  You are welcome to use the class resources and the Internet. But try to google for *concepts*, not your specific tasks.  The goal for you to begin to start thinking algorithmically, and hopefully memorize a little syntax by osmosis. If you just blindly do the exercises, without actually *thinking* about them, the next time you see something related but slightly altered â€” like, say, on an exam â€” you wonâ€™t be able to solve the problem. So avoid brainlessly cutting and pasting code snippets.\n",
    "\n",
    "5.  Play with variations. Solve one of the problems, and then copy the code to a new cell and play around with it. Experiment! Break stuff! Doing this is **the single most important thing** when learning a programming language.\n",
    "\n",
    "6.  When you have finished all the exercises, let the TA know, and he will check your work.  Presuming youâ€™ve done things correctly, youâ€™re free to go.\n",
    "\n",
    "7.  Have fun!\n",
    "\n"
   ]
  },
  {
   "cell_type": "raw",
   "metadata": {},
   "source": []
  },
  {
   "cell_type": "markdown",
   "metadata": {},
   "source": [
    "### Problem 1 (1 points)\n",
    "\n",
    "Think about a program which opens a .CSV file, reads in the \"header row\", uses the elements of that row to create dictionaries with the elements in the header row as dictionary keys, and then reads each line in the rest of the .CSV file as dictionary values that correspond to those keys.  Keep in mind, this should be general; it shouldn't matter what the CSV looks like, other than the first row is header information and the rest are data.  You do not need to catch exceptions here.\n",
    "\n",
    "How might you design this program?  Think about the different \"parts\" it contains: You have to open the file, read the contents, do some special handling of the header, create the keys, create a dictionary entry for each line in the CSV etc. \n",
    "\n",
    "Write down in English -- or in *pseudo-code* -- how this program might look.  For example, if I was going to write a program that added up every number in a list of numbers (checking to make sure the elements of a list were numbers) I might write the following:\n",
    "\n",
    "~~~~~~~~~~~~~~~~~~~~~~~~~~~~~~~~~~~~~~~~~~~~~~~~~~~~~~~~~~~~~~~~~~~~~~~~~~~~~~~~\n",
    "set some running total to zero\n",
    "iterate through the list\n",
    "for each element in the list, I need to do some stuff:\n",
    "     check if the element is a legit number\n",
    "     if it is then I should\n",
    "          add the number to my running total\n",
    "     if it is not legit then I should\n",
    "          tell the user to do it right next time and move on to the next element\n",
    "~~~~~~~~~~~~~~~~~~~~~~~~~~~~~~~~~~~~~~~~~~~~~~~~~~~~~~~~~~~~~~~~~~~~~~~~~~~~~~~~\n",
    "\n",
    "Write your answer in the next cell, replacing the \"Replace this with your answer\" text in between the dashed lines.  Be **sure** to leave the \"-----------\" lines there. \n",
    "\n",
    "\n",
    "\n"
   ]
  },
  {
   "cell_type": "markdown",
   "metadata": {},
   "source": [
    "~~~~~~~~~~~~~~~~~~~~~~~~~~~~~~~~~~~~~~~~~~~~~~~~~~~~~~~~~~~~~~~~~~~~~~~~~~~~~~~~\n",
    "handle = open('the name of csv file')\\\n",
    "set a dict for output\n",
    "set a list for dict key\n",
    "set a list for dict value\n",
    "for index,content in enumerate(output_dic_key):\n",
    "    temp = []\n",
    "    output_dic_value.append(temp)\n",
    "for line in handle:\n",
    "    temp = line.split(',')\n",
    "    for index, content in enumerate(temp):\n",
    "        output_dic_value[index].append(content) \n",
    "for index, content in enumerate(output_dic_key):\n",
    "    output_dic[content] = output_dic_value[index]\n",
    "\n",
    "\n",
    "~~~~~~~~~~~~~~~~~~~~~~~~~~~~~~~~~~~~~~~~~~~~~~~~~~~~~~~~~~~~~~~~~~~~~~~~~~~~~~~~\n",
    "\n",
    "\n"
   ]
  },
  {
   "cell_type": "markdown",
   "metadata": {},
   "source": [
    "### Problem 2 (6 points)\n",
    "\n",
    "Actually implmement the program described in Problem 1.  I've included some sample code on  the **zip** function.  Explore a bit what the function does, and take a look at the documentation here (https://docs.python.org/3/library/functions.html#zip).\n",
    "\n",
    "You can use the file from last week's lab for sample data (although any well-formed CSV should work)"
   ]
  },
  {
   "cell_type": "code",
   "execution_count": 1,
   "metadata": {},
   "outputs": [
    {
     "name": "stdout",
     "output_type": "stream",
     "text": [
      "[(1, 'one'), (3, 'two'), (3, 'three'), (4, 'four')]\n"
     ]
    }
   ],
   "source": [
    "int_list = [1,3,3,4]\n",
    "string_list = ['one', 'two', 'three', 'four']\n",
    "zipped = zip(int_list, string_list)\n",
    "zipped_list = list(zipped)  # zip returns an iterator, so lets convert it to a list\n",
    "print(zipped_list)"
   ]
  },
  {
   "cell_type": "markdown",
   "metadata": {},
   "source": [
    "Note what **zip** does: It iterates across two *iteratable* objects, pairing the first element of each into a tuple, the second element into another tuple, and so on.  Given that we're pairing headers (*keys*) with data rows (*values*) this might be handy. =]"
   ]
  },
  {
   "cell_type": "code",
   "execution_count": 24,
   "metadata": {},
   "outputs": [
    {
     "name": "stdout",
     "output_type": "stream",
     "text": [
      "['home team city', 'home team name', 'home team probability', 'away team city', 'away team name', 'away team probability', 'tie probabailty\\n']\n",
      "7\n",
      "{'home team city': ['New England', 'Buffalo', 'Chicago', 'Cincinnati', 'Cleveland', 'Detroit', 'Houston', 'Tennessee', 'Washington', 'Los Angeles', 'Green Bay', 'San Francisco', 'Dallas', 'Minnesota', 'Denver'], 'home team name': ['Patriots', 'Bills', 'Bears', 'Bengals', 'Browns', 'Lions', 'Texans', 'Titans', 'Redskins', 'Rams', 'Packers', '49ers', 'Cowboys', 'Vikings', 'Broncos'], 'home team probability': ['74.6', '75.2', '35.9', '58.5', '25.9', '59.1', '70.2', '53.6', '53.1', '64.3', '62.0', '37.4', '66.6', '64.1', '61.5'], 'away team city': ['Kansas City', 'New York', 'Atlanta', 'Baltimore', 'Pittsburgh', 'Arizona', 'Jacksonville', 'Oakland', 'Philadelphia', 'Indianapolis', 'Seattle', 'Carolina', 'New York', 'New Orleans', 'Los Angeles'], 'away team name': ['Chiefs', 'Jets', 'Falcons', 'Ravens', 'Steelers', 'Cardinals', 'Jaguars', 'Raiders', 'Eagles', 'Colts', 'Seahawks', 'Panthers', 'Giants', 'Saints', 'Chargers'], 'away team probability': ['25.2', '24.6', '63.8', '41.2', '73.9', '40.6', '29.6', '46.0', '46.6', '35.4', '37.7', '62.3', '33.1', '35.6', '38.2'], 'tie probabailty\\n': ['2.0\\n', '0.19999999999998863\\n', '0.30000000000001137\\n', '0.29999999999999716\\n', '0.19999999999998863\\n', '0.29999999999999716\\n', '0.19999999999998863\\n', '0.4000000000000057\\n', '0.29999999999999716\\n', '0.30000000000001137\\n', '0.29999999999999716\\n', '0.30000000000001137\\n', '0.30000000000001137\\n', '0.30000000000001137\\n', '0.29999999999999716\\n']}\n"
     ]
    }
   ],
   "source": [
    "handle = open('week_1_probabilities.csv')\n",
    "output_dic = {}\n",
    "output_dic_key = list(handle.readline().split(','))\n",
    "output_dic_value = []\n",
    "\n",
    "for index,content in enumerate(output_dic_key):\n",
    "    temp = []\n",
    "    output_dic_value.append(temp)\n",
    "for line in handle:\n",
    "    temp = line.split(',')\n",
    "    for index, content in enumerate(temp):\n",
    "        output_dic_value[index].append(content) \n",
    "for index, content in enumerate(output_dic_key):\n",
    "    output_dic[content] = output_dic_value[index]\n",
    "        \n",
    "print((output_dic_key))    \n",
    "print(len(output_dic_value))\n",
    "print(output_dic)"
   ]
  },
  {
   "cell_type": "markdown",
   "metadata": {},
   "source": [
    "### Problem 3 (1 point)\n",
    "Imagine you want to create a new key for the dictionary[ies] above called \"winner\", and add it to each dictionary.  The value of the key will be whichever of the probabilities (away or home) is greater. Use the \"team name\" field for this value. **NOTE: If the probabilities of both teams are equal, there is no clear winner and \"toss-up\" should be reported\"** \n",
    "\n",
    "\n",
    "i.e. before, an example entry in your dict might be:\n",
    "~~~~~~~~~~~~~~~~~~~~~~~~~~~~~~~~~~~~~~~~~~~~~~~~~~~~~~~~~~~~~~~~~~~~~~~~~~~~~~~~\n",
    "{'away team city': 'Kansas City',\n",
    " 'away team name': 'Chiefs',\n",
    " 'away team probability': '25.2',\n",
    " 'home team city': 'New England',\n",
    " 'home team name': 'Patriots',\n",
    " 'home team probability': '74.6',\n",
    " 'tie probabailty': '2.0'}\n",
    " ~~~~~~~~~~~~~~~~~~~~~~~~~~~~~~~~~~~~~~~~~~~~~~~~~~~~~~~~~~~~~~~~~~~~~~~~~~~~~~~~\n",
    "\n",
    "\n",
    " but after, you'll have:\n",
    "~~~~~~~~~~~~~~~~~~~~~~~~~~~~~~~~~~~~~~~~~~~~~~~~~~~~~~~~~~~~~~~~~~~~~~~~~~~~~~~~\n",
    "{'away team city': 'Kansas City',\n",
    " 'away team name': 'Chiefs',\n",
    " 'away team probability': '25.2',\n",
    " 'home team city': 'New England',\n",
    " 'home team name': 'Patriots',\n",
    " 'home team probability': '74.6',\n",
    " 'tie probabailty': '2.0'\n",
    " 'winner': 'Patriots'}\n",
    "~~~~~~~~~~~~~~~~~~~~~~~~~~~~~~~~~~~~~~~~~~~~~~~~~~~~~~~~~~~~~~~~~~~~~~~~~~~~~~~~\n",
    "\n",
    "Note that this is because the Patriots have a greater probabiltiy than the Chiefs (74.6 > 25.2).  So we use the team name of \"Patriots\".\n",
    "\n",
    "Then, iterate through your dictionaries that you created above, adding this new field (and new values).  Then write these new dictionaries back to a CSV file called lab5_output.csv.  You'll want to use the keys as a header, then write the data as rows, comma-separated.  Feel free to use code from Lab 4 if you'd like, as it might be similar.\n",
    "\n",
    "Write psuedo-code for how to do this in the cell below.  Think about the steps you'll need to do, and what loops, conditionals, data structures, etc. you'll need."
   ]
  },
  {
   "cell_type": "markdown",
   "metadata": {},
   "source": [
    "~~~~~~~~~~~~~~~~~~~~~~~~~~~~~~~~~~~~~~~~~~~~~~~~~~~~~~~~~~~~~~~~~~~~~~~~~~~~~~~~\n",
    "# Replace this text with your answer to Problem 3.  Leave the dashed lines above and below.\n",
    "\n",
    "~~~~~~~~~~~~~~~~~~~~~~~~~~~~~~~~~~~~~~~~~~~~~~~~~~~~~~~~~~~~~~~~~~~~~~~~~~~~~~~~\n",
    "\n",
    "\n",
    "\n"
   ]
  },
  {
   "cell_type": "markdown",
   "metadata": {},
   "source": [
    "### Problem 4 (3 points)\n",
    "Implement what you sketched out above.\n",
    " "
   ]
  },
  {
   "cell_type": "code",
   "execution_count": 63,
   "metadata": {},
   "outputs": [
    {
     "name": "stdout",
     "output_type": "stream",
     "text": [
      "{'home team city': ['New England', 'Buffalo', 'Chicago', 'Cincinnati', 'Cleveland', 'Detroit', 'Houston', 'Tennessee', 'Washington', 'Los Angeles', 'Green Bay', 'San Francisco', 'Dallas', 'Minnesota', 'Denver'], 'home team name': ['Patriots', 'Bills', 'Bears', 'Bengals', 'Browns', 'Lions', 'Texans', 'Titans', 'Redskins', 'Rams', 'Packers', '49ers', 'Cowboys', 'Vikings', 'Broncos'], 'home team probability': ['74.6', '75.2', '35.9', '58.5', '25.9', '59.1', '70.2', '53.6', '53.1', '64.3', '62.0', '37.4', '66.6', '64.1', '61.5'], 'away team city': ['Kansas City', 'New York', 'Atlanta', 'Baltimore', 'Pittsburgh', 'Arizona', 'Jacksonville', 'Oakland', 'Philadelphia', 'Indianapolis', 'Seattle', 'Carolina', 'New York', 'New Orleans', 'Los Angeles'], 'away team name': ['Chiefs', 'Jets', 'Falcons', 'Ravens', 'Steelers', 'Cardinals', 'Jaguars', 'Raiders', 'Eagles', 'Colts', 'Seahawks', 'Panthers', 'Giants', 'Saints', 'Chargers'], 'away team probability': ['25.2', '24.6', '63.8', '41.2', '73.9', '40.6', '29.6', '46.0', '46.6', '35.4', '37.7', '62.3', '33.1', '35.6', '38.2'], 'tie probabailty\\n': ['2.0\\n', '0.19999999999998863\\n', '0.30000000000001137\\n', '0.29999999999999716\\n', '0.19999999999998863\\n', '0.29999999999999716\\n', '0.19999999999998863\\n', '0.4000000000000057\\n', '0.29999999999999716\\n', '0.30000000000001137\\n', '0.29999999999999716\\n', '0.30000000000001137\\n', '0.30000000000001137\\n', '0.30000000000001137\\n', '0.29999999999999716\\n'], 'winner': ['Patriots', 'Bills', 'Falcons', 'Bengals', 'Steelers', 'Lions', 'Texans', 'Titans', 'Redskins', 'Rams', 'Packers', 'Panthers', 'Cowboys', 'Vikings', 'Broncos']}\n"
     ]
    }
   ],
   "source": [
    "handle = open('week_1_probabilities.csv')\n",
    "output_dic = {}\n",
    "output_dic_key = list(handle.readline().split(','))\n",
    "output_dic_key.append('winner')\n",
    "output_dic_value = []\n",
    "\n",
    "for index,content in enumerate(output_dic_key):\n",
    "    temp = []\n",
    "    output_dic_value.append(temp)\n",
    "for line in handle:\n",
    "    temp = line.split(',')\n",
    "    for index, content in enumerate(temp):\n",
    "        output_dic_value[index].append(content)\n",
    "    output_dic_value[len(output_dic_key)-1].append(0)\n",
    "for index, content in enumerate(output_dic_key):\n",
    "    output_dic[content] = output_dic_value[index]\n",
    "     \n",
    "\n",
    "        \n",
    "for index, content in enumerate(output_dic['winner']):\n",
    "    if output_dic['away team probability'][index] > output_dic['home team probability'][index]:\n",
    "        output_dic['winner'][index] = (output_dic['away team name'][index])\n",
    "    elif output_dic['away team probability'][index] < output_dic['home team probability'][index]:\n",
    "        output_dic['winner'][index] = (output_dic['home team name'][index])\n",
    "    else:\n",
    "         output_dic['winner'][index] = 'hard to decide'\n",
    "        \n",
    "        \n",
    "\n",
    "        \n",
    "print(output_dic)          "
   ]
  },
  {
   "cell_type": "code",
   "execution_count": 83,
   "metadata": {},
   "outputs": [],
   "source": [
    "output_str = ''\n",
    "for index, content in enumerate(output_dic_key):\n",
    "    output_str = output_str + ',' + output_dic_key[index] + ','\n",
    "\n"
   ]
  },
  {
   "cell_type": "code",
   "execution_count": 84,
   "metadata": {},
   "outputs": [],
   "source": [
    "f = open('lab5_ouput.csv','w')\n",
    "f.write(output_str)\n",
    "f.close()"
   ]
  },
  {
   "cell_type": "code",
   "execution_count": 31,
   "metadata": {},
   "outputs": [
    {
     "name": "stdout",
     "output_type": "stream",
     "text": [
      "a\n",
      "b\n",
      "c\n"
     ]
    }
   ],
   "source": [
    "for i in a:\n",
    "    print (i)"
   ]
  },
  {
   "cell_type": "code",
   "execution_count": 46,
   "metadata": {},
   "outputs": [],
   "source": [
    "a = [1,2,3]"
   ]
  },
  {
   "cell_type": "code",
   "execution_count": 47,
   "metadata": {},
   "outputs": [
    {
     "data": {
      "text/plain": [
       "3"
      ]
     },
     "execution_count": 47,
     "metadata": {},
     "output_type": "execute_result"
    }
   ],
   "source": [
    "len(a)"
   ]
  }
 ],
 "metadata": {
  "kernelspec": {
   "display_name": "Python 3",
   "language": "python",
   "name": "python3"
  },
  "language_info": {
   "codemirror_mode": {
    "name": "ipython",
    "version": 3
   },
   "file_extension": ".py",
   "mimetype": "text/x-python",
   "name": "python",
   "nbconvert_exporter": "python",
   "pygments_lexer": "ipython3",
   "version": "3.7.1"
  }
 },
 "nbformat": 4,
 "nbformat_minor": 2
}
