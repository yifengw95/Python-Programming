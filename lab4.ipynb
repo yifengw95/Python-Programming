{
 "cells": [
  {
   "cell_type": "markdown",
   "metadata": {},
   "source": [
    "INF 510, Lab #4\n",
    "---------------\n",
    "\n",
    "Thursday, January 31 2019 (4:30 - 6:20pm)\n",
    "\n",
    "\n",
    "### Lab rules\n",
    "\n",
    "1.  Please read the instructions and pronlem prompts **carefully**.  Be sure to solve the problem the way it is asked (i.e. are you supposed to define a function?  Catch exceptions?  Use a particular construct?)  Solutions that \"work\", but are not composed according to the directions will not receive [full] credit\n",
    "\n",
    "2.  This lab is to be done *individually*. You may talk to your fellow classmates about general issues (*\"Remind me again: What's the difference between a parameter and an argument?\"*) but not about the specifics of how to do these exercises.\n",
    "\n",
    "3.  Along a similar vein, you can ask the TA for help, but ask questions about **concepts**.  (i.e. *\"I donâ€™t understand how the else block works\"*, not \"*my program isnâ€™t doing what I want\"*).  The TA is there to help, but not to do your work for you.\n",
    "\n",
    "4.  You are welcome to use the class resources and the Internet. But try to google for *concepts*, not your specific tasks.  The goal for you to begin to start thinking algorithmically, and hopefully memorize a little syntax by osmosis. If you just blindly do the exercises, without actually *thinking* about them, the next time you see something related but slightly altered â€” like, say, on an exam â€” you wonâ€™t be able to solve the problem. So avoid brainlessly cutting and pasting code snippets.\n",
    "\n",
    "5.  Play with variations. Solve one of the problems, and then copy the code to a new cell and play around with it. Experiment! Break stuff! Doing this is **the single most important thing** when learning a programming language.\n",
    "\n",
    "6.  When you have finished all the exercises, let the TA know, and he will check your work.  Presuming youâ€™ve done things correctly, youâ€™re free to go.\n",
    "\n",
    "7.  Have fun!\n",
    "\n",
    "\n",
    "\n",
    "\n"
   ]
  },
  {
   "cell_type": "markdown",
   "metadata": {},
   "source": [
    "### Problem 1 (1 point)\n",
    "\n",
    "Think about a program which repeatedly reads numbers and adds them to a list, until the user enters \"done\". Once \"done\" is entered, it prints out the min, max, average, sum, and variance of the numbers in the list. If the user enters anything other than a number, it detects their mistake using by catching exceptions (try/except), prints an error message, and prompts the user for the next number.\n",
    "\n",
    "How might you design this program?  Think about the different \"parts\" it contains: there's probably a loop of some sort, and a few conditionals based on what the user inputs, and some exception handling (and maybe other things I've haven't mentioned!)\n",
    "\n",
    "Write down in English -- or in *pseudo-code* -- how this program might look.  For example, if I was going to write a program that added up every number in a list of numbers (checking to make sure the elements of a list were numbers) I might write the following:\n",
    "\n",
    "~~~~~~~~~~~~~~~~~~~~~~~~~~~~~~~~~~~~~~~~~~~~~~~~~~~~~~~~~~~~~~~~~~~~~~~~~~~~~~~~\n",
    "set some running total to zero\n",
    "iterate through the list\n",
    "for each element in the list, I need to do some stuff:\n",
    "     check if the element is a legit number\n",
    "     if it is then I should\n",
    "          add the number to my running total\n",
    "     if it is not legit then I should\n",
    "          tell the user to do it right next time and move on to the next element\n",
    "~~~~~~~~~~~~~~~~~~~~~~~~~~~~~~~~~~~~~~~~~~~~~~~~~~~~~~~~~~~~~~~~~~~~~~~~~~~~~~~~\n",
    "\n",
    "Write your answer in the next cell, replacing the \"Replace this with your answer\" text in between the dashed lines.  Be **sure** to leave the \"-----------\" lines there. "
   ]
  },
  {
   "cell_type": "markdown",
   "metadata": {},
   "source": [
    "~~~~~~~~~~~~~~~~~~~~~~~~~~~~~~~~~~~~~~~~~~~~~~~~~~~~~~~~~~~~~~~~~~~~~~~~~~~~~~~~\n",
    "set a empty list\n",
    "while True\n",
    "    input the number\n",
    "    if input is done\n",
    "        break\n",
    "    if not\n",
    "        whether the input is valid\n",
    "        if not\n",
    "            remind the user to input a correct format\n",
    "        if yes\n",
    "            append the number to the exiseted list\n",
    "    \n",
    "print the min, max, average, sum, and variance of all the numbers\n",
    "    \n",
    "\n",
    "~~~~~~~~~~~~~~~~~~~~~~~~~~~~~~~~~~~~~~~~~~~~~~~~~~~~~~~~~~~~~~~~~~~~~~~~~~~~~~~~\n",
    "\n",
    "\n"
   ]
  },
  {
   "cell_type": "markdown",
   "metadata": {},
   "source": [
    "### Problem 2 (2 points)\n",
    "\n",
    "Actually implmement the program described in Problem 1."
   ]
  },
  {
   "cell_type": "code",
   "execution_count": 7,
   "metadata": {},
   "outputs": [
    {
     "name": "stdout",
     "output_type": "stream",
     "text": [
      "please input a number or done\n",
      "adad\n",
      "please input a number in correct format\n",
      "please input a number or done\n",
      "afqfq\n",
      "please input a number in correct format\n",
      "please input a number or done\n",
      "1\n",
      "please input a number or done\n",
      "2\n",
      "please input a number or done\n",
      "3\n",
      "please input a number or done\n",
      "4\n",
      "please input a number or done\n",
      "adad\n",
      "please input a number in correct format\n",
      "please input a number or done\n",
      "done\n",
      "the min of the list is 1.0\n",
      "the max of the list is 4.0\n",
      "the average of the list is 2.5\n",
      "the sum of the list is 10.0\n",
      "the variance of the list is 1.25\n"
     ]
    }
   ],
   "source": [
    "import numpy as np \n",
    "output_list = []\n",
    "while(True):\n",
    "    input_number = input('please input a number or done\\n')\n",
    "    if input_number == 'done':\n",
    "        break\n",
    "    else:\n",
    "        try:\n",
    "            number = float(input_number)\n",
    "            output_list.append(number)\n",
    "        except:\n",
    "            print('please input a number in correct format')\n",
    "print('the min of the list is {number}'.format(number = min(output_list)))\n",
    "print('the max of the list is {number}'.format(number = max(output_list)))\n",
    "print('the average of the list is {number}'.format(number = np.mean(output_list)))\n",
    "print('the sum of the list is {number}'.format(number = sum(output_list)))\n",
    "print('the variance of the list is {number}'.format(number = np.var(output_list)))"
   ]
  },
  {
   "cell_type": "code",
   "execution_count": 1,
   "metadata": {},
   "outputs": [
    {
     "ename": "SyntaxError",
     "evalue": "invalid syntax (<ipython-input-1-2a07145be8e1>, line 7)",
     "output_type": "error",
     "traceback": [
      "\u001b[0;36m  File \u001b[0;32m\"<ipython-input-1-2a07145be8e1>\"\u001b[0;36m, line \u001b[0;32m7\u001b[0m\n\u001b[0;31m    except Exception, e:\u001b[0m\n\u001b[0m                    ^\u001b[0m\n\u001b[0;31mSyntaxError\u001b[0m\u001b[0;31m:\u001b[0m invalid syntax\n"
     ]
    }
   ],
   "source": [
    "def example():\n",
    "    try:\n",
    "        a = -123\n",
    "        open(\"This/file/does/not/exist.csv\")\n",
    "        if a < 0:\n",
    "            return \"try\"\n",
    "    except Exception, e:\n",
    "        print str(e)\n",
    "    else:\n",
    "        print a\n",
    "        return a\n",
    "    finally:\n",
    "        return \"finally return supercedes else\"\n",
    "print(example())\n",
    "\n"
   ]
  },
  {
   "cell_type": "markdown",
   "metadata": {},
   "source": [
    "### Problem 3 (1 point)\n",
    "\n",
    "Write a function called *chop()* that takes a list and modifies it, removing the first and last elements, and returns None. This function should not throw any exceptions\n",
    "\n",
    "For example:\n",
    "~~~~~~~~~~~~~~~~~~~~~~~~~~~~~~~~~~~~~~~~~~~~~~~~~~~~~~~~~~~~~~~~~~~~~~~~~~~~~~~~\n",
    "> my_list = [1,2,3,4,5]\n",
    "> output = chop(my_list)\n",
    "> print(output)\n",
    "None\n",
    "> print(my_list)\n",
    "[2,3,4]\n",
    "~~~~~~~~~~~~~~~~~~~~~~~~~~~~~~~~~~~~~~~~~~~~~~~~~~~~~~~~~~~~~~~~~~~~~~~~~~~~~~~~\n",
    "\n"
   ]
  },
  {
   "cell_type": "code",
   "execution_count": 22,
   "metadata": {},
   "outputs": [],
   "source": [
    "def chop(input_list):\n",
    "    length = len(input_list)\n",
    "    \n",
    "    input_list.pop(length-1)\n",
    "    input_list.pop(0)\n",
    "    return None"
   ]
  },
  {
   "cell_type": "code",
   "execution_count": 23,
   "metadata": {},
   "outputs": [],
   "source": [
    "my_list = [1,2,3,4,5]\n"
   ]
  },
  {
   "cell_type": "code",
   "execution_count": 24,
   "metadata": {},
   "outputs": [],
   "source": [
    "output = chop(my_list)"
   ]
  },
  {
   "cell_type": "code",
   "execution_count": 25,
   "metadata": {},
   "outputs": [
    {
     "name": "stdout",
     "output_type": "stream",
     "text": [
      "None\n"
     ]
    }
   ],
   "source": [
    "print(output)"
   ]
  },
  {
   "cell_type": "code",
   "execution_count": 26,
   "metadata": {},
   "outputs": [
    {
     "name": "stdout",
     "output_type": "stream",
     "text": [
      "[2, 3, 4]\n"
     ]
    }
   ],
   "source": [
    "print(my_list)"
   ]
  },
  {
   "cell_type": "markdown",
   "metadata": {},
   "source": [
    "### Problem 4 (1 point)\n",
    "\n",
    "Write a function called *middle()* that takes a list and returns a new list that contains all but the first and last elements.\n",
    "\n",
    "For example:\n",
    "~~~~~~~~~~~~~~~~~~~~~~~~~~~~~~~~~~~~~~~~~~~~~~~~~~~~~~~~~~~~~~~~~~~~~~~~~~~~~~~~\n",
    "> my_list = [1,2,3,4,5]\n",
    "> output = middle(my_list)\n",
    "> print(output)\n",
    "[2,3,4]\n",
    "> print(my_list)\n",
    "[1,2,3,4,5]\n",
    "~~~~~~~~~~~~~~~~~~~~~~~~~~~~~~~~~~~~~~~~~~~~~~~~~~~~~~~~~~~~~~~~~~~~~~~~~~~~~~~~\n",
    "\n"
   ]
  },
  {
   "cell_type": "code",
   "execution_count": 37,
   "metadata": {},
   "outputs": [],
   "source": [
    "def middle(input_list):\n",
    "    length = len(input_list)\n",
    "    output_list = input_list.copy()\n",
    "    output_list.pop(length-1)\n",
    "    output_list.pop(0)\n",
    "    return output_list"
   ]
  },
  {
   "cell_type": "code",
   "execution_count": 38,
   "metadata": {},
   "outputs": [],
   "source": [
    "my_list = [1,2,3,4,5]\n"
   ]
  },
  {
   "cell_type": "code",
   "execution_count": 39,
   "metadata": {},
   "outputs": [],
   "source": [
    "output = middle(my_list)"
   ]
  },
  {
   "cell_type": "code",
   "execution_count": 40,
   "metadata": {},
   "outputs": [
    {
     "name": "stdout",
     "output_type": "stream",
     "text": [
      "[2, 3, 4]\n"
     ]
    }
   ],
   "source": [
    "print(output)"
   ]
  },
  {
   "cell_type": "code",
   "execution_count": 41,
   "metadata": {},
   "outputs": [
    {
     "name": "stdout",
     "output_type": "stream",
     "text": [
      "[1, 2, 3, 4, 5]\n"
     ]
    }
   ],
   "source": [
    "print(my_list)"
   ]
  },
  {
   "cell_type": "markdown",
   "metadata": {},
   "source": [
    "### Problem 5 (5 points)\n",
    "\n",
    "Write a function called *read_csv(my_file)* that takes one argument, *my_file*, which is a path to a .csv file.  You should catch exceptions if the path does not exist, by printing out an error message.  You do not need to validate the file is a *valid* .csv file, nor that it actually has a .csv extension (which are **not** the same things, by the way!)\n",
    "\n",
    "The read .csv should read the file, one line at a time.  It should assume the first line is a *header*, and read that into a special variable.  [**HINT**: Look at the *readline()* function].  Then, read the rest of the lines of the file.  \n",
    "\n",
    "You'll want to store the header in a special list, *splitting* the header line by a comma delimiter.  Then read the rest of the data in the file.   \n",
    "\n",
    "Then, you'll want to make a new [header] list, by converting all of the header fields to upper case.  Also, remove the last field (\"tie probabilty\") from both the header and the data.  \n",
    "\n",
    "Then write your new header, and altered data back to different *comma-delimited* file, called 'output.csv'.  You need to be careful here; you'll have to iterate across your lists, printing out each item, and then a comma, and terminating each line with a '\\n' character.  Think about the loops you'll need to do this [**HINT**: To print out the actual data, you may need a *nested* loop].\n",
    "\n",
    "The program can output whatever debugging information you need, but otherwise doesn't return anything or produce any output. \n",
    "\n",
    "You should test your function on a file listed on Blackboard as `week_1_probabilities.csv`\n",
    "\n",
    "\n"
   ]
  },
  {
   "cell_type": "code",
   "execution_count": 257,
   "metadata": {},
   "outputs": [],
   "source": [
    "def read_csv(my_file):\n",
    "    file_name = my_file\n",
    "    try:\n",
    "        \n",
    "        handle = open(file_name)\n",
    "        \n",
    "        \n",
    "        \n",
    "        \n",
    "        header = handle.readline()\n",
    "        new_header = header.upper()\n",
    "        new_header_list = new_header.split(',')\n",
    "        \n",
    "        row_length = len(new_header_list)\n",
    "        new_header_list.pop(row_length-1)\n",
    "        output_string = str(new_header_list)\n",
    "        output_string = output_string + '\\n'\n",
    "        \n",
    "        \n",
    "        print(new_header_list)\n",
    "        \n",
    "        for index_line, content_line in enumerate(handle):\n",
    "            if index_line == 0:\n",
    "                continue\n",
    "            else:\n",
    "                \n",
    "                temp_string = content_line\n",
    "\n",
    "                temp_list = temp_string.split(',')\n",
    "                temp_list.pop(len(temp_list)-1)\n",
    "                print(temp_list)\n",
    "                \n",
    "                \n",
    "                temp_string2 = str(temp_list)\n",
    "                output_string = output_string + temp_string2+'\\n'\n",
    "                    \n",
    "               \n",
    "    \n",
    "        \n",
    "        \n",
    "        handle.close()\n",
    "        \n",
    "        output = output_string\n",
    "        f = open('output.csv','w')\n",
    "        f.write(output)\n",
    "        f.close()\n",
    "        \n",
    "    except:\n",
    "        print('the file does not exist')\n",
    "    "
   ]
  },
  {
   "cell_type": "code",
   "execution_count": 258,
   "metadata": {},
   "outputs": [
    {
     "name": "stdout",
     "output_type": "stream",
     "text": [
      "['HOME TEAM CITY', 'HOME TEAM NAME', 'HOME TEAM PROBABILITY', 'AWAY TEAM CITY', 'AWAY TEAM NAME', 'AWAY TEAM PROBABILITY']\n",
      "['Buffalo', 'Bills', '75.2', 'New York', 'Jets', '24.6']\n",
      "['Chicago', 'Bears', '35.9', 'Atlanta', 'Falcons', '63.8']\n",
      "['Cincinnati', 'Bengals', '58.5', 'Baltimore', 'Ravens', '41.2']\n",
      "['Cleveland', 'Browns', '25.9', 'Pittsburgh', 'Steelers', '73.9']\n",
      "['Detroit', 'Lions', '59.1', 'Arizona', 'Cardinals', '40.6']\n",
      "['Houston', 'Texans', '70.2', 'Jacksonville', 'Jaguars', '29.6']\n",
      "['Tennessee', 'Titans', '53.6', 'Oakland', 'Raiders', '46.0']\n",
      "['Washington', 'Redskins', '53.1', 'Philadelphia', 'Eagles', '46.6']\n",
      "['Los Angeles', 'Rams', '64.3', 'Indianapolis', 'Colts', '35.4']\n",
      "['Green Bay', 'Packers', '62.0', 'Seattle', 'Seahawks', '37.7']\n",
      "['San Francisco', '49ers', '37.4', 'Carolina', 'Panthers', '62.3']\n",
      "['Dallas', 'Cowboys', '66.6', 'New York', 'Giants', '33.1']\n",
      "['Minnesota', 'Vikings', '64.1', 'New Orleans', 'Saints', '35.6']\n",
      "['Denver', 'Broncos', '61.5', 'Los Angeles', 'Chargers', '38.2']\n"
     ]
    }
   ],
   "source": [
    "read_csv('week_1_probabilities.csv')"
   ]
  },
  {
   "cell_type": "code",
   "execution_count": null,
   "metadata": {},
   "outputs": [],
   "source": []
  },
  {
   "cell_type": "code",
   "execution_count": 161,
   "metadata": {},
   "outputs": [
    {
     "ename": "SyntaxError",
     "evalue": "invalid syntax (<ipython-input-161-a16789b58153>, line 1)",
     "output_type": "error",
     "traceback": [
      "\u001b[0;36m  File \u001b[0;32m\"<ipython-input-161-a16789b58153>\"\u001b[0;36m, line \u001b[0;32m1\u001b[0m\n\u001b[0;31m    output =\u001b[0m\n\u001b[0m             ^\u001b[0m\n\u001b[0;31mSyntaxError\u001b[0m\u001b[0;31m:\u001b[0m invalid syntax\n"
     ]
    }
   ],
   "source": [
    "output = \n",
    "f = open('shit.csv','w')\n",
    "f.write(output)\n",
    "f.close()"
   ]
  },
  {
   "cell_type": "code",
   "execution_count": null,
   "metadata": {},
   "outputs": [],
   "source": []
  }
 ],
 "metadata": {
  "kernelspec": {
   "display_name": "Python 3",
   "language": "python",
   "name": "python3"
  },
  "language_info": {
   "codemirror_mode": {
    "name": "ipython",
    "version": 3
   },
   "file_extension": ".py",
   "mimetype": "text/x-python",
   "name": "python",
   "nbconvert_exporter": "python",
   "pygments_lexer": "ipython3",
   "version": "3.7.1"
  }
 },
 "nbformat": 4,
 "nbformat_minor": 2
}
