{
 "cells": [
  {
   "cell_type": "markdown",
   "metadata": {},
   "source": [
    "INF 510, Lab #6\n",
    "---------------\n",
    "\n",
    "Thursday, February 14 2019 (4:30 - 6:20pm)\n",
    "\n",
    "\n",
    "### Lab rules\n",
    "\n",
    "1.  Please read the instructions and problem prompts **carefully**.  Be sure to solve the problem the way it is asked (i.e. are you supposed to define a function?  Catch exceptions?  Use a particular construct?)  Solutions that \"work\", but are not composed according to the directions will not receive [full] credit\n",
    "\n",
    "2.  This lab is to be done *individually*. You may talk to your fellow classmates about general issues (*\"Remind me again: What's the difference between a parameter and an argument?\"*) but not about the specifics of how to do these exercises.\n",
    "\n",
    "3.  Along a similar vein, you can ask the TA for help, but ask questions about **concepts**.  (i.e. *\"I donâ€™t understand how the else block works\"*, not \"*my program isnâ€™t doing what I want\"*).  The TA is there to help, but not to do your work for you.\n",
    "\n",
    "4.  You are welcome to use the class resources and the Internet. But try to google for *concepts*, not your specific tasks.  The goal for you to begin to start thinking algorithmically, and hopefully memorize a little syntax by osmosis. If you just blindly do the exercises, without actually *thinking* about them, the next time you see something related but slightly altered â€” like, say, on an exam â€” you wonâ€™t be able to solve the problem. So avoid brainlessly cutting and pasting code snippets.\n",
    "\n",
    "5.  Play with variations. Solve one of the problems, and then copy the code to a new cell and play around with it. Experiment! Break stuff! Doing this is **the single most important thing** when learning a programming language.\n",
    "\n",
    "6.  When you have finished all the exercises, let the TA know, and he will check your work.  Presuming youâ€™ve done things correctly, youâ€™re free to go.\n",
    "\n",
    "7.  Have fun!\n",
    "\n"
   ]
  },
  {
   "cell_type": "markdown",
   "metadata": {},
   "source": [
    "### Problem 1 (2 points)\n",
    "\n",
    "Define a class called \"food\".  The class should have a number of instance attributes: name (string) and quantity (int).  Define an __init__() method that allows you to instantiate this class with these attributes.  Also define a __str__() function that allows you to print out the attributes nicely.  **Keep in mind, the __str__() function must *return* a string.** So you'll have to build the output into a string and then return it.  You *cannot* just use print!  See the example below:\n",
    "\n",
    "~~~~~~~~~~~~~~~~~~~~~~~~~~~~~~~~~~~~~~~~~~~~~~~~~~~~~~~~~~~~~~~~~~~~~~~~~~~~~~~~\n",
    "\n",
    "> my_apple = food('apple', 2)\n",
    "> my_pizza = food('pizza', 10)\n",
    "> print(my_pizza)\n",
    "Your food: Pizza\n",
    "Quantity: 10\n",
    ">\n",
    "\n",
    "~~~~~~~~~~~~~~~~~~~~~~~~~~~~~~~~~~~~~~~~~~~~~~~~~~~~~~~~~~~~~~~~~~~~~~~~~~~~~~~~\n",
    "\n",
    "Define a food instances and print them out."
   ]
  },
  {
   "cell_type": "code",
   "execution_count": 17,
   "metadata": {},
   "outputs": [],
   "source": [
    "class food:\n",
    "    name = ''\n",
    "    quantity = 0\n",
    "    def __init__(self, name, quantity):\n",
    "        self.name = name\n",
    "        self.quantity = quantity\n",
    "    def __str__(self):\n",
    "        output = 'Your food: '+ str(self.name) + '\\n' + 'Quantity: ' + str(self.quantity)\n",
    "        return output\n"
   ]
  },
  {
   "cell_type": "code",
   "execution_count": 18,
   "metadata": {
    "scrolled": true
   },
   "outputs": [],
   "source": [
    "my_apple = food('apple', 2)\n",
    "my_pizza = food('pizza', 10)"
   ]
  },
  {
   "cell_type": "code",
   "execution_count": 19,
   "metadata": {},
   "outputs": [
    {
     "name": "stdout",
     "output_type": "stream",
     "text": [
      "Your food: pizza\n",
      "Quantity: 10\n"
     ]
    }
   ],
   "source": [
    "print(my_pizza)"
   ]
  },
  {
   "cell_type": "markdown",
   "metadata": {},
   "source": [
    "### Problem 2 (1 point)\n",
    "\n",
    "Add an eat() method to your class that decreases the *quantity* instance attribute by one each time it's called.  But if the quantity attribute is already 0, it should print an error to the user.  (NOTE: You should actually catch an exception here, but you already knew that.)  See the example below\n",
    "\n",
    "~~~~~~~~~~~~~~~~~~~~~~~~~~~~~~~~~~~~~~~~~~~~~~~~~~~~~~~~~~~~~~~~~~~~~~~~~~~~~~~~\n",
    "> my_apple = food('apple', 1)\n",
    "> my_pizza = food('pizza', 10)\n",
    "> print(my_apple)\n",
    "Your food: apple\n",
    "Quantity: 1\n",
    ">\n",
    "> my_pizza.eat()\n",
    "> my_pizza.eat()\n",
    "You don't have any apple to eat!\n",
    "\n",
    "\n",
    "\n",
    "~~~~~~~~~~~~~~~~~~~~~~~~~~~~~~~~~~~~~~~~~~~~~~~~~~~~~~~~~~~~~~~~~~~~~~~~~~~~~~~~\n",
    "\n",
    "\n"
   ]
  },
  {
   "cell_type": "code",
   "execution_count": 36,
   "metadata": {},
   "outputs": [],
   "source": [
    "class food:\n",
    "    name = ''\n",
    "    quantity = 0\n",
    "    def __init__(self, name, quantity):\n",
    "        self.name = name\n",
    "        self.quantity = quantity\n",
    "    def __str__(self):\n",
    "        output = 'Your food: '+ str(self.name) + '\\n' + 'Quantity: ' + str(self.quantity)  \n",
    "        return output\n",
    "    def eat(self):\n",
    "        if self.quantity == 0:\n",
    "            print('You don\\'t have any apple to eat!')\n",
    "        else:\n",
    "            self.quantity = self.quantity - 1\n"
   ]
  },
  {
   "cell_type": "code",
   "execution_count": 37,
   "metadata": {},
   "outputs": [],
   "source": [
    "my_apple = food('apple', 1)\n",
    "my_pizza = food('pizza', 10)"
   ]
  },
  {
   "cell_type": "code",
   "execution_count": 38,
   "metadata": {},
   "outputs": [
    {
     "name": "stdout",
     "output_type": "stream",
     "text": [
      "Your food: apple\n",
      "Quantity: 1\n"
     ]
    }
   ],
   "source": [
    "print(my_apple)"
   ]
  },
  {
   "cell_type": "code",
   "execution_count": 39,
   "metadata": {},
   "outputs": [],
   "source": [
    "my_pizza.eat()"
   ]
  },
  {
   "cell_type": "code",
   "execution_count": 49,
   "metadata": {},
   "outputs": [
    {
     "name": "stdout",
     "output_type": "stream",
     "text": [
      "You don't have any apple to eat!\n"
     ]
    }
   ],
   "source": [
    "my_pizza.eat()"
   ]
  },
  {
   "cell_type": "markdown",
   "metadata": {},
   "source": [
    "### Problem 3 (2 points)\n",
    "\n",
    "Now think about how you might *subclass* your food class.  Think about two specific subclasses, and what they might contain.  What specific attributes would be useful to have?  What methods would you want to use to access/modify these attributes?  What would make these attributes unique?  For example, you can eat any type of food. But you can't peel any type of food, right?  \n",
    "\n",
    "Write in the space below at least *two* subclasses of food, each with at least one specific instance attribute, the __init__() method (i.e. how you'd initialize the instance, see the example code below) and one *other* \n",
    "method that might be useful.  For each attribute, describe its data type and what it represents.  For the method, describe in pseudo-code what it would do, what it would take as an input, and what it might return.  Again, do this for 2 separate classes.\n",
    "\n",
    "As an example, you might decide to have an \"apple\" subclass, that has a peeled attribute (boolean), and a color attribute (string).  You might have a method called \"peel()\" that sets the peeled attribute to true (what would happen if it was already true?)"
   ]
  },
  {
   "cell_type": "markdown",
   "metadata": {},
   "source": [
    "~~~~~~~~~~~~~~~~~~~~~~~~~~~~~~~~~~~~~~~~~~~~~~~~~~~~~~~~~~~~~~~~~~~~~~~~~~~~~~~~\n",
    "# Replace this text with your answer to Problem 1.  Leave the dashed lines above and below.\n",
    "1.\n",
    "class apple(food):\n",
    "    new attribute color (string)\n",
    "    def __init__(self, input_color, name, quantity):\n",
    "        self.color = input_color\n",
    "        self.name = name\n",
    "        self.quantity = quantity\n",
    "    new method whther_can_eat(self):\n",
    "        if self.color is green:\n",
    "            cannot eat\n",
    "        else:\n",
    "            can eat\n",
    "        \n",
    "        \n",
    "\n",
    "2.\n",
    "class banana(food):\n",
    "    new attribute length (float)\n",
    "    def __init__(self, input_length, name, quantity):\n",
    "        self.length = input_length\n",
    "        self.name = name\n",
    "        self.quantity = quantity\n",
    "    new method slice_banana(self):\n",
    "        print the length of each part\n",
    "        \n",
    "        \n",
    "\n",
    "\n",
    "\n",
    "~~~~~~~~~~~~~~~~~~~~~~~~~~~~~~~~~~~~~~~~~~~~~~~~~~~~~~~~~~~~~~~~~~~~~~~~~~~~~~~~\n",
    "\n",
    "\n"
   ]
  },
  {
   "cell_type": "markdown",
   "metadata": {},
   "source": [
    "### Problem 4 (5 points)\n",
    "\n",
    "Implement your two classes above.  Do *not* use my example!  Remember that whatever class you define is ALSO a piece of food.  So when you initialize or otherwise manipulate the class, you have to make sure that you have all the valid members of the food class as well!\n",
    "\n",
    "Take a look at the __init__() function below.  It makes use of the *super* command, which calls the function of the *parent* class.  This makes sense, as we still want to initialize our apple as a piece of food, right?  Notice though, we call this with name and quantity, not self.name and self.quantity.  Why is this?  \n",
    "\n",
    "Look at these two examples, and study them.  Look at the interactions between the inheritted class attributes and the *base* class attributes.  Look at how the slice() method of the pizza class was redefined, and how it alters both a base class attribute (quantity) and a inherited class attribute (sliced).  Note how the eat() method is also redefined, but calls the previous eat method from the base class."
   ]
  },
  {
   "cell_type": "code",
   "execution_count": 50,
   "metadata": {},
   "outputs": [],
   "source": [
    "class apple(food):\n",
    "    def __init__(self, name, quantity, color, peeled):\n",
    "        super().__init__(name, quantity)\n",
    "        self.color = color\n",
    "        self.peeled = peeled\n",
    "    def peel(self):\n",
    "        if not self.peeled:\n",
    "            print(\"Already peeled!\")\n",
    "        else:\n",
    "            self.peeled = True\n"
   ]
  },
  {
   "cell_type": "code",
   "execution_count": 51,
   "metadata": {
    "scrolled": true
   },
   "outputs": [
    {
     "name": "stdout",
     "output_type": "stream",
     "text": [
      "Your food: apple\n",
      "Quantity: 10\n",
      "Already peeled!\n"
     ]
    }
   ],
   "source": [
    "my_apple = apple('apple', 10, 'red', False)\n",
    "print(my_apple)\n",
    "my_apple.peel()"
   ]
  },
  {
   "cell_type": "code",
   "execution_count": 52,
   "metadata": {},
   "outputs": [],
   "source": [
    "class pizza(food):\n",
    "    def __init__(self, name, quantity, sliced):\n",
    "        super().__init__(name, quantity)\n",
    "        self.sliced = sliced\n",
    "    def eat(self):\n",
    "        if self.sliced is False:\n",
    "            print(\"You can't eat a pizza before slicing it!\")\n",
    "        else:\n",
    "            super().eat()\n",
    "    def slice(self):\n",
    "        if self.sliced is True:\n",
    "            self.quantity = self.quantity * 2\n",
    "            print(\"Smaller slices is more pizza!  You now have\", self.quantity, \"slices!\") \\\n",
    "        else:\n",
    "            print(\"Okay, slicing the pizza.  You have\", self.quantity, \"slices\")\n",
    "            self.sliced = True"
   ]
  },
  {
   "cell_type": "code",
   "execution_count": 53,
   "metadata": {},
   "outputs": [
    {
     "name": "stdout",
     "output_type": "stream",
     "text": [
      "You can't eat a pizza before slicing it!\n"
     ]
    }
   ],
   "source": [
    "my_pizza = pizza('pizza', 10, False)\n",
    "my_pizza.eat()"
   ]
  },
  {
   "cell_type": "code",
   "execution_count": 54,
   "metadata": {},
   "outputs": [
    {
     "name": "stdout",
     "output_type": "stream",
     "text": [
      "Okay, slicing the pizza.  You have 10 slices\n"
     ]
    }
   ],
   "source": [
    "my_pizza.slice()"
   ]
  },
  {
   "cell_type": "code",
   "execution_count": 55,
   "metadata": {},
   "outputs": [
    {
     "name": "stdout",
     "output_type": "stream",
     "text": [
      "Smaller slices is more pizza!  You now have 20 slices!\n"
     ]
    }
   ],
   "source": [
    "my_pizza.slice()"
   ]
  },
  {
   "cell_type": "code",
   "execution_count": 99,
   "metadata": {},
   "outputs": [],
   "source": [
    "class apple(food):\n",
    "    color = ''\n",
    "    def __init__(self, input_color, name, quantity):\n",
    "        super().__init__(name, quantity)\n",
    "        self.color = input_color\n",
    "    def whether_can_eat(self):\n",
    "        if self.color == 'green':\n",
    "            print('not good enough')\n",
    "        else:\n",
    "            print('it is time to eat')"
   ]
  },
  {
   "cell_type": "code",
   "execution_count": 100,
   "metadata": {},
   "outputs": [],
   "source": [
    "my_apple = apple('green', 'apple', 3)"
   ]
  },
  {
   "cell_type": "code",
   "execution_count": 101,
   "metadata": {},
   "outputs": [
    {
     "name": "stdout",
     "output_type": "stream",
     "text": [
      "Your food: apple\n",
      "Quantity: 3\n"
     ]
    }
   ],
   "source": [
    "print(my_apple)"
   ]
  },
  {
   "cell_type": "code",
   "execution_count": 102,
   "metadata": {},
   "outputs": [
    {
     "name": "stdout",
     "output_type": "stream",
     "text": [
      "not good enough\n"
     ]
    }
   ],
   "source": [
    "my_apple.whether_can_eat()"
   ]
  },
  {
   "cell_type": "code",
   "execution_count": null,
   "metadata": {},
   "outputs": [],
   "source": []
  },
  {
   "cell_type": "code",
   "execution_count": 115,
   "metadata": {},
   "outputs": [],
   "source": [
    "class banana(food):\n",
    "    length = 5\n",
    "    def __init__(self,  input_length, name, quantity):\n",
    "        super().__init__(name, quantity)\n",
    "        self.length = input_length \n",
    "    def slice_banana(self,cut):\n",
    "        print('the length of each partis {number}'.format(number = self.length/cut))\n"
   ]
  },
  {
   "cell_type": "code",
   "execution_count": 116,
   "metadata": {},
   "outputs": [],
   "source": [
    "my_banana = banana(20, 'banana', 5)"
   ]
  },
  {
   "cell_type": "code",
   "execution_count": 117,
   "metadata": {},
   "outputs": [
    {
     "name": "stdout",
     "output_type": "stream",
     "text": [
      "the length of each partis 4.0\n"
     ]
    }
   ],
   "source": [
    "my_banana.slice_banana(5)"
   ]
  },
  {
   "cell_type": "code",
   "execution_count": null,
   "metadata": {},
   "outputs": [],
   "source": []
  },
  {
   "cell_type": "code",
   "execution_count": null,
   "metadata": {},
   "outputs": [],
   "source": []
  }
 ],
 "metadata": {
  "kernelspec": {
   "display_name": "Python 3",
   "language": "python",
   "name": "python3"
  },
  "language_info": {
   "codemirror_mode": {
    "name": "ipython",
    "version": 3
   },
   "file_extension": ".py",
   "mimetype": "text/x-python",
   "name": "python",
   "nbconvert_exporter": "python",
   "pygments_lexer": "ipython3",
   "version": "3.7.1"
  }
 },
 "nbformat": 4,
 "nbformat_minor": 2
}
