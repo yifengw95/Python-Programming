{
 "cells": [
  {
   "cell_type": "code",
   "execution_count": 1,
   "metadata": {},
   "outputs": [],
   "source": [
    "import urllib.request, urllib.parse, urllib.error\n",
    "from bs4 import BeautifulSoup\n",
    "import sys\n",
    "import requests"
   ]
  },
  {
   "cell_type": "code",
   "execution_count": 27,
   "metadata": {},
   "outputs": [
    {
     "name": "stdout",
     "output_type": "stream",
     "text": [
      "{'url': 'https://www.anapioficeandfire.com/api/characters/1', 'name': '', 'gender': 'Female', 'culture': 'Braavosi', 'born': '', 'died': '', 'titles': [''], 'aliases': ['The Daughter of the Dusk'], 'father': '', 'mother': '', 'spouse': '', 'allegiances': [], 'books': ['https://www.anapioficeandfire.com/api/books/5'], 'povBooks': [], 'tvSeries': [''], 'playedBy': ['']}\n"
     ]
    }
   ],
   "source": [
    "url = 'https://anapioficeandfire.com/api/characters/2138'\n",
    "url = 'https://anapioficeandfire.com/api/characters/1'\n",
    "\n",
    "response = requests.get(url).json()\n",
    "print(response)"
   ]
  },
  {
   "cell_type": "code",
   "execution_count": 9,
   "metadata": {},
   "outputs": [
    {
     "name": "stdout",
     "output_type": "stream",
     "text": [
      "{'url': 'https://anapioficeandfire.com/api/characters/1', 'name': '', 'gender': 'Female', 'culture': 'Braavosi', 'born': '', 'died': '', 'titles': [''], 'aliases': ['The Daughter of the Dusk'], 'father': '', 'mother': '', 'spouse': '', 'allegiances': [], 'books': ['https://anapioficeandfire.com/api/books/5'], 'povBooks': [], 'tvSeries': [''], 'playedBy': ['']}\n",
      "-------------------\n",
      "{'url': 'https://anapioficeandfire.com/api/characters/2', 'name': 'Walder', 'gender': 'Male', 'culture': '', 'born': '', 'died': '', 'titles': [''], 'aliases': ['Hodor'], 'father': '', 'mother': '', 'spouse': '', 'allegiances': ['https://anapioficeandfire.com/api/houses/362'], 'books': ['https://anapioficeandfire.com/api/books/1', 'https://anapioficeandfire.com/api/books/2', 'https://anapioficeandfire.com/api/books/3', 'https://anapioficeandfire.com/api/books/5', 'https://anapioficeandfire.com/api/books/8'], 'povBooks': [], 'tvSeries': ['Season 1', 'Season 2', 'Season 3', 'Season 4', 'Season 6'], 'playedBy': ['Kristian Nairn']}\n",
      "-------------------\n",
      "{'url': 'https://anapioficeandfire.com/api/characters/3', 'name': '', 'gender': 'Male', 'culture': '', 'born': '', 'died': '', 'titles': [''], 'aliases': ['Lamprey'], 'father': '', 'mother': '', 'spouse': '', 'allegiances': ['https://anapioficeandfire.com/api/houses/15'], 'books': ['https://anapioficeandfire.com/api/books/3'], 'povBooks': [], 'tvSeries': [''], 'playedBy': ['']}\n",
      "-------------------\n",
      "{'url': 'https://anapioficeandfire.com/api/characters/4', 'name': '', 'gender': 'Female', 'culture': 'Braavosi', 'born': '', 'died': '', 'titles': [''], 'aliases': ['The Merling Queen'], 'father': '', 'mother': '', 'spouse': '', 'allegiances': [], 'books': ['https://anapioficeandfire.com/api/books/5', 'https://anapioficeandfire.com/api/books/8'], 'povBooks': [], 'tvSeries': [''], 'playedBy': ['']}\n",
      "-------------------\n",
      "{'url': 'https://anapioficeandfire.com/api/characters/5', 'name': '', 'gender': 'Male', 'culture': '', 'born': '', 'died': '', 'titles': [''], 'aliases': ['Old Crackbones'], 'father': '', 'mother': '', 'spouse': '', 'allegiances': [], 'books': ['https://anapioficeandfire.com/api/books/5'], 'povBooks': [], 'tvSeries': [''], 'playedBy': ['']}\n",
      "-------------------\n",
      "{'url': 'https://anapioficeandfire.com/api/characters/6', 'name': '', 'gender': 'Female', 'culture': 'Braavosi', 'born': '', 'died': '', 'titles': [''], 'aliases': ['The Poetess'], 'father': '', 'mother': '', 'spouse': '', 'allegiances': [], 'books': ['https://anapioficeandfire.com/api/books/5'], 'povBooks': [], 'tvSeries': [''], 'playedBy': ['']}\n",
      "-------------------\n",
      "{'url': 'https://anapioficeandfire.com/api/characters/7', 'name': '', 'gender': 'Female', 'culture': '', 'born': '', 'died': '', 'titles': [''], 'aliases': ['Porridge'], 'father': '', 'mother': '', 'spouse': '', 'allegiances': ['https://anapioficeandfire.com/api/houses/15'], 'books': ['https://anapioficeandfire.com/api/books/3'], 'povBooks': [], 'tvSeries': [''], 'playedBy': ['']}\n",
      "-------------------\n",
      "{'url': 'https://anapioficeandfire.com/api/characters/8', 'name': '', 'gender': 'Male', 'culture': '', 'born': '', 'died': '', 'titles': [''], 'aliases': ['Quickfinger'], 'father': '', 'mother': '', 'spouse': '', 'allegiances': ['https://anapioficeandfire.com/api/houses/23'], 'books': ['https://anapioficeandfire.com/api/books/6'], 'povBooks': [], 'tvSeries': [''], 'playedBy': ['']}\n",
      "-------------------\n",
      "{'url': 'https://anapioficeandfire.com/api/characters/9', 'name': '', 'gender': 'Female', 'culture': '', 'born': '', 'died': '', 'titles': [''], 'aliases': [\"the Sailor's Wife\"], 'father': '', 'mother': '', 'spouse': '', 'allegiances': [], 'books': ['https://anapioficeandfire.com/api/books/5'], 'povBooks': [], 'tvSeries': [''], 'playedBy': ['']}\n",
      "-------------------\n",
      "{'url': 'https://anapioficeandfire.com/api/characters/10', 'name': '', 'gender': 'Female', 'culture': 'Braavosi', 'born': '', 'died': '', 'titles': [''], 'aliases': ['The Veiled Lady'], 'father': '', 'mother': '', 'spouse': '', 'allegiances': [], 'books': ['https://anapioficeandfire.com/api/books/5'], 'povBooks': [], 'tvSeries': [''], 'playedBy': ['']}\n",
      "-------------------\n",
      "{'url': 'https://anapioficeandfire.com/api/characters/11', 'name': '', 'gender': 'Female', 'culture': 'Braavosi', 'born': 'In 263 AC or 264 AC', 'died': '', 'titles': [''], 'aliases': ['The waif'], 'father': '', 'mother': '', 'spouse': '', 'allegiances': [], 'books': ['https://anapioficeandfire.com/api/books/5', 'https://anapioficeandfire.com/api/books/8'], 'povBooks': [], 'tvSeries': ['Season 5', 'Season 6'], 'playedBy': ['Faye Marsay']}\n",
      "-------------------\n",
      "{'url': 'https://anapioficeandfire.com/api/characters/12', 'name': 'Balon Greyjoy', 'gender': 'Male', 'culture': '', 'born': '', 'died': '299 AC, at Pyke', 'titles': ['Iron King', 'King of the Isles and the North', 'King of Salt and Rock', 'Son of the Sea Wind', 'Lord Reaper of Pyke', 'The Greyjoy', 'Captain of the Great Kraken'], 'aliases': ['Balon the Brave', 'Balon the Blessed', 'Balon the Twice Crowned', 'Balon the Widowmaker', 'The Kraken King'], 'father': 'https://anapioficeandfire.com/api/characters/836', 'mother': '', 'spouse': 'https://anapioficeandfire.com/api/characters/66', 'allegiances': [], 'books': ['https://anapioficeandfire.com/api/books/1', 'https://anapioficeandfire.com/api/books/2', 'https://anapioficeandfire.com/api/books/3', 'https://anapioficeandfire.com/api/books/5', 'https://anapioficeandfire.com/api/books/8'], 'povBooks': [], 'tvSeries': ['Season 2', 'Season 3', 'Season 6'], 'playedBy': ['Patrick Malahide']}\n",
      "-------------------\n",
      "{'url': 'https://anapioficeandfire.com/api/characters/13', 'name': 'Chayle', 'gender': 'Male', 'culture': '', 'born': '', 'died': 'In 299 AC, at Winterfell', 'titles': ['Septon'], 'aliases': [''], 'father': '', 'mother': '', 'spouse': '', 'allegiances': [], 'books': ['https://anapioficeandfire.com/api/books/1', 'https://anapioficeandfire.com/api/books/2', 'https://anapioficeandfire.com/api/books/3'], 'povBooks': [], 'tvSeries': [''], 'playedBy': ['']}\n",
      "-------------------\n",
      "{'url': 'https://anapioficeandfire.com/api/characters/14', 'name': 'Gillam', 'gender': 'Male', 'culture': '', 'born': '', 'died': '', 'titles': ['Brother'], 'aliases': [''], 'father': '', 'mother': '', 'spouse': '', 'allegiances': [], 'books': ['https://anapioficeandfire.com/api/books/5'], 'povBooks': [], 'tvSeries': [''], 'playedBy': ['']}\n",
      "-------------------\n",
      "{'url': 'https://anapioficeandfire.com/api/characters/15', 'name': 'High Septon', 'gender': 'Male', 'culture': '', 'born': '', 'died': '', 'titles': ['High Septon', 'His High Holiness', 'Father of the Faithful', 'Voice of the Seven on Earth'], 'aliases': ['The High Sparrow'], 'father': '', 'mother': '', 'spouse': '', 'allegiances': [], 'books': ['https://anapioficeandfire.com/api/books/5', 'https://anapioficeandfire.com/api/books/8'], 'povBooks': [], 'tvSeries': ['Season 5', 'Season 6'], 'playedBy': ['Jonathan Pryce']}\n",
      "-------------------\n",
      "{'url': 'https://anapioficeandfire.com/api/characters/16', 'name': 'Margaery Tyrell', 'gender': 'Female', 'culture': 'Westeros', 'born': 'In 283 AC, at Highgarden', 'died': '', 'titles': ['Queen of the Seven Kingdoms'], 'aliases': ['The Little Queen', 'The Little Rose', 'Maid Margaery'], 'father': '', 'mother': '', 'spouse': 'https://anapioficeandfire.com/api/characters/862', 'allegiances': ['https://anapioficeandfire.com/api/houses/398'], 'books': ['https://anapioficeandfire.com/api/books/1', 'https://anapioficeandfire.com/api/books/2', 'https://anapioficeandfire.com/api/books/3', 'https://anapioficeandfire.com/api/books/5', 'https://anapioficeandfire.com/api/books/8'], 'povBooks': [], 'tvSeries': ['Season 2', 'Season 3', 'Season 4', 'Season 5', 'Season 6'], 'playedBy': ['Natalie Dormer']}\n",
      "-------------------\n",
      "{'url': 'https://anapioficeandfire.com/api/characters/17', 'name': 'Melicent', 'gender': 'Female', 'culture': '', 'born': '', 'died': '', 'titles': ['Septa'], 'aliases': [''], 'father': '', 'mother': '', 'spouse': '', 'allegiances': [], 'books': ['https://anapioficeandfire.com/api/books/5'], 'povBooks': [], 'tvSeries': [''], 'playedBy': ['']}\n",
      "-------------------\n",
      "{'url': 'https://anapioficeandfire.com/api/characters/18', 'name': 'Meribald', 'gender': 'Male', 'culture': '', 'born': 'In 247 AC or 248 AC, at the riverlands', 'died': '', 'titles': ['Septon'], 'aliases': [''], 'father': '', 'mother': '', 'spouse': '', 'allegiances': [], 'books': ['https://anapioficeandfire.com/api/books/5'], 'povBooks': [], 'tvSeries': [''], 'playedBy': ['']}\n",
      "-------------------\n"
     ]
    },
    {
     "name": "stdout",
     "output_type": "stream",
     "text": [
      "{'url': 'https://anapioficeandfire.com/api/characters/19', 'name': 'Moelle', 'gender': 'Female', 'culture': '', 'born': '', 'died': '', 'titles': ['Septa'], 'aliases': [''], 'father': '', 'mother': '', 'spouse': '', 'allegiances': [], 'books': ['https://anapioficeandfire.com/api/books/5', 'https://anapioficeandfire.com/api/books/8'], 'povBooks': [], 'tvSeries': [''], 'playedBy': ['']}\n",
      "-------------------\n",
      "{'url': 'https://anapioficeandfire.com/api/characters/20', 'name': 'Mordane', 'gender': 'Female', 'culture': '', 'born': '', 'died': \"In 298 AC, at King's Landing\", 'titles': ['Septa'], 'aliases': [''], 'father': '', 'mother': '', 'spouse': '', 'allegiances': ['https://anapioficeandfire.com/api/houses/362'], 'books': ['https://anapioficeandfire.com/api/books/1', 'https://anapioficeandfire.com/api/books/2', 'https://anapioficeandfire.com/api/books/3'], 'povBooks': [], 'tvSeries': ['Season 1'], 'playedBy': ['Susan Brown']}\n",
      "-------------------\n",
      "{'url': 'https://anapioficeandfire.com/api/characters/21', 'name': 'Nysterica', 'gender': 'Female', 'culture': '', 'born': '', 'died': '', 'titles': ['Septa'], 'aliases': [''], 'father': '', 'mother': '', 'spouse': '', 'allegiances': [], 'books': ['https://anapioficeandfire.com/api/books/3', 'https://anapioficeandfire.com/api/books/5', 'https://anapioficeandfire.com/api/books/8'], 'povBooks': [], 'tvSeries': [''], 'playedBy': ['']}\n",
      "-------------------\n",
      "{'url': 'https://anapioficeandfire.com/api/characters/22', 'name': 'Ollidor', 'gender': 'Male', 'culture': '', 'born': '', 'died': '', 'titles': ['Septon'], 'aliases': [''], 'father': '', 'mother': '', 'spouse': '', 'allegiances': [], 'books': ['https://anapioficeandfire.com/api/books/5', 'https://anapioficeandfire.com/api/books/8'], 'povBooks': [], 'tvSeries': [''], 'playedBy': ['']}\n",
      "-------------------\n",
      "{'url': 'https://anapioficeandfire.com/api/characters/23', 'name': 'Osmynd', 'gender': 'Male', 'culture': '', 'born': '', 'died': '', 'titles': ['Septon'], 'aliases': [''], 'father': '', 'mother': '', 'spouse': '', 'allegiances': [], 'books': ['https://anapioficeandfire.com/api/books/2'], 'povBooks': [], 'tvSeries': [''], 'playedBy': ['']}\n",
      "-------------------\n",
      "{'url': 'https://anapioficeandfire.com/api/characters/24', 'name': 'Raynard', 'gender': 'Male', 'culture': '', 'born': '', 'died': '', 'titles': ['Septon'], 'aliases': [''], 'father': '', 'mother': '', 'spouse': '', 'allegiances': [], 'books': ['https://anapioficeandfire.com/api/books/5', 'https://anapioficeandfire.com/api/books/8'], 'povBooks': [], 'tvSeries': [''], 'playedBy': ['']}\n",
      "-------------------\n",
      "{'url': 'https://anapioficeandfire.com/api/characters/25', 'name': 'Scolera', 'gender': 'Female', 'culture': '', 'born': '', 'died': '', 'titles': ['Septa'], 'aliases': [''], 'father': '', 'mother': '', 'spouse': '', 'allegiances': [], 'books': ['https://anapioficeandfire.com/api/books/5', 'https://anapioficeandfire.com/api/books/8'], 'povBooks': [], 'tvSeries': [''], 'playedBy': ['']}\n",
      "-------------------\n",
      "{'url': 'https://anapioficeandfire.com/api/characters/26', 'name': 'Torbert', 'gender': 'Male', 'culture': '', 'born': '', 'died': '', 'titles': ['Septon'], 'aliases': [''], 'father': '', 'mother': '', 'spouse': '', 'allegiances': [], 'books': ['https://anapioficeandfire.com/api/books/5', 'https://anapioficeandfire.com/api/books/8'], 'povBooks': [], 'tvSeries': [''], 'playedBy': ['']}\n",
      "-------------------\n",
      "{'url': 'https://anapioficeandfire.com/api/characters/27', 'name': 'Tywin Lannister', 'gender': 'Male', 'culture': '', 'born': 'In 242 AC', 'died': \"In 300 AC, at King's Landing\", 'titles': ['Lord of Casterly Rock', 'Shield of Lannisport', 'Warden of the West', 'Hand of the King', \"Savior of the City (of King's Landing)\"], 'aliases': ['The Lion of Lannister', 'The Old Lion', 'The Great Lion of the Rock'], 'father': '', 'mother': '', 'spouse': 'https://anapioficeandfire.com/api/characters/562', 'allegiances': ['https://anapioficeandfire.com/api/houses/229'], 'books': ['https://anapioficeandfire.com/api/books/1', 'https://anapioficeandfire.com/api/books/2', 'https://anapioficeandfire.com/api/books/3', 'https://anapioficeandfire.com/api/books/5', 'https://anapioficeandfire.com/api/books/8', 'https://anapioficeandfire.com/api/books/11'], 'povBooks': [], 'tvSeries': ['Season 1', 'Season 2', 'Season 3', 'Season 4'], 'playedBy': ['Charles Dance']}\n",
      "-------------------\n",
      "{'url': 'https://anapioficeandfire.com/api/characters/28', 'name': 'Unella', 'gender': 'Female', 'culture': '', 'born': '', 'died': '', 'titles': ['Septa'], 'aliases': [''], 'father': '', 'mother': '', 'spouse': '', 'allegiances': [], 'books': ['https://anapioficeandfire.com/api/books/5', 'https://anapioficeandfire.com/api/books/8'], 'povBooks': [], 'tvSeries': ['Season 5', 'Season 6'], 'playedBy': ['Hannah Waddingham']}\n",
      "-------------------\n",
      "{'url': 'https://anapioficeandfire.com/api/characters/29', 'name': 'Abelar Hightower', 'gender': 'Male', 'culture': '', 'born': '', 'died': '', 'titles': ['Ser'], 'aliases': [''], 'father': '', 'mother': '', 'spouse': '', 'allegiances': ['https://anapioficeandfire.com/api/houses/195'], 'books': ['https://anapioficeandfire.com/api/books/4'], 'povBooks': [], 'tvSeries': [''], 'playedBy': ['']}\n",
      "-------------------\n",
      "{'url': 'https://anapioficeandfire.com/api/characters/30', 'name': 'Addam Frey', 'gender': 'Male', 'culture': '', 'born': '', 'died': '', 'titles': ['Ser'], 'aliases': [''], 'father': '', 'mother': '', 'spouse': '', 'allegiances': ['https://anapioficeandfire.com/api/houses/143'], 'books': ['https://anapioficeandfire.com/api/books/7'], 'povBooks': [], 'tvSeries': [''], 'playedBy': ['']}\n",
      "-------------------\n",
      "{'url': 'https://anapioficeandfire.com/api/characters/31', 'name': 'Addam Marbrand', 'gender': 'Male', 'culture': '', 'born': '', 'died': '', 'titles': ['Ser', 'Commander of the City Watch'], 'aliases': [''], 'father': '', 'mother': '', 'spouse': '', 'allegiances': ['https://anapioficeandfire.com/api/houses/258'], 'books': ['https://anapioficeandfire.com/api/books/1', 'https://anapioficeandfire.com/api/books/2', 'https://anapioficeandfire.com/api/books/3', 'https://anapioficeandfire.com/api/books/5', 'https://anapioficeandfire.com/api/books/8'], 'povBooks': [], 'tvSeries': ['Season 1'], 'playedBy': ['B.J. Hogg']}\n",
      "-------------------\n",
      "{'url': 'https://anapioficeandfire.com/api/characters/32', 'name': 'Addam Osgrey', 'gender': 'Male', 'culture': '', 'born': 'In 183 AC or 184 AC', 'died': 'In 196 AC, at Redgrass Field', 'titles': [''], 'aliases': [''], 'father': '', 'mother': '', 'spouse': '', 'allegiances': ['https://anapioficeandfire.com/api/houses/291'], 'books': ['https://anapioficeandfire.com/api/books/6'], 'povBooks': [], 'tvSeries': [''], 'playedBy': ['']}\n",
      "-------------------\n",
      "{'url': 'https://anapioficeandfire.com/api/characters/33', 'name': 'Addam Velaryon', 'gender': 'Male', 'culture': 'Valyrian', 'born': 'In 114 AC, at Hull', 'died': 'In 130 AC, at Tumbleton', 'titles': ['Ser'], 'aliases': ['Addam of Hull'], 'father': '', 'mother': '', 'spouse': '', 'allegiances': ['https://anapioficeandfire.com/api/houses/378', 'https://anapioficeandfire.com/api/houses/407'], 'books': ['https://anapioficeandfire.com/api/books/9', 'https://anapioficeandfire.com/api/books/11'], 'povBooks': [], 'tvSeries': [''], 'playedBy': ['']}\n",
      "-------------------\n",
      "{'url': 'https://anapioficeandfire.com/api/characters/34', 'name': 'Addison Hill', 'gender': 'Male', 'culture': '', 'born': 'At Cornfield', 'died': '', 'titles': ['Ser', 'Lord Commander of the Kingsguard'], 'aliases': ['The Bastard of Cornfield'], 'father': '', 'mother': '', 'spouse': '', 'allegiances': ['https://anapioficeandfire.com/api/houses/374'], 'books': ['https://anapioficeandfire.com/api/books/5', 'https://anapioficeandfire.com/api/books/11'], 'povBooks': [], 'tvSeries': [''], 'playedBy': ['']}\n",
      "-------------------\n",
      "{'url': 'https://anapioficeandfire.com/api/characters/35', 'name': 'Aegon Blackfyre', 'gender': 'Male', 'culture': 'Valyrian', 'born': 'In 184 AC', 'died': 'In 196 AC, at Redgrass Field', 'titles': [''], 'aliases': [''], 'father': '', 'mother': '', 'spouse': '', 'allegiances': ['https://anapioficeandfire.com/api/houses/23'], 'books': ['https://anapioficeandfire.com/api/books/3', 'https://anapioficeandfire.com/api/books/6', 'https://anapioficeandfire.com/api/books/7'], 'povBooks': [], 'tvSeries': [''], 'playedBy': ['']}\n",
      "-------------------\n",
      "{'url': 'https://anapioficeandfire.com/api/characters/36', 'name': 'Aegon Frey', 'gender': 'Male', 'culture': '', 'born': 'In 249 AC (roughly)', 'died': 'In 299 AC, at the Twins', 'titles': [''], 'aliases': ['Jinglebell'], 'father': '', 'mother': '', 'spouse': '', 'allegiances': ['https://anapioficeandfire.com/api/houses/143'], 'books': ['https://anapioficeandfire.com/api/books/2', 'https://anapioficeandfire.com/api/books/3', 'https://anapioficeandfire.com/api/books/5'], 'povBooks': [], 'tvSeries': [''], 'playedBy': ['']}\n",
      "-------------------\n"
     ]
    },
    {
     "name": "stdout",
     "output_type": "stream",
     "text": [
      "{'url': 'https://anapioficeandfire.com/api/characters/37', 'name': 'Aegon Frey', 'gender': 'Male', 'culture': '', 'born': 'In or between 253 AC and 272 AC', 'died': '', 'titles': [''], 'aliases': ['Aegon Bloodborn'], 'father': '', 'mother': '', 'spouse': '', 'allegiances': ['https://anapioficeandfire.com/api/houses/143'], 'books': ['https://anapioficeandfire.com/api/books/2', 'https://anapioficeandfire.com/api/books/3', 'https://anapioficeandfire.com/api/books/5', 'https://anapioficeandfire.com/api/books/8'], 'povBooks': [], 'tvSeries': [''], 'playedBy': ['']}\n",
      "-------------------\n",
      "{'url': 'https://anapioficeandfire.com/api/characters/38', 'name': 'Aegon I', 'gender': 'Male', 'culture': '', 'born': '27 BC, at Dragonstone', 'died': '37 AC, at Dragonstone', 'titles': ['King of All Westeros', 'Shield of His People', 'King of the Andals, the Rhoynar and the First Men', 'Lord of the Seven Kingdoms', 'Protector of the Realm', 'Lord of Dragonstone'], 'aliases': ['Aegon the Conqueror', 'Aegon the Dragon', 'Aegon the Dragonlord'], 'father': 'https://anapioficeandfire.com/api/characters/59', 'mother': 'https://anapioficeandfire.com/api/characters/1070', 'spouse': 'https://anapioficeandfire.com/api/characters/2071', 'allegiances': [], 'books': ['https://anapioficeandfire.com/api/books/1', 'https://anapioficeandfire.com/api/books/2', 'https://anapioficeandfire.com/api/books/3', 'https://anapioficeandfire.com/api/books/4', 'https://anapioficeandfire.com/api/books/5', 'https://anapioficeandfire.com/api/books/6', 'https://anapioficeandfire.com/api/books/7', 'https://anapioficeandfire.com/api/books/8', 'https://anapioficeandfire.com/api/books/9', 'https://anapioficeandfire.com/api/books/11'], 'povBooks': [], 'tvSeries': [''], 'playedBy': ['']}\n",
      "-------------------\n",
      "{'url': 'https://anapioficeandfire.com/api/characters/39', 'name': 'Aegon II', 'gender': 'Male', 'culture': '', 'born': \"107 AC, at King's Landing\", 'died': \"131 AC, at King's Landing\", 'titles': ['King of the Andals, the Rhoynar and the First Men', 'Lord of the Seven Kingdoms', 'Protector of the Realm'], 'aliases': ['Aegon the Elder', 'Aegon the Usurper'], 'father': 'https://anapioficeandfire.com/api/characters/1076', 'mother': 'https://anapioficeandfire.com/api/characters/76', 'spouse': 'https://anapioficeandfire.com/api/characters/488', 'allegiances': [], 'books': ['https://anapioficeandfire.com/api/books/1', 'https://anapioficeandfire.com/api/books/3', 'https://anapioficeandfire.com/api/books/5', 'https://anapioficeandfire.com/api/books/9', 'https://anapioficeandfire.com/api/books/10', 'https://anapioficeandfire.com/api/books/11'], 'povBooks': [], 'tvSeries': [''], 'playedBy': ['']}\n",
      "-------------------\n",
      "{'url': 'https://anapioficeandfire.com/api/characters/40', 'name': 'Aegon III', 'gender': 'Male', 'culture': 'Valyrian', 'born': '120 AC, at Dragonstone', 'died': \"157 AC, at King's Landing\", 'titles': ['King of the Andals, the Rhoynar and the First Men', 'Lord of the Seven Kingdoms', 'Protector of the Realm'], 'aliases': ['Aegon the Younger', 'Aegon the Dragonbane', 'Aegon the Unlucky', 'The Broken King'], 'father': 'https://anapioficeandfire.com/api/characters/269', 'mother': 'https://anapioficeandfire.com/api/characters/874', 'spouse': 'https://anapioficeandfire.com/api/characters/1527', 'allegiances': [], 'books': ['https://anapioficeandfire.com/api/books/1', 'https://anapioficeandfire.com/api/books/3', 'https://anapioficeandfire.com/api/books/4', 'https://anapioficeandfire.com/api/books/9', 'https://anapioficeandfire.com/api/books/10', 'https://anapioficeandfire.com/api/books/11'], 'povBooks': [], 'tvSeries': [''], 'playedBy': ['']}\n",
      "-------------------\n",
      "{'url': 'https://anapioficeandfire.com/api/characters/41', 'name': 'Aegon IV', 'gender': 'Male', 'culture': '', 'born': \"135 AC, at King's Landing\", 'died': \"184 AC, at King's Landing\", 'titles': ['King of the Andals, the Rhoynar and the First Men', 'Lord of the Seven Kingdoms', 'Protector of the Realm'], 'aliases': ['Aegon the Unworthy'], 'father': '', 'mother': '', 'spouse': 'https://anapioficeandfire.com/api/characters/779', 'allegiances': [], 'books': ['https://anapioficeandfire.com/api/books/1', 'https://anapioficeandfire.com/api/books/3', 'https://anapioficeandfire.com/api/books/4', 'https://anapioficeandfire.com/api/books/7', 'https://anapioficeandfire.com/api/books/11'], 'povBooks': [], 'tvSeries': [''], 'playedBy': ['']}\n",
      "-------------------\n",
      "{'url': 'https://anapioficeandfire.com/api/characters/42', 'name': 'Aegon Targaryen', 'gender': 'Male', 'culture': 'Valyrian', 'born': 'In 281 AC or 282 AC, at Dragonstone', 'died': \"In 283 AC (Supposedly), at King's Landing\", 'titles': [''], 'aliases': ['Young Griff'], 'father': '', 'mother': '', 'spouse': '', 'allegiances': ['https://anapioficeandfire.com/api/houses/378'], 'books': ['https://anapioficeandfire.com/api/books/1', 'https://anapioficeandfire.com/api/books/2', 'https://anapioficeandfire.com/api/books/3', 'https://anapioficeandfire.com/api/books/5', 'https://anapioficeandfire.com/api/books/8', 'https://anapioficeandfire.com/api/books/11'], 'povBooks': [], 'tvSeries': [''], 'playedBy': ['']}\n",
      "-------------------\n",
      "{'url': 'https://anapioficeandfire.com/api/characters/43', 'name': 'Aegon Targaryen', 'gender': 'Male', 'culture': 'Valyrian', 'born': 'In 26 AC', 'died': 'In 43 AC, at Gods Eye', 'titles': ['Prince'], 'aliases': [''], 'father': '', 'mother': '', 'spouse': 'https://anapioficeandfire.com/api/characters/873', 'allegiances': ['https://anapioficeandfire.com/api/houses/378'], 'books': ['https://anapioficeandfire.com/api/books/11'], 'povBooks': [], 'tvSeries': [''], 'playedBy': ['']}\n",
      "-------------------\n",
      "{'url': 'https://anapioficeandfire.com/api/characters/44', 'name': 'Aegon Targaryen', 'gender': 'Male', 'culture': 'Valyrian', 'born': '', 'died': '', 'titles': ['Prince'], 'aliases': [''], 'father': '', 'mother': '', 'spouse': '', 'allegiances': ['https://anapioficeandfire.com/api/houses/378'], 'books': ['https://anapioficeandfire.com/api/books/11'], 'povBooks': [], 'tvSeries': [''], 'playedBy': ['']}\n",
      "-------------------\n",
      "{'url': 'https://anapioficeandfire.com/api/characters/45', 'name': 'Aegon Targaryen', 'gender': 'Male', 'culture': 'Valyrian', 'born': 'In or between 50 AC and 59 AC', 'died': '', 'titles': ['Prince'], 'aliases': [''], 'father': '', 'mother': '', 'spouse': '', 'allegiances': ['https://anapioficeandfire.com/api/houses/378'], 'books': ['https://anapioficeandfire.com/api/books/11'], 'povBooks': [], 'tvSeries': [''], 'playedBy': ['']}\n",
      "-------------------\n",
      "{'url': 'https://anapioficeandfire.com/api/characters/46', 'name': 'Aegon V', 'gender': 'Male', 'culture': '', 'born': \"200 AC, at King's Landing\", 'died': '259 AC, at Summerhall', 'titles': ['King of the Andals, the Rhoynar and the First Men', 'Lord of the Seven Kingdoms', 'Protector of the Realm'], 'aliases': ['Aegon the Unlikely', 'Aegon the Fortunate', 'The Prince Who Was An Eggg'], 'father': 'https://anapioficeandfire.com/api/characters/695', 'mother': 'https://anapioficeandfire.com/api/characters/334', 'spouse': 'https://anapioficeandfire.com/api/characters/195', 'allegiances': [], 'books': ['https://anapioficeandfire.com/api/books/1', 'https://anapioficeandfire.com/api/books/2', 'https://anapioficeandfire.com/api/books/3', 'https://anapioficeandfire.com/api/books/4', 'https://anapioficeandfire.com/api/books/5', 'https://anapioficeandfire.com/api/books/6', 'https://anapioficeandfire.com/api/books/7', 'https://anapioficeandfire.com/api/books/8', 'https://anapioficeandfire.com/api/books/11'], 'povBooks': [], 'tvSeries': [''], 'playedBy': ['']}\n",
      "-------------------\n",
      "{'url': 'https://anapioficeandfire.com/api/characters/47', 'name': 'Aegor Rivers', 'gender': 'Male', 'culture': '', 'born': 'In 172 AC', 'died': 'In 241 AC, at the Disputed Lands', 'titles': ['Ser'], 'aliases': ['Bittersteel'], 'father': '', 'mother': '', 'spouse': 'https://anapioficeandfire.com/api/characters/226', 'allegiances': ['https://anapioficeandfire.com/api/houses/23', 'https://anapioficeandfire.com/api/houses/37'], 'books': ['https://anapioficeandfire.com/api/books/5', 'https://anapioficeandfire.com/api/books/6', 'https://anapioficeandfire.com/api/books/7', 'https://anapioficeandfire.com/api/books/8', 'https://anapioficeandfire.com/api/books/11'], 'povBooks': [], 'tvSeries': [''], 'playedBy': ['']}\n",
      "-------------------\n"
     ]
    },
    {
     "name": "stdout",
     "output_type": "stream",
     "text": [
      "{'url': 'https://anapioficeandfire.com/api/characters/48', 'name': 'Aelinor Penrose', 'gender': 'Female', 'culture': 'Valyrian', 'born': '', 'died': '', 'titles': ['Queen'], 'aliases': [''], 'father': '', 'mother': '', 'spouse': 'https://anapioficeandfire.com/api/characters/61', 'allegiances': ['https://anapioficeandfire.com/api/houses/300', 'https://anapioficeandfire.com/api/houses/378'], 'books': ['https://anapioficeandfire.com/api/books/6', 'https://anapioficeandfire.com/api/books/11'], 'povBooks': [], 'tvSeries': [''], 'playedBy': ['']}\n",
      "-------------------\n",
      "{'url': 'https://anapioficeandfire.com/api/characters/49', 'name': 'Aemma Arryn', 'gender': 'Female', 'culture': '', 'born': 'In 82 AC', 'died': 'In 105 AC', 'titles': ['Queen'], 'aliases': [''], 'father': '', 'mother': '', 'spouse': 'https://anapioficeandfire.com/api/characters/1076', 'allegiances': ['https://anapioficeandfire.com/api/houses/7', 'https://anapioficeandfire.com/api/houses/378'], 'books': ['https://anapioficeandfire.com/api/books/9', 'https://anapioficeandfire.com/api/books/10', 'https://anapioficeandfire.com/api/books/11'], 'povBooks': [], 'tvSeries': [''], 'playedBy': ['']}\n",
      "-------------------\n",
      "{'url': 'https://anapioficeandfire.com/api/characters/50', 'name': 'Aemon Blackfyre', 'gender': 'Male', 'culture': 'Valyrian', 'born': 'In 184 AC', 'died': 'In 196 AC, at Redgrass Field', 'titles': [''], 'aliases': [''], 'father': '', 'mother': '', 'spouse': '', 'allegiances': ['https://anapioficeandfire.com/api/houses/23'], 'books': ['https://anapioficeandfire.com/api/books/3', 'https://anapioficeandfire.com/api/books/6', 'https://anapioficeandfire.com/api/books/7'], 'povBooks': [], 'tvSeries': [''], 'playedBy': ['']}\n",
      "-------------------\n",
      "{'url': 'https://anapioficeandfire.com/api/characters/51', 'name': 'Aemon Costayne', 'gender': 'Male', 'culture': '', 'born': '', 'died': '', 'titles': [''], 'aliases': [''], 'father': '', 'mother': '', 'spouse': '', 'allegiances': ['https://anapioficeandfire.com/api/houses/83'], 'books': ['https://anapioficeandfire.com/api/books/3'], 'povBooks': [], 'tvSeries': [''], 'playedBy': ['']}\n",
      "-------------------\n",
      "{'url': 'https://anapioficeandfire.com/api/characters/52', 'name': 'Aemon Estermont', 'gender': 'Male', 'culture': 'Stormlands', 'born': '', 'died': '', 'titles': ['Ser'], 'aliases': [''], 'father': '', 'mother': '', 'spouse': '', 'allegiances': ['https://anapioficeandfire.com/api/houses/117'], 'books': ['https://anapioficeandfire.com/api/books/2', 'https://anapioficeandfire.com/api/books/3', 'https://anapioficeandfire.com/api/books/5', 'https://anapioficeandfire.com/api/books/8'], 'povBooks': [], 'tvSeries': [''], 'playedBy': ['']}\n",
      "-------------------\n",
      "{'url': 'https://anapioficeandfire.com/api/characters/53', 'name': 'Aemon Rivers', 'gender': 'Male', 'culture': '', 'born': '', 'died': '', 'titles': ['Ser'], 'aliases': [''], 'father': '', 'mother': '', 'spouse': '', 'allegiances': ['https://anapioficeandfire.com/api/houses/143'], 'books': ['https://anapioficeandfire.com/api/books/2', 'https://anapioficeandfire.com/api/books/3', 'https://anapioficeandfire.com/api/books/5'], 'povBooks': [], 'tvSeries': [''], 'playedBy': ['']}\n",
      "-------------------\n",
      "{'url': 'https://anapioficeandfire.com/api/characters/54', 'name': 'Aemon Targaryen', 'gender': 'Male', 'culture': 'Valyrian', 'born': \"In 198 AC, at King's Landing\", 'died': 'In 300 AC, at the Cinnamon Wind, off the coast of Dorne, at the Summer Sea', 'titles': ['Maester'], 'aliases': ['Aemon Targaryen', 'Maester Aemon', 'Uncle Maester'], 'father': '', 'mother': '', 'spouse': '', 'allegiances': [], 'books': ['https://anapioficeandfire.com/api/books/1', 'https://anapioficeandfire.com/api/books/2', 'https://anapioficeandfire.com/api/books/3', 'https://anapioficeandfire.com/api/books/4', 'https://anapioficeandfire.com/api/books/5', 'https://anapioficeandfire.com/api/books/6', 'https://anapioficeandfire.com/api/books/7', 'https://anapioficeandfire.com/api/books/8'], 'povBooks': [], 'tvSeries': ['Season 1', 'Season 3', 'Season 4', 'Season 5'], 'playedBy': ['Peter Vaughan']}\n",
      "-------------------\n",
      "{'url': 'https://anapioficeandfire.com/api/characters/55', 'name': 'Aemond Targaryen', 'gender': 'Male', 'culture': 'Valyrian', 'born': 'In 110 AC', 'died': 'In 130 AC, at the Gods Eye', 'titles': ['Prince', 'Protector of the Realm', 'Prince Regent'], 'aliases': ['Aemond One-Eye Aemond the Kinslayer'], 'father': '', 'mother': '', 'spouse': '', 'allegiances': ['https://anapioficeandfire.com/api/houses/378'], 'books': ['https://anapioficeandfire.com/api/books/8', 'https://anapioficeandfire.com/api/books/9', 'https://anapioficeandfire.com/api/books/10', 'https://anapioficeandfire.com/api/books/11'], 'povBooks': [], 'tvSeries': [''], 'playedBy': ['']}\n",
      "-------------------\n",
      "{'url': 'https://anapioficeandfire.com/api/characters/56', 'name': 'Aenys Frey', 'gender': 'Male', 'culture': '', 'born': 'In or between 240 AC and 247 AC', 'died': 'In 300 AC, at Near Winterfell', 'titles': ['Ser'], 'aliases': [''], 'father': '', 'mother': '', 'spouse': 'https://anapioficeandfire.com/api/characters/1045', 'allegiances': ['https://anapioficeandfire.com/api/houses/143'], 'books': ['https://anapioficeandfire.com/api/books/1', 'https://anapioficeandfire.com/api/books/2', 'https://anapioficeandfire.com/api/books/3', 'https://anapioficeandfire.com/api/books/5', 'https://anapioficeandfire.com/api/books/8'], 'povBooks': [], 'tvSeries': [''], 'playedBy': ['']}\n",
      "-------------------\n",
      "{'url': 'https://anapioficeandfire.com/api/characters/57', 'name': 'Aenys I', 'gender': 'Male', 'culture': '', 'born': '7 AC, at Dragonstone', 'died': '42 AC, at Dragonstone', 'titles': ['King of the Andals, the Rhoynar and the First Men', 'Lord of the Seven Kingdoms', 'Protector of the Realm'], 'aliases': [''], 'father': 'https://anapioficeandfire.com/api/characters/38', 'mother': 'https://anapioficeandfire.com/api/characters/1874', 'spouse': 'https://anapioficeandfire.com/api/characters/110', 'allegiances': [], 'books': ['https://anapioficeandfire.com/api/books/1', 'https://anapioficeandfire.com/api/books/11'], 'povBooks': [], 'tvSeries': [''], 'playedBy': ['']}\n",
      "-------------------\n",
      "{'url': 'https://anapioficeandfire.com/api/characters/58', 'name': 'Aerion Targaryen', 'gender': 'Male', 'culture': 'Valyrian', 'born': 'In or between 191 AC and 194 AC', 'died': 'In 232 AC', 'titles': ['Prince'], 'aliases': ['Brightflame', 'Aerion the Monstrous', 'The Bright Prince', 'The Prince Who Thought He Was a Dragon'], 'father': '', 'mother': '', 'spouse': 'https://anapioficeandfire.com/api/characters/272', 'allegiances': ['https://anapioficeandfire.com/api/houses/378'], 'books': ['https://anapioficeandfire.com/api/books/2', 'https://anapioficeandfire.com/api/books/3', 'https://anapioficeandfire.com/api/books/4', 'https://anapioficeandfire.com/api/books/6', 'https://anapioficeandfire.com/api/books/7', 'https://anapioficeandfire.com/api/books/8', 'https://anapioficeandfire.com/api/books/11'], 'povBooks': [], 'tvSeries': [''], 'playedBy': ['']}\n",
      "-------------------\n",
      "{'url': 'https://anapioficeandfire.com/api/characters/59', 'name': 'Aerion Targaryen', 'gender': 'Male', 'culture': 'Valyrian', 'born': 'At Dragonstone', 'died': 'At Dragonstone', 'titles': ['Lord of Dragonstone'], 'aliases': [''], 'father': '', 'mother': '', 'spouse': 'https://anapioficeandfire.com/api/characters/1070', 'allegiances': ['https://anapioficeandfire.com/api/houses/378'], 'books': ['https://anapioficeandfire.com/api/books/11'], 'povBooks': [], 'tvSeries': [''], 'playedBy': ['']}\n",
      "-------------------\n",
      "{'url': 'https://anapioficeandfire.com/api/characters/60', 'name': 'Aeron Greyjoy', 'gender': 'Male', 'culture': 'Ironborn', 'born': 'In or between 269 AC and 273 AC, at Pyke', 'died': '', 'titles': ['Priest of the Drowned God', 'Captain of the Golden Storm (formerly)'], 'aliases': ['The Damphair', 'Aeron Damphair'], 'father': '', 'mother': '', 'spouse': '', 'allegiances': ['https://anapioficeandfire.com/api/houses/169'], 'books': ['https://anapioficeandfire.com/api/books/1', 'https://anapioficeandfire.com/api/books/2', 'https://anapioficeandfire.com/api/books/3', 'https://anapioficeandfire.com/api/books/8'], 'povBooks': ['https://anapioficeandfire.com/api/books/5'], 'tvSeries': ['Season 6'], 'playedBy': ['Michael Feast']}\n",
      "-------------------\n",
      "{'url': 'https://anapioficeandfire.com/api/characters/61', 'name': 'Aerys I', 'gender': 'Male', 'culture': '', 'born': \"or between 172 AC and 176 AC, at King's Landing\", 'died': '221 AC', 'titles': ['King of the Andals, the Rhoynar, and the First Men', 'Lord of the Seven Kingdoms', 'Protector of the Realm'], 'aliases': [''], 'father': 'https://anapioficeandfire.com/api/characters/274', 'mother': 'https://anapioficeandfire.com/api/characters/709', 'spouse': 'https://anapioficeandfire.com/api/characters/48', 'allegiances': [], 'books': ['https://anapioficeandfire.com/api/books/1', 'https://anapioficeandfire.com/api/books/4', 'https://anapioficeandfire.com/api/books/6', 'https://anapioficeandfire.com/api/books/7', 'https://anapioficeandfire.com/api/books/11'], 'povBooks': [], 'tvSeries': [''], 'playedBy': ['']}\n",
      "-------------------\n"
     ]
    },
    {
     "name": "stdout",
     "output_type": "stream",
     "text": [
      "{'url': 'https://anapioficeandfire.com/api/characters/62', 'name': 'Aerys II', 'gender': 'Male', 'culture': '', 'born': \"244 AC, at King's Landing\", 'died': \"283 AC, at the Red Keep in King's Landing\", 'titles': ['King of the Andals, the Rhoynar and the First Men', 'Lord of the Seven Kingdoms', 'Protector of the Realm'], 'aliases': ['The Mad King', 'King Scab'], 'father': 'https://anapioficeandfire.com/api/characters/527', 'mother': 'https://anapioficeandfire.com/api/characters/971', 'spouse': 'https://anapioficeandfire.com/api/characters/869', 'allegiances': [], 'books': ['https://anapioficeandfire.com/api/books/1', 'https://anapioficeandfire.com/api/books/2', 'https://anapioficeandfire.com/api/books/3', 'https://anapioficeandfire.com/api/books/5', 'https://anapioficeandfire.com/api/books/8', 'https://anapioficeandfire.com/api/books/11'], 'povBooks': [], 'tvSeries': ['Season 6'], 'playedBy': ['David Rintoul']}\n",
      "-------------------\n",
      "{'url': 'https://anapioficeandfire.com/api/characters/63', 'name': 'Aglantine', 'gender': 'Female', 'culture': '', 'born': '', 'died': '', 'titles': ['Septa'], 'aliases': [''], 'father': '', 'mother': '', 'spouse': '', 'allegiances': [], 'books': ['https://anapioficeandfire.com/api/books/5', 'https://anapioficeandfire.com/api/books/8'], 'povBooks': [], 'tvSeries': [''], 'playedBy': ['']}\n",
      "-------------------\n",
      "{'url': 'https://anapioficeandfire.com/api/characters/64', 'name': 'Aladale Wynch', 'gender': 'Male', 'culture': 'Ironborn', 'born': '', 'died': 'In 300 AC, at Bridge of Skulls', 'titles': ['Ser'], 'aliases': [''], 'father': '', 'mother': '', 'spouse': '', 'allegiances': ['https://anapioficeandfire.com/api/houses/439'], 'books': ['https://anapioficeandfire.com/api/books/2', 'https://anapioficeandfire.com/api/books/3'], 'povBooks': [], 'tvSeries': [''], 'playedBy': ['']}\n",
      "-------------------\n",
      "{'url': 'https://anapioficeandfire.com/api/characters/65', 'name': 'Alan', 'gender': 'Male', 'culture': '', 'born': 'In Age of Heroes', 'died': '', 'titles': [''], 'aliases': [\"Alan o' the Oak\", 'The Blind Bowman'], 'father': '', 'mother': '', 'spouse': '', 'allegiances': ['https://anapioficeandfire.com/api/houses/443'], 'books': ['https://anapioficeandfire.com/api/books/11'], 'povBooks': [], 'tvSeries': [''], 'playedBy': ['']}\n",
      "-------------------\n",
      "{'url': 'https://anapioficeandfire.com/api/characters/66', 'name': 'Alannys Harlaw', 'gender': 'Female', 'culture': 'Ironborn', 'born': '', 'died': '', 'titles': ['Queen of the Iron Islands'], 'aliases': ['Lanny'], 'father': '', 'mother': '', 'spouse': 'https://anapioficeandfire.com/api/characters/12', 'allegiances': ['https://anapioficeandfire.com/api/houses/169', 'https://anapioficeandfire.com/api/houses/178'], 'books': ['https://anapioficeandfire.com/api/books/1', 'https://anapioficeandfire.com/api/books/2', 'https://anapioficeandfire.com/api/books/5', 'https://anapioficeandfire.com/api/books/8'], 'povBooks': [], 'tvSeries': [''], 'playedBy': ['']}\n",
      "-------------------\n",
      "{'url': 'https://anapioficeandfire.com/api/characters/67', 'name': 'Albar Royce', 'gender': 'Male', 'culture': '', 'born': '', 'died': '', 'titles': ['Ser'], 'aliases': [''], 'father': '', 'mother': '', 'spouse': '', 'allegiances': ['https://anapioficeandfire.com/api/houses/329'], 'books': ['https://anapioficeandfire.com/api/books/1', 'https://anapioficeandfire.com/api/books/2', 'https://anapioficeandfire.com/api/books/3', 'https://anapioficeandfire.com/api/books/5', 'https://anapioficeandfire.com/api/books/8'], 'povBooks': [], 'tvSeries': [''], 'playedBy': ['']}\n",
      "-------------------\n",
      "{'url': 'https://anapioficeandfire.com/api/characters/68', 'name': 'Alekyne Florent', 'gender': 'Male', 'culture': '', 'born': '', 'died': '', 'titles': ['Lord of Brightwater (attainted)'], 'aliases': [''], 'father': '', 'mother': '', 'spouse': '', 'allegiances': ['https://anapioficeandfire.com/api/houses/133'], 'books': ['https://anapioficeandfire.com/api/books/2', 'https://anapioficeandfire.com/api/books/3', 'https://anapioficeandfire.com/api/books/5'], 'povBooks': [], 'tvSeries': [''], 'playedBy': ['']}\n",
      "-------------------\n",
      "{'url': 'https://anapioficeandfire.com/api/characters/69', 'name': 'Alerie Hightower', 'gender': 'Female', 'culture': '', 'born': 'In or between 257 AC and 263 AC, at Oldtown', 'died': '', 'titles': ['Lady of Highgarden'], 'aliases': [''], 'father': '', 'mother': '', 'spouse': 'https://anapioficeandfire.com/api/characters/691', 'allegiances': ['https://anapioficeandfire.com/api/houses/195', 'https://anapioficeandfire.com/api/houses/398'], 'books': ['https://anapioficeandfire.com/api/books/1', 'https://anapioficeandfire.com/api/books/2', 'https://anapioficeandfire.com/api/books/3', 'https://anapioficeandfire.com/api/books/5', 'https://anapioficeandfire.com/api/books/8'], 'povBooks': [], 'tvSeries': [''], 'playedBy': ['']}\n",
      "-------------------\n",
      "{'url': 'https://anapioficeandfire.com/api/characters/70', 'name': 'Alesander Frey', 'gender': 'Male', 'culture': '', 'born': 'In or between 265 AC and 281 AC', 'died': '', 'titles': [''], 'aliases': [''], 'father': '', 'mother': '', 'spouse': '', 'allegiances': ['https://anapioficeandfire.com/api/houses/143'], 'books': ['https://anapioficeandfire.com/api/books/2', 'https://anapioficeandfire.com/api/books/3', 'https://anapioficeandfire.com/api/books/5'], 'povBooks': [], 'tvSeries': [''], 'playedBy': ['']}\n",
      "-------------------\n",
      "{'url': 'https://anapioficeandfire.com/api/characters/71', 'name': 'Alesander Staedmon', 'gender': 'Male', 'culture': '', 'born': '', 'died': '', 'titles': ['Lord of Broad Arch'], 'aliases': ['the Pennylover'], 'father': '', 'mother': '', 'spouse': '', 'allegiances': ['https://anapioficeandfire.com/api/houses/360'], 'books': ['https://anapioficeandfire.com/api/books/2', 'https://anapioficeandfire.com/api/books/3', 'https://anapioficeandfire.com/api/books/5'], 'povBooks': [], 'tvSeries': [''], 'playedBy': ['']}\n",
      "-------------------\n",
      "{'url': 'https://anapioficeandfire.com/api/characters/72', 'name': 'Alester Florent', 'gender': 'Male', 'culture': '', 'born': 'At Brightwater Keep', 'died': 'In 300 AC, at Dragonstone', 'titles': ['Lord of Brightwater', 'Hand of the King'], 'aliases': [''], 'father': '', 'mother': '', 'spouse': 'https://anapioficeandfire.com/api/characters/738', 'allegiances': ['https://anapioficeandfire.com/api/houses/133'], 'books': ['https://anapioficeandfire.com/api/books/2', 'https://anapioficeandfire.com/api/books/3', 'https://anapioficeandfire.com/api/books/8'], 'povBooks': [], 'tvSeries': [''], 'playedBy': ['']}\n",
      "-------------------\n",
      "{'url': 'https://anapioficeandfire.com/api/characters/73', 'name': 'Alester Norcross', 'gender': 'Male', 'culture': '', 'born': 'In 290 AC or 291 AC', 'died': '', 'titles': [''], 'aliases': [''], 'father': '', 'mother': '', 'spouse': '', 'allegiances': ['https://anapioficeandfire.com/api/houses/281'], 'books': ['https://anapioficeandfire.com/api/books/2', 'https://anapioficeandfire.com/api/books/3', 'https://anapioficeandfire.com/api/books/5'], 'povBooks': [], 'tvSeries': [''], 'playedBy': ['']}\n",
      "-------------------\n",
      "{'url': 'https://anapioficeandfire.com/api/characters/74', 'name': 'Alester Oakheart', 'gender': 'Male', 'culture': '', 'born': '', 'died': \"At Prince's Pass\", 'titles': [''], 'aliases': [''], 'father': '', 'mother': '', 'spouse': '', 'allegiances': ['https://anapioficeandfire.com/api/houses/286'], 'books': ['https://anapioficeandfire.com/api/books/5'], 'povBooks': [], 'tvSeries': [''], 'playedBy': ['']}\n",
      "-------------------\n",
      "{'url': 'https://anapioficeandfire.com/api/characters/75', 'name': 'Alester Tyrell', 'gender': 'Male', 'culture': 'Andal', 'born': '', 'died': '', 'titles': ['Ser'], 'aliases': [''], 'father': '', 'mother': '', 'spouse': '', 'allegiances': ['https://anapioficeandfire.com/api/houses/145', 'https://anapioficeandfire.com/api/houses/398'], 'books': ['https://anapioficeandfire.com/api/books/11'], 'povBooks': [], 'tvSeries': [''], 'playedBy': ['']}\n",
      "-------------------\n",
      "{'url': 'https://anapioficeandfire.com/api/characters/76', 'name': 'Alicent Hightower', 'gender': 'Female', 'culture': '', 'born': 'In 88 AC', 'died': 'In 133 AC', 'titles': ['Lady', 'Queen', 'Dowager Queen'], 'aliases': [''], 'father': '', 'mother': '', 'spouse': 'https://anapioficeandfire.com/api/characters/1076', 'allegiances': ['https://anapioficeandfire.com/api/houses/195', 'https://anapioficeandfire.com/api/houses/378'], 'books': ['https://anapioficeandfire.com/api/books/9', 'https://anapioficeandfire.com/api/books/10', 'https://anapioficeandfire.com/api/books/11'], 'povBooks': [], 'tvSeries': [''], 'playedBy': ['']}\n",
      "-------------------\n"
     ]
    },
    {
     "name": "stdout",
     "output_type": "stream",
     "text": [
      "{'url': 'https://anapioficeandfire.com/api/characters/77', 'name': 'Alla Tyrell', 'gender': 'Female', 'culture': '', 'born': 'In or around 286 AC (roughly)', 'died': '', 'titles': [''], 'aliases': [''], 'father': '', 'mother': '', 'spouse': '', 'allegiances': ['https://anapioficeandfire.com/api/houses/398'], 'books': ['https://anapioficeandfire.com/api/books/3', 'https://anapioficeandfire.com/api/books/5', 'https://anapioficeandfire.com/api/books/8'], 'povBooks': [], 'tvSeries': [''], 'playedBy': ['']}\n",
      "-------------------\n",
      "{'url': 'https://anapioficeandfire.com/api/characters/78', 'name': 'Allar Deem', 'gender': 'Male', 'culture': '', 'born': '', 'died': 'In 299 AC, at The Narrow Sea', 'titles': [''], 'aliases': [''], 'father': '', 'mother': '', 'spouse': '', 'allegiances': [], 'books': ['https://anapioficeandfire.com/api/books/2', 'https://anapioficeandfire.com/api/books/3'], 'povBooks': [], 'tvSeries': [''], 'playedBy': ['']}\n",
      "-------------------\n",
      "{'url': 'https://anapioficeandfire.com/api/characters/79', 'name': 'Alliser Thorne', 'gender': 'Male', 'culture': '', 'born': 'In 248 AC (roughly)', 'died': '', 'titles': ['Ser'], 'aliases': [''], 'father': '', 'mother': '', 'spouse': '', 'allegiances': ['https://anapioficeandfire.com/api/houses/386'], 'books': ['https://anapioficeandfire.com/api/books/1', 'https://anapioficeandfire.com/api/books/2', 'https://anapioficeandfire.com/api/books/3', 'https://anapioficeandfire.com/api/books/5', 'https://anapioficeandfire.com/api/books/8'], 'povBooks': [], 'tvSeries': ['Season 1', 'Season 4', 'Season 5', 'Season 6'], 'playedBy': ['Owen Teale']}\n",
      "-------------------\n",
      "{'url': 'https://anapioficeandfire.com/api/characters/80', 'name': 'Allyria Dayne', 'gender': 'Female', 'culture': '', 'born': '', 'died': '', 'titles': [''], 'aliases': [''], 'father': '', 'mother': '', 'spouse': '', 'allegiances': ['https://anapioficeandfire.com/api/houses/99'], 'books': ['https://anapioficeandfire.com/api/books/3'], 'povBooks': [], 'tvSeries': [''], 'playedBy': ['']}\n",
      "-------------------\n",
      "{'url': 'https://anapioficeandfire.com/api/characters/81', 'name': 'Alyce Graceford', 'gender': 'Female', 'culture': '', 'born': '', 'died': '', 'titles': ['Lady'], 'aliases': [''], 'father': '', 'mother': '', 'spouse': '', 'allegiances': ['https://anapioficeandfire.com/api/houses/159'], 'books': ['https://anapioficeandfire.com/api/books/3', 'https://anapioficeandfire.com/api/books/5', 'https://anapioficeandfire.com/api/books/8'], 'povBooks': [], 'tvSeries': [''], 'playedBy': ['']}\n",
      "-------------------\n",
      "{'url': 'https://anapioficeandfire.com/api/characters/82', 'name': 'Alyn Ambrose', 'gender': 'Male', 'culture': '', 'born': '', 'died': '', 'titles': [''], 'aliases': [''], 'father': '', 'mother': '', 'spouse': '', 'allegiances': ['https://anapioficeandfire.com/api/houses/4'], 'books': ['https://anapioficeandfire.com/api/books/2', 'https://anapioficeandfire.com/api/books/3', 'https://anapioficeandfire.com/api/books/5', 'https://anapioficeandfire.com/api/books/8'], 'povBooks': [], 'tvSeries': [''], 'playedBy': ['']}\n",
      "-------------------\n",
      "{'url': 'https://anapioficeandfire.com/api/characters/83', 'name': 'Alyn Cockshaw', 'gender': 'Male', 'culture': '', 'born': '', 'died': 'In 211 AC, at Whitewalls', 'titles': ['Lord'], 'aliases': [''], 'father': '', 'mother': '', 'spouse': '', 'allegiances': ['https://anapioficeandfire.com/api/houses/23', 'https://anapioficeandfire.com/api/houses/74'], 'books': ['https://anapioficeandfire.com/api/books/7', 'https://anapioficeandfire.com/api/books/11'], 'povBooks': [], 'tvSeries': [''], 'playedBy': ['']}\n",
      "-------------------\n",
      "{'url': 'https://anapioficeandfire.com/api/characters/84', 'name': 'Alyn Connington', 'gender': 'Male', 'culture': '', 'born': '', 'died': '', 'titles': ['Ser', 'Lord Commander of the Kingsguard'], 'aliases': ['The Pale Griffin'], 'father': '', 'mother': '', 'spouse': '', 'allegiances': ['https://anapioficeandfire.com/api/houses/80'], 'books': ['https://anapioficeandfire.com/api/books/3', 'https://anapioficeandfire.com/api/books/5'], 'povBooks': [], 'tvSeries': [''], 'playedBy': ['']}\n",
      "-------------------\n",
      "{'url': 'https://anapioficeandfire.com/api/characters/85', 'name': 'Alyn Estermont', 'gender': 'Male', 'culture': 'Stormlands', 'born': '', 'died': '', 'titles': ['Ser'], 'aliases': [''], 'father': '', 'mother': '', 'spouse': '', 'allegiances': ['https://anapioficeandfire.com/api/houses/117'], 'books': ['https://anapioficeandfire.com/api/books/2', 'https://anapioficeandfire.com/api/books/3', 'https://anapioficeandfire.com/api/books/5', 'https://anapioficeandfire.com/api/books/8'], 'povBooks': [], 'tvSeries': [''], 'playedBy': ['']}\n",
      "-------------------\n",
      "{'url': 'https://anapioficeandfire.com/api/characters/86', 'name': 'Alyn Frey', 'gender': 'Male', 'culture': '', 'born': 'In 295 AC or 296 AC', 'died': '', 'titles': [''], 'aliases': [''], 'father': '', 'mother': '', 'spouse': '', 'allegiances': ['https://anapioficeandfire.com/api/houses/143'], 'books': ['https://anapioficeandfire.com/api/books/2', 'https://anapioficeandfire.com/api/books/3', 'https://anapioficeandfire.com/api/books/5'], 'povBooks': [], 'tvSeries': [''], 'playedBy': ['']}\n",
      "-------------------\n",
      "{'url': 'https://anapioficeandfire.com/api/characters/87', 'name': 'Alyn Haigh', 'gender': 'Male', 'culture': '', 'born': 'In or between 256 AC or 291 AC', 'died': '', 'titles': [''], 'aliases': [''], 'father': '', 'mother': '', 'spouse': '', 'allegiances': ['https://anapioficeandfire.com/api/houses/172'], 'books': ['https://anapioficeandfire.com/api/books/2', 'https://anapioficeandfire.com/api/books/3', 'https://anapioficeandfire.com/api/books/5'], 'povBooks': [], 'tvSeries': [''], 'playedBy': ['']}\n",
      "-------------------\n"
     ]
    },
    {
     "ename": "KeyboardInterrupt",
     "evalue": "",
     "output_type": "error",
     "traceback": [
      "\u001b[0;31m---------------------------------------------------------------------------\u001b[0m",
      "\u001b[0;31mTypeError\u001b[0m                                 Traceback (most recent call last)",
      "\u001b[0;32m~/anaconda3/lib/python3.7/site-packages/urllib3/connectionpool.py\u001b[0m in \u001b[0;36m_make_request\u001b[0;34m(self, conn, method, url, timeout, chunked, **httplib_request_kw)\u001b[0m\n\u001b[1;32m    376\u001b[0m             \u001b[0;32mtry\u001b[0m\u001b[0;34m:\u001b[0m  \u001b[0;31m# Python 2.7, use buffering of HTTP responses\u001b[0m\u001b[0;34m\u001b[0m\u001b[0;34m\u001b[0m\u001b[0m\n\u001b[0;32m--> 377\u001b[0;31m                 \u001b[0mhttplib_response\u001b[0m \u001b[0;34m=\u001b[0m \u001b[0mconn\u001b[0m\u001b[0;34m.\u001b[0m\u001b[0mgetresponse\u001b[0m\u001b[0;34m(\u001b[0m\u001b[0mbuffering\u001b[0m\u001b[0;34m=\u001b[0m\u001b[0;32mTrue\u001b[0m\u001b[0;34m)\u001b[0m\u001b[0;34m\u001b[0m\u001b[0;34m\u001b[0m\u001b[0m\n\u001b[0m\u001b[1;32m    378\u001b[0m             \u001b[0;32mexcept\u001b[0m \u001b[0mTypeError\u001b[0m\u001b[0;34m:\u001b[0m  \u001b[0;31m# Python 3\u001b[0m\u001b[0;34m\u001b[0m\u001b[0;34m\u001b[0m\u001b[0m\n",
      "\u001b[0;31mTypeError\u001b[0m: getresponse() got an unexpected keyword argument 'buffering'",
      "\nDuring handling of the above exception, another exception occurred:\n",
      "\u001b[0;31mKeyboardInterrupt\u001b[0m                         Traceback (most recent call last)",
      "\u001b[0;32m<ipython-input-9-5d76a2ff8358>\u001b[0m in \u001b[0;36m<module>\u001b[0;34m\u001b[0m\n\u001b[1;32m      1\u001b[0m \u001b[0;32mfor\u001b[0m \u001b[0mi\u001b[0m \u001b[0;32min\u001b[0m \u001b[0mlist\u001b[0m\u001b[0;34m(\u001b[0m\u001b[0mrange\u001b[0m\u001b[0;34m(\u001b[0m\u001b[0;36m1\u001b[0m\u001b[0;34m,\u001b[0m\u001b[0;36m400\u001b[0m\u001b[0;34m)\u001b[0m\u001b[0;34m)\u001b[0m\u001b[0;34m:\u001b[0m\u001b[0;34m\u001b[0m\u001b[0;34m\u001b[0m\u001b[0m\n\u001b[1;32m      2\u001b[0m     \u001b[0mtempURL\u001b[0m \u001b[0;34m=\u001b[0m \u001b[0;34m'https://anapioficeandfire.com/api/characters/'\u001b[0m \u001b[0;34m+\u001b[0m \u001b[0mstr\u001b[0m\u001b[0;34m(\u001b[0m\u001b[0mi\u001b[0m\u001b[0;34m)\u001b[0m\u001b[0;34m\u001b[0m\u001b[0;34m\u001b[0m\u001b[0m\n\u001b[0;32m----> 3\u001b[0;31m     \u001b[0mresponse\u001b[0m \u001b[0;34m=\u001b[0m \u001b[0mrequests\u001b[0m\u001b[0;34m.\u001b[0m\u001b[0mget\u001b[0m\u001b[0;34m(\u001b[0m\u001b[0mtempURL\u001b[0m\u001b[0;34m)\u001b[0m\u001b[0;34m.\u001b[0m\u001b[0mjson\u001b[0m\u001b[0;34m(\u001b[0m\u001b[0;34m)\u001b[0m\u001b[0;34m\u001b[0m\u001b[0;34m\u001b[0m\u001b[0m\n\u001b[0m\u001b[1;32m      4\u001b[0m     \u001b[0mprint\u001b[0m\u001b[0;34m(\u001b[0m\u001b[0mresponse\u001b[0m\u001b[0;34m)\u001b[0m\u001b[0;34m\u001b[0m\u001b[0;34m\u001b[0m\u001b[0m\n\u001b[1;32m      5\u001b[0m     \u001b[0mprint\u001b[0m\u001b[0;34m(\u001b[0m\u001b[0;34m'-------------------'\u001b[0m\u001b[0;34m)\u001b[0m\u001b[0;34m\u001b[0m\u001b[0;34m\u001b[0m\u001b[0m\n",
      "\u001b[0;32m~/anaconda3/lib/python3.7/site-packages/requests/api.py\u001b[0m in \u001b[0;36mget\u001b[0;34m(url, params, **kwargs)\u001b[0m\n\u001b[1;32m     73\u001b[0m \u001b[0;34m\u001b[0m\u001b[0m\n\u001b[1;32m     74\u001b[0m     \u001b[0mkwargs\u001b[0m\u001b[0;34m.\u001b[0m\u001b[0msetdefault\u001b[0m\u001b[0;34m(\u001b[0m\u001b[0;34m'allow_redirects'\u001b[0m\u001b[0;34m,\u001b[0m \u001b[0;32mTrue\u001b[0m\u001b[0;34m)\u001b[0m\u001b[0;34m\u001b[0m\u001b[0;34m\u001b[0m\u001b[0m\n\u001b[0;32m---> 75\u001b[0;31m     \u001b[0;32mreturn\u001b[0m \u001b[0mrequest\u001b[0m\u001b[0;34m(\u001b[0m\u001b[0;34m'get'\u001b[0m\u001b[0;34m,\u001b[0m \u001b[0murl\u001b[0m\u001b[0;34m,\u001b[0m \u001b[0mparams\u001b[0m\u001b[0;34m=\u001b[0m\u001b[0mparams\u001b[0m\u001b[0;34m,\u001b[0m \u001b[0;34m**\u001b[0m\u001b[0mkwargs\u001b[0m\u001b[0;34m)\u001b[0m\u001b[0;34m\u001b[0m\u001b[0;34m\u001b[0m\u001b[0m\n\u001b[0m\u001b[1;32m     76\u001b[0m \u001b[0;34m\u001b[0m\u001b[0m\n\u001b[1;32m     77\u001b[0m \u001b[0;34m\u001b[0m\u001b[0m\n",
      "\u001b[0;32m~/anaconda3/lib/python3.7/site-packages/requests/api.py\u001b[0m in \u001b[0;36mrequest\u001b[0;34m(method, url, **kwargs)\u001b[0m\n\u001b[1;32m     58\u001b[0m     \u001b[0;31m# cases, and look like a memory leak in others.\u001b[0m\u001b[0;34m\u001b[0m\u001b[0;34m\u001b[0m\u001b[0;34m\u001b[0m\u001b[0m\n\u001b[1;32m     59\u001b[0m     \u001b[0;32mwith\u001b[0m \u001b[0msessions\u001b[0m\u001b[0;34m.\u001b[0m\u001b[0mSession\u001b[0m\u001b[0;34m(\u001b[0m\u001b[0;34m)\u001b[0m \u001b[0;32mas\u001b[0m \u001b[0msession\u001b[0m\u001b[0;34m:\u001b[0m\u001b[0;34m\u001b[0m\u001b[0;34m\u001b[0m\u001b[0m\n\u001b[0;32m---> 60\u001b[0;31m         \u001b[0;32mreturn\u001b[0m \u001b[0msession\u001b[0m\u001b[0;34m.\u001b[0m\u001b[0mrequest\u001b[0m\u001b[0;34m(\u001b[0m\u001b[0mmethod\u001b[0m\u001b[0;34m=\u001b[0m\u001b[0mmethod\u001b[0m\u001b[0;34m,\u001b[0m \u001b[0murl\u001b[0m\u001b[0;34m=\u001b[0m\u001b[0murl\u001b[0m\u001b[0;34m,\u001b[0m \u001b[0;34m**\u001b[0m\u001b[0mkwargs\u001b[0m\u001b[0;34m)\u001b[0m\u001b[0;34m\u001b[0m\u001b[0;34m\u001b[0m\u001b[0m\n\u001b[0m\u001b[1;32m     61\u001b[0m \u001b[0;34m\u001b[0m\u001b[0m\n\u001b[1;32m     62\u001b[0m \u001b[0;34m\u001b[0m\u001b[0m\n",
      "\u001b[0;32m~/anaconda3/lib/python3.7/site-packages/requests/sessions.py\u001b[0m in \u001b[0;36mrequest\u001b[0;34m(self, method, url, params, data, headers, cookies, files, auth, timeout, allow_redirects, proxies, hooks, stream, verify, cert, json)\u001b[0m\n\u001b[1;32m    531\u001b[0m         }\n\u001b[1;32m    532\u001b[0m         \u001b[0msend_kwargs\u001b[0m\u001b[0;34m.\u001b[0m\u001b[0mupdate\u001b[0m\u001b[0;34m(\u001b[0m\u001b[0msettings\u001b[0m\u001b[0;34m)\u001b[0m\u001b[0;34m\u001b[0m\u001b[0;34m\u001b[0m\u001b[0m\n\u001b[0;32m--> 533\u001b[0;31m         \u001b[0mresp\u001b[0m \u001b[0;34m=\u001b[0m \u001b[0mself\u001b[0m\u001b[0;34m.\u001b[0m\u001b[0msend\u001b[0m\u001b[0;34m(\u001b[0m\u001b[0mprep\u001b[0m\u001b[0;34m,\u001b[0m \u001b[0;34m**\u001b[0m\u001b[0msend_kwargs\u001b[0m\u001b[0;34m)\u001b[0m\u001b[0;34m\u001b[0m\u001b[0;34m\u001b[0m\u001b[0m\n\u001b[0m\u001b[1;32m    534\u001b[0m \u001b[0;34m\u001b[0m\u001b[0m\n\u001b[1;32m    535\u001b[0m         \u001b[0;32mreturn\u001b[0m \u001b[0mresp\u001b[0m\u001b[0;34m\u001b[0m\u001b[0;34m\u001b[0m\u001b[0m\n",
      "\u001b[0;32m~/anaconda3/lib/python3.7/site-packages/requests/sessions.py\u001b[0m in \u001b[0;36msend\u001b[0;34m(self, request, **kwargs)\u001b[0m\n\u001b[1;32m    644\u001b[0m \u001b[0;34m\u001b[0m\u001b[0m\n\u001b[1;32m    645\u001b[0m         \u001b[0;31m# Send the request\u001b[0m\u001b[0;34m\u001b[0m\u001b[0;34m\u001b[0m\u001b[0;34m\u001b[0m\u001b[0m\n\u001b[0;32m--> 646\u001b[0;31m         \u001b[0mr\u001b[0m \u001b[0;34m=\u001b[0m \u001b[0madapter\u001b[0m\u001b[0;34m.\u001b[0m\u001b[0msend\u001b[0m\u001b[0;34m(\u001b[0m\u001b[0mrequest\u001b[0m\u001b[0;34m,\u001b[0m \u001b[0;34m**\u001b[0m\u001b[0mkwargs\u001b[0m\u001b[0;34m)\u001b[0m\u001b[0;34m\u001b[0m\u001b[0;34m\u001b[0m\u001b[0m\n\u001b[0m\u001b[1;32m    647\u001b[0m \u001b[0;34m\u001b[0m\u001b[0m\n\u001b[1;32m    648\u001b[0m         \u001b[0;31m# Total elapsed time of the request (approximately)\u001b[0m\u001b[0;34m\u001b[0m\u001b[0;34m\u001b[0m\u001b[0;34m\u001b[0m\u001b[0m\n",
      "\u001b[0;32m~/anaconda3/lib/python3.7/site-packages/requests/adapters.py\u001b[0m in \u001b[0;36msend\u001b[0;34m(self, request, stream, timeout, verify, cert, proxies)\u001b[0m\n\u001b[1;32m    447\u001b[0m                     \u001b[0mdecode_content\u001b[0m\u001b[0;34m=\u001b[0m\u001b[0;32mFalse\u001b[0m\u001b[0;34m,\u001b[0m\u001b[0;34m\u001b[0m\u001b[0;34m\u001b[0m\u001b[0m\n\u001b[1;32m    448\u001b[0m                     \u001b[0mretries\u001b[0m\u001b[0;34m=\u001b[0m\u001b[0mself\u001b[0m\u001b[0;34m.\u001b[0m\u001b[0mmax_retries\u001b[0m\u001b[0;34m,\u001b[0m\u001b[0;34m\u001b[0m\u001b[0;34m\u001b[0m\u001b[0m\n\u001b[0;32m--> 449\u001b[0;31m                     \u001b[0mtimeout\u001b[0m\u001b[0;34m=\u001b[0m\u001b[0mtimeout\u001b[0m\u001b[0;34m\u001b[0m\u001b[0;34m\u001b[0m\u001b[0m\n\u001b[0m\u001b[1;32m    450\u001b[0m                 )\n\u001b[1;32m    451\u001b[0m \u001b[0;34m\u001b[0m\u001b[0m\n",
      "\u001b[0;32m~/anaconda3/lib/python3.7/site-packages/urllib3/connectionpool.py\u001b[0m in \u001b[0;36murlopen\u001b[0;34m(self, method, url, body, headers, retries, redirect, assert_same_host, timeout, pool_timeout, release_conn, chunked, body_pos, **response_kw)\u001b[0m\n\u001b[1;32m    598\u001b[0m                                                   \u001b[0mtimeout\u001b[0m\u001b[0;34m=\u001b[0m\u001b[0mtimeout_obj\u001b[0m\u001b[0;34m,\u001b[0m\u001b[0;34m\u001b[0m\u001b[0;34m\u001b[0m\u001b[0m\n\u001b[1;32m    599\u001b[0m                                                   \u001b[0mbody\u001b[0m\u001b[0;34m=\u001b[0m\u001b[0mbody\u001b[0m\u001b[0;34m,\u001b[0m \u001b[0mheaders\u001b[0m\u001b[0;34m=\u001b[0m\u001b[0mheaders\u001b[0m\u001b[0;34m,\u001b[0m\u001b[0;34m\u001b[0m\u001b[0;34m\u001b[0m\u001b[0m\n\u001b[0;32m--> 600\u001b[0;31m                                                   chunked=chunked)\n\u001b[0m\u001b[1;32m    601\u001b[0m \u001b[0;34m\u001b[0m\u001b[0m\n\u001b[1;32m    602\u001b[0m             \u001b[0;31m# If we're going to release the connection in ``finally:``, then\u001b[0m\u001b[0;34m\u001b[0m\u001b[0;34m\u001b[0m\u001b[0;34m\u001b[0m\u001b[0m\n",
      "\u001b[0;32m~/anaconda3/lib/python3.7/site-packages/urllib3/connectionpool.py\u001b[0m in \u001b[0;36m_make_request\u001b[0;34m(self, conn, method, url, timeout, chunked, **httplib_request_kw)\u001b[0m\n\u001b[1;32m    378\u001b[0m             \u001b[0;32mexcept\u001b[0m \u001b[0mTypeError\u001b[0m\u001b[0;34m:\u001b[0m  \u001b[0;31m# Python 3\u001b[0m\u001b[0;34m\u001b[0m\u001b[0;34m\u001b[0m\u001b[0m\n\u001b[1;32m    379\u001b[0m                 \u001b[0;32mtry\u001b[0m\u001b[0;34m:\u001b[0m\u001b[0;34m\u001b[0m\u001b[0;34m\u001b[0m\u001b[0m\n\u001b[0;32m--> 380\u001b[0;31m                     \u001b[0mhttplib_response\u001b[0m \u001b[0;34m=\u001b[0m \u001b[0mconn\u001b[0m\u001b[0;34m.\u001b[0m\u001b[0mgetresponse\u001b[0m\u001b[0;34m(\u001b[0m\u001b[0;34m)\u001b[0m\u001b[0;34m\u001b[0m\u001b[0;34m\u001b[0m\u001b[0m\n\u001b[0m\u001b[1;32m    381\u001b[0m                 \u001b[0;32mexcept\u001b[0m \u001b[0mException\u001b[0m \u001b[0;32mas\u001b[0m \u001b[0me\u001b[0m\u001b[0;34m:\u001b[0m\u001b[0;34m\u001b[0m\u001b[0;34m\u001b[0m\u001b[0m\n\u001b[1;32m    382\u001b[0m                     \u001b[0;31m# Remove the TypeError from the exception chain in Python 3;\u001b[0m\u001b[0;34m\u001b[0m\u001b[0;34m\u001b[0m\u001b[0;34m\u001b[0m\u001b[0m\n",
      "\u001b[0;32m~/anaconda3/lib/python3.7/http/client.py\u001b[0m in \u001b[0;36mgetresponse\u001b[0;34m(self)\u001b[0m\n\u001b[1;32m   1319\u001b[0m         \u001b[0;32mtry\u001b[0m\u001b[0;34m:\u001b[0m\u001b[0;34m\u001b[0m\u001b[0;34m\u001b[0m\u001b[0m\n\u001b[1;32m   1320\u001b[0m             \u001b[0;32mtry\u001b[0m\u001b[0;34m:\u001b[0m\u001b[0;34m\u001b[0m\u001b[0;34m\u001b[0m\u001b[0m\n\u001b[0;32m-> 1321\u001b[0;31m                 \u001b[0mresponse\u001b[0m\u001b[0;34m.\u001b[0m\u001b[0mbegin\u001b[0m\u001b[0;34m(\u001b[0m\u001b[0;34m)\u001b[0m\u001b[0;34m\u001b[0m\u001b[0;34m\u001b[0m\u001b[0m\n\u001b[0m\u001b[1;32m   1322\u001b[0m             \u001b[0;32mexcept\u001b[0m \u001b[0mConnectionError\u001b[0m\u001b[0;34m:\u001b[0m\u001b[0;34m\u001b[0m\u001b[0;34m\u001b[0m\u001b[0m\n\u001b[1;32m   1323\u001b[0m                 \u001b[0mself\u001b[0m\u001b[0;34m.\u001b[0m\u001b[0mclose\u001b[0m\u001b[0;34m(\u001b[0m\u001b[0;34m)\u001b[0m\u001b[0;34m\u001b[0m\u001b[0;34m\u001b[0m\u001b[0m\n",
      "\u001b[0;32m~/anaconda3/lib/python3.7/http/client.py\u001b[0m in \u001b[0;36mbegin\u001b[0;34m(self)\u001b[0m\n\u001b[1;32m    294\u001b[0m         \u001b[0;31m# read until we get a non-100 response\u001b[0m\u001b[0;34m\u001b[0m\u001b[0;34m\u001b[0m\u001b[0;34m\u001b[0m\u001b[0m\n\u001b[1;32m    295\u001b[0m         \u001b[0;32mwhile\u001b[0m \u001b[0;32mTrue\u001b[0m\u001b[0;34m:\u001b[0m\u001b[0;34m\u001b[0m\u001b[0;34m\u001b[0m\u001b[0m\n\u001b[0;32m--> 296\u001b[0;31m             \u001b[0mversion\u001b[0m\u001b[0;34m,\u001b[0m \u001b[0mstatus\u001b[0m\u001b[0;34m,\u001b[0m \u001b[0mreason\u001b[0m \u001b[0;34m=\u001b[0m \u001b[0mself\u001b[0m\u001b[0;34m.\u001b[0m\u001b[0m_read_status\u001b[0m\u001b[0;34m(\u001b[0m\u001b[0;34m)\u001b[0m\u001b[0;34m\u001b[0m\u001b[0;34m\u001b[0m\u001b[0m\n\u001b[0m\u001b[1;32m    297\u001b[0m             \u001b[0;32mif\u001b[0m \u001b[0mstatus\u001b[0m \u001b[0;34m!=\u001b[0m \u001b[0mCONTINUE\u001b[0m\u001b[0;34m:\u001b[0m\u001b[0;34m\u001b[0m\u001b[0;34m\u001b[0m\u001b[0m\n\u001b[1;32m    298\u001b[0m                 \u001b[0;32mbreak\u001b[0m\u001b[0;34m\u001b[0m\u001b[0;34m\u001b[0m\u001b[0m\n",
      "\u001b[0;32m~/anaconda3/lib/python3.7/http/client.py\u001b[0m in \u001b[0;36m_read_status\u001b[0;34m(self)\u001b[0m\n\u001b[1;32m    255\u001b[0m \u001b[0;34m\u001b[0m\u001b[0m\n\u001b[1;32m    256\u001b[0m     \u001b[0;32mdef\u001b[0m \u001b[0m_read_status\u001b[0m\u001b[0;34m(\u001b[0m\u001b[0mself\u001b[0m\u001b[0;34m)\u001b[0m\u001b[0;34m:\u001b[0m\u001b[0;34m\u001b[0m\u001b[0;34m\u001b[0m\u001b[0m\n\u001b[0;32m--> 257\u001b[0;31m         \u001b[0mline\u001b[0m \u001b[0;34m=\u001b[0m \u001b[0mstr\u001b[0m\u001b[0;34m(\u001b[0m\u001b[0mself\u001b[0m\u001b[0;34m.\u001b[0m\u001b[0mfp\u001b[0m\u001b[0;34m.\u001b[0m\u001b[0mreadline\u001b[0m\u001b[0;34m(\u001b[0m\u001b[0m_MAXLINE\u001b[0m \u001b[0;34m+\u001b[0m \u001b[0;36m1\u001b[0m\u001b[0;34m)\u001b[0m\u001b[0;34m,\u001b[0m \u001b[0;34m\"iso-8859-1\"\u001b[0m\u001b[0;34m)\u001b[0m\u001b[0;34m\u001b[0m\u001b[0;34m\u001b[0m\u001b[0m\n\u001b[0m\u001b[1;32m    258\u001b[0m         \u001b[0;32mif\u001b[0m \u001b[0mlen\u001b[0m\u001b[0;34m(\u001b[0m\u001b[0mline\u001b[0m\u001b[0;34m)\u001b[0m \u001b[0;34m>\u001b[0m \u001b[0m_MAXLINE\u001b[0m\u001b[0;34m:\u001b[0m\u001b[0;34m\u001b[0m\u001b[0;34m\u001b[0m\u001b[0m\n\u001b[1;32m    259\u001b[0m             \u001b[0;32mraise\u001b[0m \u001b[0mLineTooLong\u001b[0m\u001b[0;34m(\u001b[0m\u001b[0;34m\"status line\"\u001b[0m\u001b[0;34m)\u001b[0m\u001b[0;34m\u001b[0m\u001b[0;34m\u001b[0m\u001b[0m\n",
      "\u001b[0;32m~/anaconda3/lib/python3.7/socket.py\u001b[0m in \u001b[0;36mreadinto\u001b[0;34m(self, b)\u001b[0m\n\u001b[1;32m    587\u001b[0m         \u001b[0;32mwhile\u001b[0m \u001b[0;32mTrue\u001b[0m\u001b[0;34m:\u001b[0m\u001b[0;34m\u001b[0m\u001b[0;34m\u001b[0m\u001b[0m\n\u001b[1;32m    588\u001b[0m             \u001b[0;32mtry\u001b[0m\u001b[0;34m:\u001b[0m\u001b[0;34m\u001b[0m\u001b[0;34m\u001b[0m\u001b[0m\n\u001b[0;32m--> 589\u001b[0;31m                 \u001b[0;32mreturn\u001b[0m \u001b[0mself\u001b[0m\u001b[0;34m.\u001b[0m\u001b[0m_sock\u001b[0m\u001b[0;34m.\u001b[0m\u001b[0mrecv_into\u001b[0m\u001b[0;34m(\u001b[0m\u001b[0mb\u001b[0m\u001b[0;34m)\u001b[0m\u001b[0;34m\u001b[0m\u001b[0;34m\u001b[0m\u001b[0m\n\u001b[0m\u001b[1;32m    590\u001b[0m             \u001b[0;32mexcept\u001b[0m \u001b[0mtimeout\u001b[0m\u001b[0;34m:\u001b[0m\u001b[0;34m\u001b[0m\u001b[0;34m\u001b[0m\u001b[0m\n\u001b[1;32m    591\u001b[0m                 \u001b[0mself\u001b[0m\u001b[0;34m.\u001b[0m\u001b[0m_timeout_occurred\u001b[0m \u001b[0;34m=\u001b[0m \u001b[0;32mTrue\u001b[0m\u001b[0;34m\u001b[0m\u001b[0;34m\u001b[0m\u001b[0m\n",
      "\u001b[0;32m~/anaconda3/lib/python3.7/site-packages/urllib3/contrib/pyopenssl.py\u001b[0m in \u001b[0;36mrecv_into\u001b[0;34m(self, *args, **kwargs)\u001b[0m\n\u001b[1;32m    292\u001b[0m     \u001b[0;32mdef\u001b[0m \u001b[0mrecv_into\u001b[0m\u001b[0;34m(\u001b[0m\u001b[0mself\u001b[0m\u001b[0;34m,\u001b[0m \u001b[0;34m*\u001b[0m\u001b[0margs\u001b[0m\u001b[0;34m,\u001b[0m \u001b[0;34m**\u001b[0m\u001b[0mkwargs\u001b[0m\u001b[0;34m)\u001b[0m\u001b[0;34m:\u001b[0m\u001b[0;34m\u001b[0m\u001b[0;34m\u001b[0m\u001b[0m\n\u001b[1;32m    293\u001b[0m         \u001b[0;32mtry\u001b[0m\u001b[0;34m:\u001b[0m\u001b[0;34m\u001b[0m\u001b[0;34m\u001b[0m\u001b[0m\n\u001b[0;32m--> 294\u001b[0;31m             \u001b[0;32mreturn\u001b[0m \u001b[0mself\u001b[0m\u001b[0;34m.\u001b[0m\u001b[0mconnection\u001b[0m\u001b[0;34m.\u001b[0m\u001b[0mrecv_into\u001b[0m\u001b[0;34m(\u001b[0m\u001b[0;34m*\u001b[0m\u001b[0margs\u001b[0m\u001b[0;34m,\u001b[0m \u001b[0;34m**\u001b[0m\u001b[0mkwargs\u001b[0m\u001b[0;34m)\u001b[0m\u001b[0;34m\u001b[0m\u001b[0;34m\u001b[0m\u001b[0m\n\u001b[0m\u001b[1;32m    295\u001b[0m         \u001b[0;32mexcept\u001b[0m \u001b[0mOpenSSL\u001b[0m\u001b[0;34m.\u001b[0m\u001b[0mSSL\u001b[0m\u001b[0;34m.\u001b[0m\u001b[0mSysCallError\u001b[0m \u001b[0;32mas\u001b[0m \u001b[0me\u001b[0m\u001b[0;34m:\u001b[0m\u001b[0;34m\u001b[0m\u001b[0;34m\u001b[0m\u001b[0m\n\u001b[1;32m    296\u001b[0m             \u001b[0;32mif\u001b[0m \u001b[0mself\u001b[0m\u001b[0;34m.\u001b[0m\u001b[0msuppress_ragged_eofs\u001b[0m \u001b[0;32mand\u001b[0m \u001b[0me\u001b[0m\u001b[0;34m.\u001b[0m\u001b[0margs\u001b[0m \u001b[0;34m==\u001b[0m \u001b[0;34m(\u001b[0m\u001b[0;34m-\u001b[0m\u001b[0;36m1\u001b[0m\u001b[0;34m,\u001b[0m \u001b[0;34m'Unexpected EOF'\u001b[0m\u001b[0;34m)\u001b[0m\u001b[0;34m:\u001b[0m\u001b[0;34m\u001b[0m\u001b[0;34m\u001b[0m\u001b[0m\n",
      "\u001b[0;32m~/anaconda3/lib/python3.7/site-packages/OpenSSL/SSL.py\u001b[0m in \u001b[0;36mrecv_into\u001b[0;34m(self, buffer, nbytes, flags)\u001b[0m\n\u001b[1;32m   1811\u001b[0m             \u001b[0mresult\u001b[0m \u001b[0;34m=\u001b[0m \u001b[0m_lib\u001b[0m\u001b[0;34m.\u001b[0m\u001b[0mSSL_peek\u001b[0m\u001b[0;34m(\u001b[0m\u001b[0mself\u001b[0m\u001b[0;34m.\u001b[0m\u001b[0m_ssl\u001b[0m\u001b[0;34m,\u001b[0m \u001b[0mbuf\u001b[0m\u001b[0;34m,\u001b[0m \u001b[0mnbytes\u001b[0m\u001b[0;34m)\u001b[0m\u001b[0;34m\u001b[0m\u001b[0;34m\u001b[0m\u001b[0m\n\u001b[1;32m   1812\u001b[0m         \u001b[0;32melse\u001b[0m\u001b[0;34m:\u001b[0m\u001b[0;34m\u001b[0m\u001b[0;34m\u001b[0m\u001b[0m\n\u001b[0;32m-> 1813\u001b[0;31m             \u001b[0mresult\u001b[0m \u001b[0;34m=\u001b[0m \u001b[0m_lib\u001b[0m\u001b[0;34m.\u001b[0m\u001b[0mSSL_read\u001b[0m\u001b[0;34m(\u001b[0m\u001b[0mself\u001b[0m\u001b[0;34m.\u001b[0m\u001b[0m_ssl\u001b[0m\u001b[0;34m,\u001b[0m \u001b[0mbuf\u001b[0m\u001b[0;34m,\u001b[0m \u001b[0mnbytes\u001b[0m\u001b[0;34m)\u001b[0m\u001b[0;34m\u001b[0m\u001b[0;34m\u001b[0m\u001b[0m\n\u001b[0m\u001b[1;32m   1814\u001b[0m         \u001b[0mself\u001b[0m\u001b[0;34m.\u001b[0m\u001b[0m_raise_ssl_error\u001b[0m\u001b[0;34m(\u001b[0m\u001b[0mself\u001b[0m\u001b[0;34m.\u001b[0m\u001b[0m_ssl\u001b[0m\u001b[0;34m,\u001b[0m \u001b[0mresult\u001b[0m\u001b[0;34m)\u001b[0m\u001b[0;34m\u001b[0m\u001b[0;34m\u001b[0m\u001b[0m\n\u001b[1;32m   1815\u001b[0m \u001b[0;34m\u001b[0m\u001b[0m\n",
      "\u001b[0;31mKeyboardInterrupt\u001b[0m: "
     ]
    }
   ],
   "source": [
    "for i in list(range(1,400)):\n",
    "    tempURL = 'https://anapioficeandfire.com/api/characters/' + str(i)\n",
    "    response = requests.get(tempURL).json()\n",
    "    print(response)\n",
    "    print('-------------------')"
   ]
  },
  {
   "cell_type": "code",
   "execution_count": null,
   "metadata": {},
   "outputs": [],
   "source": []
  },
  {
   "cell_type": "code",
   "execution_count": null,
   "metadata": {},
   "outputs": [],
   "source": [
    "#-----------------------------------source1-----------------------------------"
   ]
  },
  {
   "cell_type": "code",
   "execution_count": 29,
   "metadata": {},
   "outputs": [],
   "source": [
    "# sys.argv[1] is the content you typed in the command line\n",
    "if sys.argv[1] == 'source1':\n",
    "    print('\\n')\n",
    "    print('*** Outputing data source 1 *** ')\n",
    "    print('\\n')\n",
    "    url = 'http://api.cfl.ca/v1/games/2015?key=T8Mv9BRDdcB7bMQUsQvHqtCGPewH5y8p'\n",
    "    print('Official JSON API providing real-time league, team and player statistics about the CFL .\\n')\n",
    "    print('we are grabbing the game id and the date to start. \\n')\n",
    "    print('URL:')\n",
    "    print(url)\n",
    "    print('\\n')\n",
    "    print('Sample Output\\n')\n",
    "    url = 'http://api.cfl.ca/v1/games/2015?key=T8Mv9BRDdcB7bMQUsQvHqtCGPewH5y8p'\n",
    "    response = requests.get(url).json()\n",
    "    games = response['data']\n",
    "    for game in games[0:3]:\n",
    "        game_id = game['game_id']\n",
    "        date_start = game['date_start']\n",
    "        print(game_id)\n",
    "        print(date_start)\n"
   ]
  },
  {
   "cell_type": "code",
   "execution_count": 31,
   "metadata": {},
   "outputs": [
    {
     "name": "stdout",
     "output_type": "stream",
     "text": [
      "2172\n",
      "2015-06-08T19:30:00-04:00\n",
      "2173\n",
      "2015-06-09T19:30:00-04:00\n",
      "2174\n",
      "2015-06-12T19:30:00-04:00\n",
      "2175\n",
      "2015-06-13T13:00:00-04:00\n",
      "2176\n",
      "2015-06-13T14:00:00-04:00\n",
      "2177\n",
      "2015-06-18T19:30:00-04:00\n",
      "2178\n",
      "2015-06-19T19:30:00-04:00\n",
      "2179\n",
      "2015-06-19T19:30:00-04:00\n",
      "2180\n",
      "2015-06-20T20:08:00-04:00\n",
      "2181\n",
      "2015-06-25T19:30:00-04:00\n",
      "2182\n",
      "2015-06-26T19:00:00-04:00\n",
      "2183\n",
      "2015-06-27T15:00:00-04:00\n",
      "2184\n",
      "2015-06-27T18:00:00-04:00\n",
      "2185\n",
      "2015-07-02T19:30:00-04:00\n",
      "2186\n",
      "2015-07-03T19:30:00-04:00\n",
      "2187\n",
      "2015-07-04T18:00:00-04:00\n",
      "2188\n",
      "2015-07-05T13:30:00-04:00\n",
      "2189\n",
      "2015-07-09T19:00:00-04:00\n",
      "2190\n",
      "2015-07-10T18:00:00-04:00\n",
      "2191\n",
      "2015-07-10T19:00:00-04:00\n",
      "2192\n",
      "2015-07-13T19:00:00-04:00\n",
      "2193\n",
      "2015-07-16T19:30:00-04:00\n",
      "2194\n",
      "2015-07-17T19:00:00-04:00\n",
      "2195\n",
      "2015-07-17T20:00:00-04:00\n",
      "2196\n",
      "2015-07-18T17:00:00-04:00\n",
      "2198\n",
      "2015-07-24T19:00:00-04:00\n",
      "2197\n",
      "2015-07-24T19:00:00-04:00\n",
      "2199\n",
      "2015-07-25T17:00:00-04:00\n",
      "2200\n",
      "2015-07-26T17:00:00-04:00\n",
      "2201\n",
      "2015-07-30T19:30:00-04:00\n",
      "2202\n",
      "2015-07-31T19:00:00-04:00\n",
      "2203\n",
      "2015-08-01T17:00:00-04:00\n",
      "2204\n",
      "2015-08-03T19:00:00-04:00\n",
      "2205\n",
      "2015-08-06T19:00:00-04:00\n",
      "2206\n",
      "2015-08-07T19:30:00-04:00\n",
      "2207\n",
      "2015-08-08T19:00:00-04:00\n",
      "2208\n",
      "2015-08-09T17:00:00-04:00\n",
      "2209\n",
      "2015-08-13T19:30:00-04:00\n",
      "2210\n",
      "2015-08-14T19:00:00-04:00\n",
      "2211\n",
      "2015-08-15T19:00:00-04:00\n",
      "2212\n",
      "2015-08-15T20:00:00-04:00\n",
      "2213\n",
      "2015-08-20T19:00:00-04:00\n",
      "2214\n",
      "2015-08-21T19:00:00-04:00\n",
      "2215\n",
      "2015-08-22T17:00:00-04:00\n",
      "2216\n",
      "2015-08-23T16:00:00-04:00\n",
      "2217\n",
      "2015-08-27T19:30:00-04:00\n",
      "2218\n",
      "2015-08-28T19:00:00-04:00\n",
      "2219\n",
      "2015-08-29T17:00:00-04:00\n",
      "2220\n",
      "2015-08-30T16:00:00-04:00\n",
      "2221\n",
      "2015-09-03T19:30:00-04:00\n",
      "2222\n",
      "2015-09-06T14:00:00-04:00\n",
      "2223\n",
      "2015-09-07T13:00:00-04:00\n",
      "2224\n",
      "2015-09-07T14:30:00-04:00\n",
      "2225\n",
      "2015-09-11T19:30:00-04:00\n",
      "2226\n",
      "2015-09-12T17:30:00-04:00\n",
      "2227\n",
      "2015-09-12T19:30:00-04:00\n",
      "2228\n",
      "2015-09-13T13:00:00-04:00\n",
      "2229\n",
      "2015-09-18T19:00:00-04:00\n",
      "2230\n",
      "2015-09-19T16:00:00-04:00\n",
      "2231\n",
      "2015-09-19T19:00:00-04:00\n",
      "2232\n",
      "2015-09-20T13:00:00-04:00\n",
      "2233\n",
      "2015-09-25T19:30:00-04:00\n",
      "2234\n",
      "2015-09-26T14:00:00-04:00\n",
      "2235\n",
      "2015-09-26T19:00:00-04:00\n",
      "2236\n",
      "2015-09-27T14:00:00-04:00\n",
      "2237\n",
      "2015-10-01T19:30:00-04:00\n",
      "2238\n",
      "2015-10-02T19:30:00-04:00\n",
      "2239\n",
      "2015-10-03T15:00:00-04:00\n",
      "2240\n",
      "2015-10-03T16:00:00-04:00\n",
      "2241\n",
      "2015-10-06T19:30:00-04:00\n",
      "2242\n",
      "2015-10-09T19:30:00-04:00\n",
      "2243\n",
      "2015-10-10T17:00:00-04:00\n",
      "2244\n",
      "2015-10-10T19:00:00-04:00\n",
      "2245\n",
      "2015-10-12T13:00:00-04:00\n",
      "2246\n",
      "2015-10-16T19:30:00-04:00\n",
      "2247\n",
      "2015-10-17T16:00:00-04:00\n",
      "2248\n",
      "2015-10-17T17:00:00-04:00\n",
      "2249\n",
      "2015-10-18T13:00:00-04:00\n",
      "2250\n",
      "2015-10-23T19:00:00-04:00\n",
      "2251\n",
      "2015-10-23T19:00:00-04:00\n",
      "2252\n",
      "2015-10-24T15:00:00-04:00\n",
      "2253\n",
      "2015-10-24T17:00:00-04:00\n",
      "2254\n",
      "2015-10-30T19:00:00-04:00\n",
      "2255\n",
      "2015-10-31T13:00:00-04:00\n",
      "2256\n",
      "2015-11-01T13:00:00-05:00\n",
      "2257\n",
      "2015-11-01T14:00:00-05:00\n",
      "2258\n",
      "2015-11-06T19:30:00-05:00\n",
      "2259\n",
      "2015-11-07T16:00:00-05:00\n",
      "2260\n",
      "2015-11-07T16:00:00-05:00\n",
      "2261\n",
      "2015-11-08T13:00:00-05:00\n",
      "2262\n",
      "2015-11-15T13:00:00-05:00\n",
      "2263\n",
      "2015-11-15T16:30:00-05:00\n",
      "2264\n",
      "2015-11-22T13:00:00-05:00\n",
      "2265\n",
      "2015-11-22T16:30:00-05:00\n",
      "2266\n",
      "2015-11-29T17:00:00-05:00\n"
     ]
    }
   ],
   "source": [
    "url = 'http://api.cfl.ca/v1/games/2015?key=T8Mv9BRDdcB7bMQUsQvHqtCGPewH5y8p'\n",
    "response = requests.get(url).json()\n",
    "games = response['data']\n",
    "for game in games:\n",
    "    game_id = game['game_id']\n",
    "    date_start = game['date_start']\n",
    "    print(game_id)\n",
    "    print(date_start)"
   ]
  },
  {
   "cell_type": "code",
   "execution_count": null,
   "metadata": {},
   "outputs": [],
   "source": [
    "#-----------------------------------source2-----------------------------------"
   ]
  },
  {
   "cell_type": "code",
   "execution_count": 20,
   "metadata": {},
   "outputs": [],
   "source": [
    "# sys.argv[1] is the content you typed in the command line\n",
    "if sys.argv[1] == 'source2':\n",
    "    print('\\n')\n",
    "    print('*** Outputing data source 2 *** ')\n",
    "    print('\\n')\n",
    "    url = 'https://book.douban.com/'\n",
    "    print('The data contains the most popular books nowadays in the China largest reading website.\\n')\n",
    "    print('we are grabbing the name and the detail description link of the book. \\n')\n",
    "    print('URL:')\n",
    "    print(url)\n",
    "    print('\\n')\n",
    "    print('Sample Output\\n')\n",
    "    url = 'https://book.douban.com/'\n",
    "    html = urllib.request.urlopen(url).read()\n",
    "    soup = BeautifulSoup(html, 'lxml')\n",
    "\n",
    "    temp2 = soup.find_all('div', class_=\"title\")\n",
    "\n",
    "    name1 = temp2[1].get_text()\n",
    "    name1 = name1[1:len(name1)-1]\n",
    "    link1 = temp2[1].find('a').get('href', None)\n",
    "    print(name1, link1)\n",
    "\n",
    "    name1 = temp2[2].get_text()\n",
    "    name1 = name1[2:len(name1)-1]\n",
    "    link1 = temp2[2].find('a').get('href', None)\n",
    "    print(name1, link1)\n",
    "\n",
    "    name1 = temp2[3].get_text()\n",
    "    name1 = name1[3:len(name1)-1]\n",
    "    link1 = temp2[2].find('a').get('href', None)\n",
    "    print(name1, link1)"
   ]
  },
  {
   "cell_type": "code",
   "execution_count": 78,
   "metadata": {},
   "outputs": [
    {
     "name": "stdout",
     "output_type": "stream",
     "text": [
      "绩效使能：超越OKR https://book.douban.com/subject/30488568/?icn=index-latestbook-subject\n",
      "身符1 https://book.douban.com/subject/30389739/?icn=index-latestbook-subject\n",
      "与边缘 https://book.douban.com/subject/30389739/?icn=index-latestbook-subject\n"
     ]
    }
   ],
   "source": []
  },
  {
   "cell_type": "code",
   "execution_count": null,
   "metadata": {},
   "outputs": [],
   "source": [
    "#-----------------------------------source3-----------------------------------"
   ]
  },
  {
   "cell_type": "code",
   "execution_count": 39,
   "metadata": {},
   "outputs": [],
   "source": [
    "# sys.argv[1] is the content you typed in the command line\n",
    "if sys.argv[1] == 'source3':\n",
    "    print('\\n')\n",
    "    print('*** Outputing data source 3 *** ')\n",
    "    print('\\n')\n",
    "    url = 'https://www.imdb.com/movies-in-theaters/?ref_=nv_tp_inth_1'\n",
    "    print('It contains the movie imformation.\\n')\n",
    "    print('we are grabbing the Movie Synopsis. \\n')\n",
    "    print('URL:')\n",
    "    print(url)\n",
    "    print('\\n')\n",
    "    print('Sample Output\\n')\n",
    "    url = 'https://www.imdb.com/movies-in-theaters/?ref_=nv_tp_inth_1'\n",
    "    html = urllib.request.urlopen(url).read()\n",
    "    soup = BeautifulSoup(html, 'lxml')\n",
    "    temp2 = soup.find_all('td', class_=\"overview-top\")\n",
    "\n",
    "    print(temp2[0].find_all('div', class_ = 'outline')[0].get_text()[3:])\n",
    "    print(temp2[1].find_all('div', class_ = 'outline')[0].get_text()[3:])\n",
    "    print(temp2[2].find_all('div', class_ = 'outline')[0].get_text()[3:])\n"
   ]
  },
  {
   "cell_type": "code",
   "execution_count": 134,
   "metadata": {
    "scrolled": true
   },
   "outputs": [
    {
     "name": "stdout",
     "output_type": "stream",
     "text": [
      "  Ignoring the eerie warning of a troubled mother suspected of child endangerment, a social worker and her own small kids are soon drawn into a frightening supernatural realm.                    \n",
      "  The story of Steve, an Adélie penguin, on a quest to find a life partner and start a family. When Steve meets with Wuzzo the emperor penguin they become friends. But nothing comes easy in the icy Antarctic.                    \n",
      "  Drama set in the 1940s during the partition of India.                    \n"
     ]
    }
   ],
   "source": [
    "\n"
   ]
  },
  {
   "cell_type": "code",
   "execution_count": 128,
   "metadata": {},
   "outputs": [
    {
     "data": {
      "text/plain": [
       "[<div class=\"outline\">\n",
       "     Ignoring the eerie warning of a troubled mother suspected of child endangerment, a social worker and her own small kids are soon drawn into a frightening supernatural realm.                    </div>]"
      ]
     },
     "execution_count": 128,
     "metadata": {},
     "output_type": "execute_result"
    }
   ],
   "source": [
    "temp2[0].find_all('div', class_ = 'outline')"
   ]
  },
  {
   "cell_type": "code",
   "execution_count": 129,
   "metadata": {},
   "outputs": [
    {
     "data": {
      "text/plain": [
       "bs4.element.ResultSet"
      ]
     },
     "execution_count": 129,
     "metadata": {},
     "output_type": "execute_result"
    }
   ],
   "source": [
    "type(temp2[0].find_all('div', class_ = 'outline'))"
   ]
  },
  {
   "cell_type": "code",
   "execution_count": 130,
   "metadata": {},
   "outputs": [
    {
     "name": "stdout",
     "output_type": "stream",
     "text": [
      "[<div class=\"outline\">\n",
      "    Ignoring the eerie warning of a troubled mother suspected of child endangerment, a social worker and her own small kids are soon drawn into a frightening supernatural realm.                    </div>]\n"
     ]
    }
   ],
   "source": [
    "print(temp2[0].find_all('div', class_ = 'outline'))"
   ]
  },
  {
   "cell_type": "code",
   "execution_count": 133,
   "metadata": {},
   "outputs": [
    {
     "data": {
      "text/plain": [
       "'  Ignoring the eerie warning of a troubled mother suspected of child endangerment, a social worker and her own small kids are soon drawn into a frightening supernatural realm.                    '"
      ]
     },
     "execution_count": 133,
     "metadata": {},
     "output_type": "execute_result"
    }
   ],
   "source": [
    "temp2[0].find_all('div', class_ = 'outline')[0].get_text()[3:]"
   ]
  },
  {
   "cell_type": "code",
   "execution_count": null,
   "metadata": {},
   "outputs": [],
   "source": []
  }
 ],
 "metadata": {
  "kernelspec": {
   "display_name": "Python 3",
   "language": "python",
   "name": "python3"
  },
  "language_info": {
   "codemirror_mode": {
    "name": "ipython",
    "version": 3
   },
   "file_extension": ".py",
   "mimetype": "text/x-python",
   "name": "python",
   "nbconvert_exporter": "python",
   "pygments_lexer": "ipython3",
   "version": "3.7.1"
  }
 },
 "nbformat": 4,
 "nbformat_minor": 2
}
