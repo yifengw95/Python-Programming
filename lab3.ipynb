{
 "cells": [
  {
   "cell_type": "markdown",
   "metadata": {},
   "source": [
    "INF 510, Lab #3\n",
    "---------------\n",
    "\n",
    "Thursday, January 24 2019 (4:30 - 6:20pm)\n",
    "\n",
    " \n",
    "\n",
    "### Lab rules\n",
    "\n",
    "1.  Please read the instructions and pronlem prompts **carefully**.  Be sure to solve the problem the way it is asked (i.e. are you supposed to define a function?  Catch exceptions?  Use a particular construct?)  Solutions that \"work\", but are not composed according to the directions will not receive [full] credit\n",
    "\n",
    "2.  This lab is to be done *individually*. You may talk to your fellow classmates about general issues (*\"Remind me again: What's the difference between a parameter and an argument?\"*) but not about the specifics of how to do these exercises.\n",
    "\n",
    "3.  Along a similar vein, you can ask the TA for help, but ask questions about **concepts**.  (i.e. *\"I don’t understand how the else block works\"*, not \"*my program isn’t doing what I want\"*).  The TA is there to help, but not to do your work for you.\n",
    "\n",
    "4.  You are welcome to use the class resources and the Internet. But try to google for *concepts*, not your specific tasks.  The goal for you to begin to start thinking algorithmically, and hopefully memorize a little syntax by osmosis. If you just blindly do the exercises, without actually *thinking* about them, the next time you see something related but slightly altered — like, say, on an exam — you won’t be able to solve the problem. So avoid brainlessly cutting and pasting code snippets.\n",
    "\n",
    "5.  Play with variations. Solve one of the problems, and then copy the code to a new cell and play around with it. Experiment! Break stuff! Doing this is **the single most important thing** when learning a programming language.\n",
    "\n",
    "6.  When you have finished all the exercises, let the TA know, and he will check your work.  Presuming you’ve done things correctly, you’re free to go.\n",
    "\n",
    "7.  Have fun!\n",
    "\n",
    "\n"
   ]
  },
  {
   "cell_type": "markdown",
   "metadata": {},
   "source": [
    "### Problem 1\n",
    "\n",
    "Think about a program which repeatedly reads first names until the user enters \"done\". Once \"done\" is entered, it prints out the count, average length, and summed length of all the names. Keep in mind this should check if the input is a legit first name (No spaces or numbers)\n",
    "\n",
    "How might you design this program?  Think about the different \"parts\" it contains: there's probably a loop of some sort, and a few conditionals based on what the user inputs. **Hint**: You can use `for` loops inside of other loops.\n",
    "\n",
    "Write down in English -- or in *pseudo-code* -- how this program might look.  For example, if I was going to write a program that added up the length of every string in a list of strings I might write the following:\n",
    "\n",
    "~~~~~~~~~~~~~~~~~~~~~~~~~~~~~~~~~~~~~~~~~~~~~~~~~~~~~~~~~~~~~~~~~~~~~~~~~~~~~~~~\n",
    "set some running total to zero\n",
    "iterate through the list\n",
    "for each element in the list, I need to do some stuff:\n",
    "     check if the element is a legit first name\n",
    "     if it is then I should\n",
    "          add the length of the first name to my running total\n",
    "     if it is not legit then I should\n",
    "          tell the user to do it right next time and move on to the next element\n",
    "~~~~~~~~~~~~~~~~~~~~~~~~~~~~~~~~~~~~~~~~~~~~~~~~~~~~~~~~~~~~~~~~~~~~~~~~~~~~~~~~\n",
    "\n",
    "Write your answer in the next cell, replacing the \"Replace this with your answer\" text in between the dashed lines.  Be **sure** to leave the \"-----------\" lines there. "
   ]
  },
  {
   "cell_type": "markdown",
   "metadata": {},
   "source": [
    "#### Problem 1 Answer:\n",
    "~~~~~~~~~~~~~~~~~~~~~~~~~~~~~~~~~~~~~~~~~~~~~~~~~~~~~~~~~~~~~~~~~~~~~~~~~~~~~~~~\n",
    "# Replace this text with your answer to Problem 1.  Leave the dashed lines above and below.\n",
    "\n",
    "set the average lengthe to zero\n",
    "set the total lengths to zero\n",
    "set the count to zero \n",
    "iterate all the times until it trigger the 'break' statement\n",
    "    check if the input is legal\n",
    "    if it is not\n",
    "        it need to suggest the user to input the correct format\n",
    "    if it is not\n",
    "        check if the input is 'done'\n",
    "            if it is\n",
    "                break the while loop\n",
    "            if it is not\n",
    "                update all the value\n",
    "print out all the updated value\n",
    "~~~~~~~~~~~~~~~~~~~~~~~~~~~~~~~~~~~~~~~~~~~~~~~~~~~~~~~~~~~~~~~~~~~~~~~~~~~~~~~~\n",
    "\n"
   ]
  },
  {
   "cell_type": "markdown",
   "metadata": {},
   "source": [
    "### Problem 2\n",
    "\n",
    "Actually implmement the program described in Problem 1.\n",
    "**HINT**: This should handle the case where the user enters no first names"
   ]
  },
  {
   "cell_type": "code",
   "execution_count": null,
   "metadata": {},
   "outputs": [
    {
     "name": "stdout",
     "output_type": "stream",
     "text": [
      "please just enter your first name \n",
      "Mary-Beth\n",
      "the format is illegal\n"
     ]
    }
   ],
   "source": [
    "count = 0\n",
    "sum_length = 0\n",
    "ave_length = 0\n",
    "while(True):\n",
    "    name = input(\"please just enter your first name \\n\")\n",
    "    if name.isalpha() == False:\n",
    "        print('the format is illegal')\n",
    "        continue\n",
    "    else:\n",
    "        if name == 'done':\n",
    "            break\n",
    "        else:\n",
    "            count = count + 1\n",
    "            sum_length = sum_length + len(name)\n",
    "if(count == 0):\n",
    "    count = 0\n",
    "    sum_length = 0\n",
    "    ave_length = 0\n",
    "else:\n",
    "    ave_length = sum_length / count\n",
    "\n",
    "print('the count of all first names is {number}'.format(number = count))\n",
    "print('the average length of all first names is {number}'.format(number = ave_length))\n",
    "print('the sum lengths of all first names is {number}'.format(number = sum_length))"
   ]
  },
  {
   "cell_type": "markdown",
   "metadata": {},
   "source": [
    "### Problem 3\n",
    "\n",
    "Write a function called *letter_count* that takes two arguments, \"word\" and \"letter\", and returns how many times that letter appears in the word.\n",
    "\n",
    "For example:\n",
    "~~~~~~~~~~~~~~~~~~~~~~~~~~~~~~~~~~~~~~~~~~~~~~~~~~~~~~~~~~~~~~~~~~~~~~~~~~~~~~~~\n",
    "> count = letter_count('jeremy', 'e')\n",
    "> print(count)\n",
    "2\n",
    "> count = letter_count('jeremy', 'z')\n",
    "> print(count)\n",
    "0\n",
    "~~~~~~~~~~~~~~~~~~~~~~~~~~~~~~~~~~~~~~~~~~~~~~~~~~~~~~~~~~~~~~~~~~~~~~~~~~~~~~~~\n"
   ]
  },
  {
   "cell_type": "code",
   "execution_count": 3,
   "metadata": {},
   "outputs": [],
   "source": [
    "def letter_count (word, letter):\n",
    "    count = 0\n",
    "    for i in word:\n",
    "        if i == letter:\n",
    "            count = count + 1\n",
    "    return count"
   ]
  },
  {
   "cell_type": "code",
   "execution_count": 4,
   "metadata": {},
   "outputs": [
    {
     "name": "stdout",
     "output_type": "stream",
     "text": [
      "2\n"
     ]
    }
   ],
   "source": [
    "count = letter_count('jeremy', 'e')\n",
    "print(count)"
   ]
  },
  {
   "cell_type": "code",
   "execution_count": 6,
   "metadata": {},
   "outputs": [
    {
     "name": "stdout",
     "output_type": "stream",
     "text": [
      "0\n"
     ]
    }
   ],
   "source": [
    "count = letter_count('jeremy', 'z')\n",
    "print(count)"
   ]
  },
  {
   "cell_type": "markdown",
   "metadata": {},
   "source": [
    "### Problem 4\n",
    "\n",
    "Write a function called *get_filename* that takes one argument, *file_list*, which a list of strings.  The function should print out each file name in the list, without the surrounding extenstion or path information (see example below).  The function should return the *total* length of all filenames added together.  Again, see the sample output below:\n",
    "\n",
    "For example:\n",
    "~~~~~~~~~~~~~~~~~~~~~~~~~~~~~~~~~~~~~~~~~~~~~~~~~~~~~~~~~~~~~~~~~~~~~~~~~~~~~~~~\n",
    "> my_list = ['/Users/file1.txt', '/Users/jeremy/file2.txt', '/a.doc']\n",
    "> total = get_filename(my_list)\n",
    "file1\n",
    "file2\n",
    "a\n",
    "> print(total)\n",
    "11\n",
    "\n",
    "~~~~~~~~~~~~~~~~~~~~~~~~~~~~~~~~~~~~~~~~~~~~~~~~~~~~~~~~~~~~~~~~~~~~~~~~~~~~~~~~\n",
    "\n",
    "**HINT**: The *rfind* method works on strings much like the *find* method we saw in class, but it starts searching on the **right** side of the string, not the left.  \n",
    "\n",
    "**HINT**: A filepath can have multiple '.' characters in it (e.g. /Users/Tobi/project/.git/logfile.txt\n",
    "\n",
    "You can [should] use the sample lists in the cell below.\n"
   ]
  },
  {
   "cell_type": "code",
   "execution_count": 12,
   "metadata": {},
   "outputs": [],
   "source": [
    "# Use these to text out your program\n",
    "my_list1 = ['/Users/file1.txt', '/Users/jeremy/file2.txt', '/a.doc']\n",
    "my_list2 = ['/a.doc', '/root/superlongfilename.superlongextension']\n",
    "my_list3 = ['/we/will/not/keep/any/of/this/file.ext', '/this/either/a.txt']"
   ]
  },
  {
   "cell_type": "code",
   "execution_count": 24,
   "metadata": {},
   "outputs": [],
   "source": [
    "def get_filename (file_list):\n",
    "    length = 0\n",
    "    for file in file_list:\n",
    "        loc_start = file.rfind('/')\n",
    "        loc_end = file.rfind('.')\n",
    "        outcome = file[loc_start+1:loc_end]\n",
    "        print(outcome)\n",
    "        length = length + len(outcome)\n",
    "    return length"
   ]
  },
  {
   "cell_type": "code",
   "execution_count": 25,
   "metadata": {},
   "outputs": [
    {
     "name": "stdout",
     "output_type": "stream",
     "text": [
      "file1\n",
      "file2\n",
      "a\n",
      "11\n"
     ]
    }
   ],
   "source": [
    "total = get_filename(my_list1)\n",
    "print(total)"
   ]
  },
  {
   "cell_type": "code",
   "execution_count": 26,
   "metadata": {},
   "outputs": [
    {
     "name": "stdout",
     "output_type": "stream",
     "text": [
      "a\n",
      "superlongfilename\n"
     ]
    },
    {
     "data": {
      "text/plain": [
       "18"
      ]
     },
     "execution_count": 26,
     "metadata": {},
     "output_type": "execute_result"
    }
   ],
   "source": [
    "get_filename(my_list2)"
   ]
  },
  {
   "cell_type": "code",
   "execution_count": 27,
   "metadata": {},
   "outputs": [
    {
     "name": "stdout",
     "output_type": "stream",
     "text": [
      "file\n",
      "a\n"
     ]
    },
    {
     "data": {
      "text/plain": [
       "5"
      ]
     },
     "execution_count": 27,
     "metadata": {},
     "output_type": "execute_result"
    }
   ],
   "source": [
    "get_filename(my_list3)"
   ]
  },
  {
   "cell_type": "code",
   "execution_count": null,
   "metadata": {},
   "outputs": [],
   "source": []
  }
 ],
 "metadata": {
  "kernelspec": {
   "display_name": "Python 3",
   "language": "python",
   "name": "python3"
  },
  "language_info": {
   "codemirror_mode": {
    "name": "ipython",
    "version": 3
   },
   "file_extension": ".py",
   "mimetype": "text/x-python",
   "name": "python",
   "nbconvert_exporter": "python",
   "pygments_lexer": "ipython3",
   "version": "3.7.1"
  }
 },
 "nbformat": 4,
 "nbformat_minor": 2
}
