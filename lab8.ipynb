{
 "cells": [
  {
   "cell_type": "markdown",
   "metadata": {},
   "source": [
    "INF 510, Lab #8\n",
    "---------------\n",
    "\n",
    "Thursday, March 7, 2019 (4:30 - 6:20pm)\n",
    "\n",
    "\n",
    "\n",
    "### Lab rules\n",
    "\n",
    "1.  Please read the instructions and problem prompts **carefully**.  Be sure to solve the problem the way it is asked (i.e. are you supposed to define a function?  Catch exceptions?  Use a particular construct?)  Solutions that \"work\", but are not composed according to the directions will not receive [full] credit\n",
    "\n",
    "2.  This lab is to be done *individually*. You may talk to your fellow classmates about general issues (*\"Remind me again: What's the difference between a parameter and an argument?\"*) but not about the specifics of how to do these exercises.\n",
    "\n",
    "3.  Along a similar vein, you can ask the TA for help, but ask questions about **concepts**.  (i.e. *\"I donâ€™t understand how the else block works\"*, not \"*my program isnâ€™t doing what I want\"*).  The TA is there to help, but not to do your work for you.\n",
    "\n",
    "4.  You are welcome to use the class resources and the Internet. But try to google for *concepts*, not your specific tasks.  The goal for you to begin to start thinking algorithmically, and hopefully memorize a little syntax by osmosis. If you just blindly do the exercises, without actually *thinking* about them, the next time you see something related but slightly altered â€” like, say, on an exam â€” you wonâ€™t be able to solve the problem. So avoid brainlessly cutting and pasting code snippets.\n",
    "\n",
    "5.  Play with variations. Solve one of the problems, and then copy the code to a new cell and play around with it. Experiment! Break stuff! Doing this is **the single most important thing** when learning a programming language.\n",
    "\n",
    "6.  When you have finished all the exercises, let the TA know, and he will check your work.  Presuming youâ€™ve done things correctly, youâ€™re free to go.\n",
    "\n",
    "7.  Have fun!\n",
    "\n",
    "\n",
    "\n"
   ]
  },
  {
   "cell_type": "markdown",
   "metadata": {},
   "source": [
    "\n",
    "You're going to scrape some football recruiting data from ESPN.com.  Don't worry if none of the actual data makes sense; it's not important, but sports data tends to be nice and tabular, but also with the complexities you'll find out in the wild.\n",
    "\n",
    "The base URL is below:"
   ]
  },
  {
   "cell_type": "code",
   "execution_count": 1,
   "metadata": {
    "collapsed": true
   },
   "outputs": [],
   "source": [
    "url = 'http://www.espn.com/college-sports/football/recruiting/playerrankings/_/region/Midlands/class/2019/view/region'"
   ]
  },
  {
   "cell_type": "markdown",
   "metadata": {},
   "source": [
    "What we want is an output that looks like this:\n",
    "~~~~~~~~~~~~~~~~~~~~~~~~~~~~~~~~~~~~~~~~~~~~~~~~~~~~~~~~~~~~~~~~~~~~~~~~~~~~~~~~~~~~~~~~~~~~~~~~~~~~~~~~~~~~~~~~~~~~~~\n",
    "Leonard Fournette http://www.espn.com/college-sports/football/recruiting/player/_/id/168066/leonard-fournette 95 RB lsu\n",
    "Jabrill Peppers http://www.espn.com/college-sports/football/recruiting/player/_/id/163134/jabrill-peppers 95 CB michigan\n",
    "Cameron Robinson http://www.espn.com/college-sports/football/recruiting/player/_/id/167571/cameron-robinson 95 OT alabama\n",
    "Myles Garrett http://www.espn.com/college-sports/football/recruiting/player/_/id/158532/myles-garrett 95 DE texas-am\n",
    "Andrew Brown http://www.espn.com/college-sports/football/recruiting/player/_/id/141550/andrew-brown 94 DT virginia\n",
    "Da'Shawn Hand http://www.espn.com/college-sports/football/recruiting/player/_/id/148337/dashawn-hand 94 DE alabama\n",
    "Speedy Noil http://www.espn.com/college-sports/football/recruiting/player/_/id/167452/speedy-noil 93 ATH texas-am\n",
    "Tony Brown http://www.espn.com/college-sports/football/recruiting/player/_/id/157994/tony-brown 92 CB alabama\n",
    "Adoree' Jackson http://www.espn.com/college-sports/football/recruiting/player/_/id/158254/adoree-jackson 91 CB usc\n",
    "Quin Blanding http://www.espn.com/college-sports/football/recruiting/player/_/id/162442/quin-blanding 90 S virginia\n",
    "Jalen Tabor http://www.espn.com/college-sports/football/recruiting/player/_/id/144371/jalen-tabor 90 CB florida\n",
    "Bo Scarbrough http://www.espn.com/college-sports/football/recruiting/player/_/id/153062/bo-scarbrough 90 ATH alabama\n",
    "Raekwon McMillan http://www.espn.com/college-sports/football/recruiting/player/_/id/130263/raekwon-mcmillan 90 ILB ohio-state\n",
    "Lorenzo Carter http://www.espn.com/college-sports/football/recruiting/player/_/id/166897/lorenzo-carter 90 DE georgia\n",
    "Marlon Humphrey http://www.espn.com/college-sports/football/recruiting/player/_/id/150962/marlon-humphrey 90 CB alabama\n",
    "Deshaun Watson http://www.espn.com/college-sports/football/recruiting/player/_/id/138829/deshaun-watson 88 QB-DT clemson\n",
    "Malachi Dupre http://www.espn.com/college-sports/football/recruiting/player/_/id/169207/malachi-dupre 88 WR lsu\n",
    "Jamal Adams http://www.espn.com/college-sports/football/recruiting/player/_/id/157051/jamal-adams 88 S lsu\n",
    "Sony Michel http://www.espn.com/college-sports/football/recruiting/player/_/id/128201/sony-michel 88 RB georgia\n",
    "David Sharpe http://www.espn.com/college-sports/football/recruiting/player/_/id/176120/david-sharpe 88 OT florida\n",
    "Dalvin Cook http://www.espn.com/college-sports/football/recruiting/player/_/id/162925/dalvin-cook 87 RB florida-state\n",
    "Ermon Lane http://www.espn.com/college-sports/football/recruiting/player/_/id/129750/ermon-lane 87 WR florida-state\n",
    "Joseph Yearby http://www.espn.com/college-sports/football/recruiting/player/_/id/162993/joseph-yearby 87 RB miami-fl\n",
    "Juju Smith http://www.espn.com/college-sports/football/recruiting/player/_/id/130306/juju-smith 87 ATH usc\n",
    "Solomon Thomas http://www.espn.com/college-sports/football/recruiting/player/_/id/157940/solomon-thomas 87 DE stanford\n",
    "Damian Prince http://www.espn.com/college-sports/football/recruiting/player/_/id/151224/damian-prince 87 OT maryland\n",
    "Laurence Jones http://www.espn.com/college-sports/football/recruiting/player/_/id/158042/laurence-jones 86 S alabama\n",
    "Racean Thomas http://www.espn.com/college-sports/football/recruiting/player/_/id/164046/racean-thomas 85 RB auburn\n",
    "Trey Quinn http://www.espn.com/college-sports/football/recruiting/player/_/id/140712/trey-quinn 85 WR lsu\n",
    "K.D. Cannon http://www.espn.com/college-sports/football/recruiting/player/_/id/166530/kd-cannon 85 WR baylor\n",
    "~~~~~~~~~~~~~~~~~~~~~~~~~~~~~~~~~~~~~~~~~~~~~~~~~~~~~~~~~~~~~~~~~~~~~~~~~~~~~~~~~~~~~~~~~~~~~~~~~~~~~~~~~~~~~~~~~~~~~~\n",
    "\n",
    "Basically, we have *player name*, *player link*, *player rating*, *position*, and *school*.  We're going to scrape 5 pieces of information, and we have to use a few different techniques to do so."
   ]
  },
  {
   "cell_type": "markdown",
   "metadata": {},
   "source": [
    "Import what you'd need to get data from the web and scrape it"
   ]
  },
  {
   "cell_type": "code",
   "execution_count": null,
   "metadata": {
    "collapsed": true
   },
   "outputs": [],
   "source": [
    "BeautifulSoup(page.text, \"lxml\")"
   ]
  },
  {
   "cell_type": "markdown",
   "metadata": {},
   "source": [
    "Get the webpage, and run it through the Beautiful Soup parser"
   ]
  },
  {
   "cell_type": "code",
   "execution_count": 3,
   "metadata": {
    "collapsed": true
   },
   "outputs": [],
   "source": []
  },
  {
   "cell_type": "markdown",
   "metadata": {},
   "source": [
    "### Problem 1 (1 points)\n",
    "Find the \"main\" overarching structure of thing we're scraping, which is in this case is a table.  You'll have to use the \"web inspector\" (or equivalent) to do this. **The overarching structure is not the table tag itself**\n",
    "   "
   ]
  },
  {
   "cell_type": "code",
   "execution_count": null,
   "metadata": {
    "collapsed": true
   },
   "outputs": [],
   "source": []
  },
  {
   "cell_type": "markdown",
   "metadata": {},
   "source": [
    "### Problem 2 (3 points)\n",
    "Next, find the rows we want to look at, and iterate through them.  There are a number of ways to do this, but keep in mind, we want to avoid header rows, and other rows that don't contain useful information.\n",
    "\n",
    "One potential way is by use of a semi-regular expression format built in to Beautiful Soup.  Using a \n",
    "~~~~~~~~~~~~~~~~~~~~~~~~~~~~~~~~~~~~~~~~~~~~~~~~~~~~~~~~~~~~~~~~~~~~~~~~~~~~~~~~~~~~~~~~~~~~\n",
    "soup.select('TAGNAME[attribute*=\"value\"]') \n",
    "~~~~~~~~~~~~~~~~~~~~~~~~~~~~~~~~~~~~~~~~~~~~~~~~~~~~~~~~~~~~~~~~~~~~~~~~~~~~~~~~~~~~~~~~~~~~\n",
    "format, you can get all attributes with the value as a substring.  For example, the following code gets *all* div tags there the class attribute contains the string \"mod\" (so \"mod\", \"modular\", \"mod-awesome\" and \"blahmodblah\" should all match). \n",
    "\n",
    "Give it a shot, and play around with the returned result set!\n",
    "\n",
    "Note, you don't have to use this construct.  There are any number of ways of going about this."
   ]
  },
  {
   "cell_type": "code",
   "execution_count": 6,
   "metadata": {
    "collapsed": true
   },
   "outputs": [],
   "source": [
    "test_result = soup.select('div[class*=\"mod\"]')"
   ]
  },
  {
   "cell_type": "code",
   "execution_count": 7,
   "metadata": {},
   "outputs": [
    {
     "name": "stdout",
     "output_type": "stream",
     "text": [
      "<div class=\"mod-header-banner\"><h2>Recruiting Database</h2></div>\n",
      "<div class=\"mod-page-tabs mod-pagenav-tabs ui-tabs\"><ul class=\"ui-tabs ui-tabs-nav\"><li class=\"active\"><a href=\"http://www.espn.com/college-sports/football/recruiting/database\">Football</a></li><li><a href=\"http://www.espn.com/college-sports/basketball/recruiting/database\">Basketball</a></li></ul></div>\n"
     ]
    }
   ],
   "source": [
    "print(test_result[0])\n",
    "print(test_result[1])"
   ]
  },
  {
   "cell_type": "code",
   "execution_count": null,
   "metadata": {
    "collapsed": true
   },
   "outputs": [],
   "source": []
  },
  {
   "cell_type": "markdown",
   "metadata": {},
   "source": [
    "### Problem 3 (6 points)\n",
    "Now, we have to extract our data from the appropriate columns.\n",
    "\n",
    "Get the name (1 point), the player URL (1 point), the rating (2 point), and the position (2 point)\n",
    "\n",
    "Note that for the college, you may have to extract *attribute* information to get at it.  Look in the source, and see exactly where the data you're looking for is stored.  Be creative!  But keep in mind, you may have to split, filter, or otherwise alter the result of what Beautiful Soup gives you.  We want our output to match what's above as close as possible.  \n",
    "\n"
   ]
  },
  {
   "cell_type": "code",
   "execution_count": null,
   "metadata": {
    "collapsed": true
   },
   "outputs": [],
   "source": []
  },
  {
   "cell_type": "markdown",
   "metadata": {},
   "source": [
    "### Problem 4 (2 points)\n",
    "#### EXTRA CREDIT\n",
    "\n",
    "Scrape the number of pages of data available from this webpage, and write your scraper in a way that it can be parameterized to scrape a specific page (or range of pages).  Scraping the number of potential pages is straightforward (it's listed at the bottom of the page) but you'll have to be a bit creative with the URL in order to get it to go to a specific page.  Again, play around with the ESPN site a bit.  Explore!"
   ]
  },
  {
   "cell_type": "code",
   "execution_count": null,
   "metadata": {
    "collapsed": true
   },
   "outputs": [],
   "source": []
  }
 ],
 "metadata": {
  "kernelspec": {
   "display_name": "Python 3",
   "language": "python",
   "name": "python3"
  },
  "language_info": {
   "codemirror_mode": {
    "name": "ipython",
    "version": 3
   },
   "file_extension": ".py",
   "mimetype": "text/x-python",
   "name": "python",
   "nbconvert_exporter": "python",
   "pygments_lexer": "ipython3",
   "version": "3.6.5"
  }
 },
 "nbformat": 4,
 "nbformat_minor": 2
}
