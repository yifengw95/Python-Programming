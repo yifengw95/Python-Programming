{
 "cells": [
  {
   "cell_type": "markdown",
   "metadata": {},
   "source": [
    "# 1"
   ]
  },
  {
   "cell_type": "markdown",
   "metadata": {},
   "source": [
    "Exercise 3.3 <br/>\n",
    "Write a program to prompt for a score between 0.0 and 1.0. If the score is out of range, print an error message. If the score is between 0.0 and 1.0, print a grade using the following table:"
   ]
  },
  {
   "cell_type": "code",
   "execution_count": 33,
   "metadata": {},
   "outputs": [
    {
     "name": "stdout",
     "output_type": "stream",
     "text": [
      "Enter score:0.5\n",
      "Bad score\n"
     ]
    }
   ],
   "source": [
    "number_input = input(\"Enter score:\")\n",
    "try:\n",
    "    score = float(number_input)\n",
    "    if (score < 0) or (score > 1):\n",
    "        print('Bad score')\n",
    "    else:\n",
    "        if score >= 0.9:\n",
    "            print('A')\n",
    "        elif score >= 0.8:\n",
    "            print('B')\n",
    "        elif score >= 0.7:\n",
    "            print('C')\n",
    "        elif score >= 0.6:\n",
    "            print('D')\n",
    "        else:\n",
    "            print('F')\n",
    "except:\n",
    "    print('Bad score')"
   ]
  },
  {
   "cell_type": "markdown",
   "metadata": {},
   "source": [
    "# 2"
   ]
  },
  {
   "cell_type": "markdown",
   "metadata": {},
   "source": [
    "Exercise 4.7  \n",
    "Rewrite the grade program from the previous chapter using a func- tion called computegrade that takes a score as its parameter and returns a grade as a string."
   ]
  },
  {
   "cell_type": "code",
   "execution_count": 26,
   "metadata": {},
   "outputs": [],
   "source": [
    "def computegrade (number_input):\n",
    "    try:\n",
    "        score = float(number_input)\n",
    "        if (score < 0) or (score > 1):\n",
    "            print('Bad score')\n",
    "        else:\n",
    "            if score >= 0.9:\n",
    "                return('A')\n",
    "            elif score >= 0.8:\n",
    "                return('B')\n",
    "            elif score >= 0.7:\n",
    "                return('C')\n",
    "            elif score >= 0.6:\n",
    "                return('D')\n",
    "            else:\n",
    "                return('F')\n",
    "    except:\n",
    "        print('Bad score')"
   ]
  },
  {
   "cell_type": "code",
   "execution_count": 32,
   "metadata": {},
   "outputs": [
    {
     "name": "stdout",
     "output_type": "stream",
     "text": [
      "Bad score\n"
     ]
    }
   ],
   "source": [
    "computegrade(0.6)"
   ]
  },
  {
   "cell_type": "code",
   "execution_count": 20,
   "metadata": {},
   "outputs": [
    {
     "name": "stdout",
     "output_type": "stream",
     "text": [
      "Bad score\n"
     ]
    }
   ],
   "source": [
    "computegrade('perfect')"
   ]
  },
  {
   "cell_type": "markdown",
   "metadata": {},
   "source": [
    "# 3"
   ]
  },
  {
   "cell_type": "markdown",
   "metadata": {},
   "source": [
    "Exercise 6.3 <br> Encapsulate this code in a function named count, and generalize it so that it accepts the string and the letter as arguments."
   ]
  },
  {
   "cell_type": "code",
   "execution_count": 1,
   "metadata": {},
   "outputs": [],
   "source": [
    "def count (input_string, input_letter):\n",
    "    output = 0 \n",
    "    for letter in input_string:\n",
    "        if letter == input_letter:\n",
    "            output = output + 1\n",
    "    return output"
   ]
  },
  {
   "cell_type": "code",
   "execution_count": 2,
   "metadata": {},
   "outputs": [
    {
     "data": {
      "text/plain": [
       "3"
      ]
     },
     "execution_count": 2,
     "metadata": {},
     "output_type": "execute_result"
    }
   ],
   "source": [
    "count('banana','a')"
   ]
  },
  {
   "cell_type": "markdown",
   "metadata": {},
   "source": [
    "# 4"
   ]
  },
  {
   "cell_type": "markdown",
   "metadata": {},
   "source": [
    "Exercise 6.5 <br>Take the following Python code that stores a string:‘\n",
    "str = 'X-DSPAM-Confidence: 0.8475'\n",
    "Use find and string slicing to extract the portion of the string after the colon character and then use the float function to convert the extracted string into a floating point number."
   ]
  },
  {
   "cell_type": "code",
   "execution_count": 46,
   "metadata": {},
   "outputs": [
    {
     "data": {
      "text/plain": [
       "0.8475"
      ]
     },
     "execution_count": 46,
     "metadata": {},
     "output_type": "execute_result"
    }
   ],
   "source": [
    "str = 'X-DSPAM-Confidence: 0.8475'\n",
    "num_index  = str.find(':')\n",
    "num = str[num_index+1:]\n",
    "num = float(num)\n",
    "num"
   ]
  },
  {
   "cell_type": "markdown",
   "metadata": {},
   "source": [
    "# 5"
   ]
  },
  {
   "cell_type": "markdown",
   "metadata": {},
   "source": [
    "Write a program which prompts the user for a distance in meters, convert the distance to feet, and print out the converted distance. Catch exceptions for any non-numeric or invalid input, and ask the user to try again until they submit the correct input."
   ]
  },
  {
   "cell_type": "code",
   "execution_count": 48,
   "metadata": {},
   "outputs": [
    {
     "name": "stdout",
     "output_type": "stream",
     "text": [
      "enter the distance in metersdada\n",
      "the input is invalid, please try it again\n",
      "enter the distance in metersdqdqdq\\\n",
      "the input is invalid, please try it again\n",
      "enter the distance in meters1\n",
      "the distance in feet is 3.281\n"
     ]
    }
   ],
   "source": [
    "flag = True\n",
    "while(flag):\n",
    "    input_meters = input('enter the distance in meters')\n",
    "    try:\n",
    "        meters = float(input_meters)\n",
    "        feet = meters * 3.281\n",
    "        print('the distance in feet is {number}'.format(number = feet))\n",
    "        flag = False\n",
    "    except:\n",
    "        print('the input is invalid, please try it again')"
   ]
  },
  {
   "cell_type": "markdown",
   "metadata": {},
   "source": [
    "# 6"
   ]
  },
  {
   "cell_type": "markdown",
   "metadata": {},
   "source": [
    "You are to design a guessing test that generates a random integer number between 1 and 10 and repeatedly prompts the user for a guess, at each time indicates if the guess is lower or higher than the randomly generated number. When the use guesses correctly, the program should terminate and indicate the number of tries the user took to guess the number correctly."
   ]
  },
  {
   "cell_type": "code",
   "execution_count": 90,
   "metadata": {},
   "outputs": [
    {
     "name": "stdout",
     "output_type": "stream",
     "text": [
      "input your guessadad\n",
      "your input is not valid, please input it again\n",
      "input your guessqdq\n",
      "your input is not valid, please input it again\n",
      "input your guess1\n",
      "your guess is smaller than the real number\n",
      "input your guess4\n",
      "your guess is larger than the real number\n",
      "input your guess2\n",
      "your guess is accurate\n",
      "you took 3 guesses to get the accurate number\n"
     ]
    }
   ],
   "source": [
    "import random\n",
    "random_number = random.randint(1,10)\n",
    "count = 0\n",
    "while(True):\n",
    "    guess = input('input your guess')\n",
    "    try:\n",
    "        guess = int(guess)\n",
    "        count = count + 1\n",
    "        if guess > random_number:\n",
    "            print('your guess is larger than the real number')\n",
    "        elif guess < random_number:\n",
    "            print('your guess is smaller than the real number')\n",
    "        else:\n",
    "            print('your guess is accurate')\n",
    "            print('you took {number} guesses to get the accurate number'.format(number = count))\n",
    "            break\n",
    "    except:\n",
    "        print('your input is not valid, please input it again')"
   ]
  },
  {
   "cell_type": "code",
   "execution_count": null,
   "metadata": {},
   "outputs": [],
   "source": []
  }
 ],
 "metadata": {
  "kernelspec": {
   "display_name": "Python 3",
   "language": "python",
   "name": "python3"
  },
  "language_info": {
   "codemirror_mode": {
    "name": "ipython",
    "version": 3
   },
   "file_extension": ".py",
   "mimetype": "text/x-python",
   "name": "python",
   "nbconvert_exporter": "python",
   "pygments_lexer": "ipython3",
   "version": "3.7.1"
  }
 },
 "nbformat": 4,
 "nbformat_minor": 2
}
